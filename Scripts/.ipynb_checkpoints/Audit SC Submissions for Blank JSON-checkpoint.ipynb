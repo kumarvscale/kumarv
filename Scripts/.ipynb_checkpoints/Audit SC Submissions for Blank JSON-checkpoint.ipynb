{
 "cells": [
  {
   "cell_type": "code",
   "execution_count": null,
   "id": "a2d21d7e",
   "metadata": {},
   "outputs": [],
   "source": [
    "import time\n",
    "import hashlib\n",
    "from urllib.request import urlopen, Request\n",
    "import csv\n",
    "import pandas as pd\n",
    "import numpy as np\n",
    "import snowflake.connector\n",
    "from collections import defaultdict\n",
    "import json\n",
    "import re\n",
    "import requests\n",
    "import sys\n",
    "import random\n",
    "import requests\n",
    "import tabulate\n",
    "from datetime import datetime\n",
    "import schedule\n",
    "import time"
   ]
  },
  {
   "cell_type": "code",
   "execution_count": null,
   "id": "39802e8b",
   "metadata": {},
   "outputs": [],
   "source": [
    "inputdf = pd.read_csv('SCSiteUrl.csv')"
   ]
  },
  {
   "cell_type": "code",
   "execution_count": 1,
   "id": "e8e95370",
   "metadata": {},
   "outputs": [
    {
     "ename": "NameError",
     "evalue": "name 'inputdf' is not defined",
     "output_type": "error",
     "traceback": [
      "\u001b[0;31m---------------------------------------------------------------------------\u001b[0m",
      "\u001b[0;31mNameError\u001b[0m                                 Traceback (most recent call last)",
      "Input \u001b[0;32mIn [1]\u001b[0m, in \u001b[0;36m<cell line: 1>\u001b[0;34m()\u001b[0m\n\u001b[0;32m----> 1\u001b[0m \u001b[38;5;28;01mfor\u001b[39;00m i \u001b[38;5;129;01min\u001b[39;00m \u001b[38;5;28mrange\u001b[39m(\u001b[38;5;28mlen\u001b[39m(\u001b[43minputdf\u001b[49m)):\n\u001b[1;32m      2\u001b[0m     url \u001b[38;5;241m=\u001b[39m inputdf\u001b[38;5;241m.\u001b[39mloc[i,\u001b[38;5;124m\"\u001b[39m\u001b[38;5;124mUrl\u001b[39m\u001b[38;5;124m\"\u001b[39m]\n\u001b[1;32m      3\u001b[0m     \u001b[38;5;66;03m#print(url)\u001b[39;00m\n",
      "\u001b[0;31mNameError\u001b[0m: name 'inputdf' is not defined"
     ]
    }
   ],
   "source": [
    "for i in range(len(inputdf)):\n",
    "    url = inputdf.loc[i,\"Url\"]\n",
    "    #print(url)\n",
    "    response = urlopen(url).read()\n",
    "    print(len(response),\",\",url,\",\",inputdf.loc[i,\"Site\"])"
   ]
  },
  {
   "cell_type": "code",
   "execution_count": null,
   "id": "9476491b",
   "metadata": {},
   "outputs": [],
   "source": []
  }
 ],
 "metadata": {
  "kernelspec": {
   "display_name": "Python 3 (ipykernel)",
   "language": "python",
   "name": "python3"
  },
  "language_info": {
   "codemirror_mode": {
    "name": "ipython",
    "version": 3
   },
   "file_extension": ".py",
   "mimetype": "text/x-python",
   "name": "python",
   "nbconvert_exporter": "python",
   "pygments_lexer": "ipython3",
   "version": "3.9.12"
  }
 },
 "nbformat": 4,
 "nbformat_minor": 5
}
