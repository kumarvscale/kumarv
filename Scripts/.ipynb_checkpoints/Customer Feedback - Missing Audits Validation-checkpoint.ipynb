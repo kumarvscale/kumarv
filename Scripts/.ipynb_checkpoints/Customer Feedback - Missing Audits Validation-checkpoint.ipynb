{
 "cells": [
  {
   "cell_type": "code",
   "execution_count": 1,
   "id": "f820c853",
   "metadata": {},
   "outputs": [],
   "source": [
    "import pandas as pd\n",
    "import numpy as np\n",
    "import snowflake.connector\n",
    "from collections import defaultdict\n",
    "import json\n",
    "import re\n",
    "import requests\n",
    "import sys\n",
    "import random\n",
    "import requests\n",
    "import tabulate\n",
    "from datetime import datetime\n",
    "import schedule\n",
    "import time"
   ]
  },
  {
   "cell_type": "code",
   "execution_count": 2,
   "id": "72b02904",
   "metadata": {},
   "outputs": [
    {
     "name": "stdout",
     "output_type": "stream",
     "text": [
      "Initiating login request with your identity provider. A browser window should have opened for you to complete the login. If you can't see it, check existing browser windows, or your OS settings. Press CTRL+C to abort and try again...\n"
     ]
    }
   ],
   "source": [
    "#login to snowflake db\n",
    "con = snowflake.connector.connect(user='vishal.kumar@scale.com',\n",
    "                                 account='pxa65918',\n",
    "                                 authenticator='externalbrowser',\n",
    "                                 warehouse='COMPUTE_WH',\n",
    "                                 database='SCALE_CRAWLER',\n",
    "                                 role='GENERAL_RO')\n",
    "\n",
    "cs = con.cursor()"
   ]
  },
  {
   "cell_type": "code",
   "execution_count": 3,
   "id": "ef1fa539",
   "metadata": {},
   "outputs": [],
   "source": [
    "#Get fivetran PVIDs\n",
    "sql = f'''\n",
    " SELECT\n",
    "   CAST (DECISION_DATE as varchar) as DECISION_DATE,\n",
    "  CAST(product_id as varchar) as product_id,\n",
    "  SOURCE,\n",
    "  CAST(catalog_id as varchar) as catalogid,\n",
    "  CUSTOMER_DATE_SENT as ds\n",
    "FROM\n",
    "  PC_FIVETRAN_DB.GSHEETS.flamingocfapril_25\n",
    "'''\n",
    "cs.execute(sql)\n",
    "fivetrandf = cs.fetch_pandas_all()"
   ]
  },
  {
   "cell_type": "code",
   "execution_count": 4,
   "id": "418418cf",
   "metadata": {},
   "outputs": [],
   "source": [
    "#Get tool PVIDs\n",
    "sql = f'''\n",
    "select DISTINCT\n",
    "f.key as product_id\n",
    "from\n",
    "PUBLIC.SPOTTERAUDITS p\n",
    ",lateral flatten(input => p.RESULT) as f\n",
    "where\n",
    " AUDIT_TYPE = 'CustomerFeedback'\n",
    " and STATUS not in  ('Canceled')\n",
    "order by f.key desc\n",
    "'''\n",
    "cs.execute(sql)\n",
    "tooldf = cs.fetch_pandas_all()"
   ]
  },
  {
   "cell_type": "code",
   "execution_count": 5,
   "id": "a2a19363",
   "metadata": {},
   "outputs": [],
   "source": [
    "#Get Catalog acceptance and cessation status\n",
    "sql = f'''\n",
    "with \n",
    "submission_level_updates as (\n",
    "  select\n",
    "    CATALOG_ID,\n",
    "    historyRow.value :value value,\n",
    "    historyRow.value :updatedAt updatedAt\n",
    "  from\n",
    "    scale_crawler.PUBLIC.CUSTOMERCATALOGS,\n",
    "    lateral flatten(input => SUBMISSION_LEVEL_HISTORY) historyRow\n",
    "  where\n",
    "    customer = 'flamingo'\n",
    "    -- and updatedAt <= '{{when}}'\n",
    "),\n",
    "last_submission_update as (\n",
    "  select\n",
    "    max(updatedAt) updatedAt,\n",
    "    catalog_id\n",
    "  from\n",
    "    submission_level_updates\n",
    "  group by\n",
    "    catalog_id\n",
    "),\n",
    "submission_level as (\n",
    "  select\n",
    "    submission_level_updates.*\n",
    "  from\n",
    "    submission_level_updates\n",
    "    join last_submission_update on submission_level_updates.catalog_id = last_submission_update.catalog_id\n",
    "    and submission_level_updates.updatedAt = last_submission_update.updatedAt\n",
    "),\n",
    "-- extractor compmlexity\n",
    "extractor_complexity_updates as (\n",
    "  select\n",
    "    CATALOG_ID,\n",
    "    historyRow.value :value value,\n",
    "    historyRow.value :updatedAt updatedAt\n",
    "  from\n",
    "    scale_crawler.PUBLIC.CUSTOMERCATALOGS,\n",
    "    lateral flatten(input => EXTRACTION_COMPLEXITY_HISTORY) historyRow\n",
    "  where\n",
    "    customer = 'flamingo'\n",
    "    -- and updatedAt <= '{{when}}'\n",
    "),\n",
    "last_extractor_complexity_update as (\n",
    "  select\n",
    "    max(updatedAt) updatedAt,\n",
    "    catalog_id\n",
    "  from\n",
    "    extractor_complexity_updates\n",
    "  group by\n",
    "    catalog_id\n",
    "),\n",
    "extractor_complexity as (\n",
    "  select\n",
    "    extractor_complexity_updates.*\n",
    "  from\n",
    "    extractor_complexity_updates\n",
    "    join last_extractor_complexity_update on extractor_complexity_updates.catalog_id = last_extractor_complexity_update.catalog_id\n",
    "    and last_extractor_complexity_update.updatedAt = last_extractor_complexity_update.updatedAt\n",
    "),\n",
    "-- sizechart compmlexity\n",
    "sizechart_complexity_updates as (\n",
    "  select\n",
    "    CATALOG_ID,\n",
    "    historyRow.value :value value,\n",
    "    historyRow.value :updatedAt updatedAt\n",
    "  from\n",
    "    scale_crawler.PUBLIC.CUSTOMERCATALOGS,\n",
    "    lateral flatten(input => SIZECHART_COMPLEXITY_HISTORY) historyRow\n",
    "  where\n",
    "    customer = 'flamingo'\n",
    "    -- and updatedAt <= '{{when}}'\n",
    "),\n",
    "last_sizechart_complexity_update as (\n",
    "  select\n",
    "    max(updatedAt) updatedAt,\n",
    "    catalog_id\n",
    "  from\n",
    "    sizechart_complexity_updates\n",
    "  group by\n",
    "    catalog_id\n",
    "),\n",
    "sizechart_complexity as (\n",
    "  select\n",
    "    sizechart_complexity_updates.*\n",
    "  from\n",
    "    sizechart_complexity_updates\n",
    "    join last_sizechart_complexity_update on sizechart_complexity_updates.catalog_id = last_sizechart_complexity_update.catalog_id\n",
    "    and last_sizechart_complexity_update.updatedAt = sizechart_complexity_updates.updatedAt\n",
    "),\n",
    "-- acceptance\n",
    "acceptance_updates as (\n",
    "  select\n",
    "    CATALOG_ID,\n",
    "    historyRow.value :value value,\n",
    "    historyRow.value :updatedAt updatedAt,\n",
    "    historyRow.value :metadata.source = '21_day_threshold' force_accepted\n",
    "  from\n",
    "    scale_crawler.PUBLIC.CUSTOMERCATALOGS,\n",
    "    lateral flatten(input => ACCEPTANCE_HISTORY) historyRow\n",
    "  where\n",
    "    customer = 'flamingo'\n",
    "    -- and updatedAt <= '{{when}}'\n",
    "),\n",
    "last_acceptance_update as (\n",
    "  select\n",
    "    max(updatedAt) updatedAt,\n",
    "    catalog_id\n",
    "  from\n",
    "    acceptance_updates\n",
    "  group by\n",
    "    catalog_id\n",
    "),\n",
    "acceptance as (\n",
    "  select\n",
    "    acceptance_updates.*\n",
    "  from\n",
    "    acceptance_updates\n",
    "    join last_acceptance_update on acceptance_updates.catalog_id = last_acceptance_update.catalog_id\n",
    "    and last_acceptance_update.updatedAt = acceptance_updates.updatedAt\n",
    "),\n",
    "-- cessation\n",
    "cessation_updates as (\n",
    "  select\n",
    "    CATALOG_ID,\n",
    "    historyRow.value :value value,\n",
    "    historyRow.value :updatedAt updatedAt\n",
    "  from\n",
    "    scale_crawler.PUBLIC.CUSTOMERCATALOGS,\n",
    "    lateral flatten(input => CESSATION_HISTORY) historyRow\n",
    "  where\n",
    "    customer = 'flamingo'\n",
    "    -- and updatedAt <= '{{when}}'\n",
    "),\n",
    "last_cessation_update as (\n",
    "  select\n",
    "    max(updatedAt) updatedAt,\n",
    "    catalog_id\n",
    "  from\n",
    "    cessation_updates\n",
    "  group by\n",
    "    catalog_id\n",
    "),\n",
    "cessation as (\n",
    "  select\n",
    "    cessation_updates.*\n",
    "  from\n",
    "    cessation_updates\n",
    "    join last_cessation_update on cessation_updates.catalog_id = last_cessation_update.catalog_id\n",
    "    and last_cessation_update.updatedAt = cessation_updates.updatedAt\n",
    "),\n",
    "--combine data\n",
    "all_data as (\n",
    "    select\n",
    "        cc.catalog_id,\n",
    "        cc.brands,\n",
    "        COALESCE(acceptance.value, false) acceptance_value,\n",
    "        COALESCE(acceptance.force_accepted, false) acceptance_force_accepted,\n",
    "        COALESCE(cessation.value, false) cessation_value,\n",
    "        acceptance.updatedAt acceptance_updatedAt,\n",
    "        cessation.updatedAt cessation_updatedAt\n",
    "    from\n",
    "        CUSTOMERCATALOGS cc \n",
    "        left join submission_level on cc.catalog_id = submission_level.catalog_id\n",
    "        left join extractor_complexity on cc.catalog_id = extractor_complexity.catalog_id\n",
    "        left join sizechart_complexity on cc.catalog_id = sizechart_complexity.catalog_id\n",
    "        left join acceptance on cc.catalog_id = acceptance.catalog_id\n",
    "        left join cessation on cc.catalog_id = cessation.catalog_id\n",
    "    where\n",
    "        cc.customer = 'flamingo'\n",
    ")\n",
    "select * from all_data\n",
    "'''\n",
    "cs.execute(sql)\n",
    "statusdf = cs.fetch_pandas_all()"
   ]
  },
  {
   "cell_type": "code",
   "execution_count": 6,
   "id": "ec7fc0c8",
   "metadata": {
    "scrolled": true
   },
   "outputs": [],
   "source": [
    "tdf = pd.merge(fivetrandf, statusdf, left_on = 'CATALOGID', right_on = 'CATALOG_ID', how = 'left', )"
   ]
  },
  {
   "cell_type": "code",
   "execution_count": 7,
   "id": "2c9f290e",
   "metadata": {},
   "outputs": [],
   "source": [
    "tdf.drop(tdf[tdf['CESSATION_VALUE'] == 'true'].index, inplace = True)\n",
    "tdf.drop(tdf[tdf['ACCEPTANCE_VALUE'] == 'true'].index, inplace = True)\n",
    "tdf.drop(tdf[tdf['ACCEPTANCE_FORCE_ACCEPTED'] == 'true'].index, inplace = True)"
   ]
  },
  {
   "cell_type": "code",
   "execution_count": 8,
   "id": "a1e85cde",
   "metadata": {},
   "outputs": [
    {
     "name": "stdout",
     "output_type": "stream",
     "text": [
      "\n",
      " Number of PVIDs in fivetran = 519555 \n",
      " Number of PVIDs in tool = 174155 \n",
      " Number of Non-Cessated and Not-Accepted PVIDs = 48796\n"
     ]
    }
   ],
   "source": [
    "print(\"\\n Number of PVIDs in fivetran =\",len(fivetrandf),\"\\n\",\"Number of PVIDs in tool =\",len(tooldf),\"\\n\",\"Number of Non-Cessated and Not-Accepted PVIDs =\",len(tdf))"
   ]
  },
  {
   "cell_type": "code",
   "execution_count": 9,
   "id": "6f4b943a",
   "metadata": {},
   "outputs": [],
   "source": [
    "fdf = pd.merge(tdf, tooldf, left_on = 'PRODUCT_ID', right_on = 'PRODUCT_ID', how = 'left', indicator=True)"
   ]
  },
  {
   "cell_type": "code",
   "execution_count": 10,
   "id": "aa0c7280",
   "metadata": {},
   "outputs": [
    {
     "data": {
      "text/plain": [
       "['left_only', 'both']\n",
       "Categories (3, object): ['left_only', 'right_only', 'both']"
      ]
     },
     "execution_count": 10,
     "metadata": {},
     "output_type": "execute_result"
    }
   ],
   "source": [
    "fdf['_merge'].unique()"
   ]
  },
  {
   "cell_type": "code",
   "execution_count": 12,
   "id": "bfa32753",
   "metadata": {},
   "outputs": [],
   "source": [
    "fdf.drop(fdf[fdf['_merge'] == 'both'].index, inplace = True)"
   ]
  },
  {
   "cell_type": "code",
   "execution_count": 16,
   "id": "64a8dd62",
   "metadata": {},
   "outputs": [],
   "source": [
    "fdf.to_clipboard()"
   ]
  },
  {
   "cell_type": "code",
   "execution_count": null,
   "id": "552516d4",
   "metadata": {},
   "outputs": [],
   "source": []
  }
 ],
 "metadata": {
  "kernelspec": {
   "display_name": "Python 3 (ipykernel)",
   "language": "python",
   "name": "python3"
  },
  "language_info": {
   "codemirror_mode": {
    "name": "ipython",
    "version": 3
   },
   "file_extension": ".py",
   "mimetype": "text/x-python",
   "name": "python",
   "nbconvert_exporter": "python",
   "pygments_lexer": "ipython3",
   "version": "3.10.6"
  }
 },
 "nbformat": 4,
 "nbformat_minor": 5
}
