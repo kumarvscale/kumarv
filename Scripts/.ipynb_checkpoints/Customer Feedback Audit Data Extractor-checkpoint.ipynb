{
 "cells": [
  {
   "cell_type": "code",
   "execution_count": 1,
   "id": "23a9e86a",
   "metadata": {},
   "outputs": [
    {
     "name": "stdout",
     "output_type": "stream",
     "text": [
      "Initiating login request with your identity provider. A browser window should have opened for you to complete the login. If you can't see it, check existing browser windows, or your OS settings. Press CTRL+C to abort and try again...\n"
     ]
    }
   ],
   "source": [
    "import pandas as pd\n",
    "import snowflake.connector\n",
    "from collections import defaultdict\n",
    "import json\n",
    "import re\n",
    "\n",
    "con = snowflake.connector.connect(user='vishal.kumar@scale.com',\n",
    "                                 account='pxa65918',\n",
    "                                 authenticator='externalbrowser',\n",
    "                                 warehouse='COMPUTE_WH',\n",
    "                                 database='SCALE_CRAWLER',\n",
    "                                 role='GENERAL_RO')\n",
    "\n",
    "cs = con.cursor()"
   ]
  },
  {
   "cell_type": "code",
   "execution_count": 9,
   "id": "8be82465",
   "metadata": {},
   "outputs": [],
   "source": [
    "sql = '''\n",
    "with cf as (\n",
    "select\n",
    "  DOMAIN,\n",
    "  STATUS,\n",
    "  CATALOG_ID,\n",
    "  CLAIMED_AT,\n",
    "  COMPLETED_AT,\n",
    "  AUDIT_LEVEL,\n",
    "  CREATED_AT,\n",
    "  CUSTOMER_FEEDBACK_DATE_SENT,\n",
    "  RESULT as json_values\n",
    "from\n",
    "  PUBLIC.SPOTTERAUDITS\n",
    "WHERE\n",
    "--  STATUS = 'Accepted'\n",
    "    AUDIT_TYPE = 'CustomerFeedback' AND\n",
    "    AUDIT_LEVEL = 'Attempter' AND\n",
    "    STATUS = 'Submitted To Review' AND\n",
    "    CUSTOMER_FEEDBACK_DATE_SENT > '2022-09-16'\n",
    ")\n",
    "\n",
    "select\n",
    "--    cf.DOMAIN,\n",
    "    cf.STATUS,\n",
    "--    cf.CATALOG_ID,\n",
    "    cf.AUDIT_LEVEL,\n",
    "    cf.CREATED_AT,\n",
    "--    cf.CLAIMED_AT,\n",
    "--    cf.COMPLETED_AT,\n",
    "    cf.CUSTOMER_FEEDBACK_DATE_SENT,\n",
    "    a.key PRODUCT_ID,\n",
    "    b.key ATTRIBUTE,\n",
    "    c.value AUDIT_RESULT\n",
    "--  c.key AUDIT,\n",
    "--  c.value RES\n",
    "FROM\n",
    "    cf,\n",
    "    lateral flatten (input => json_values) a,\n",
    "    lateral flatten (input => a.value, outer => true) b,\n",
    "    lateral flatten (input => b.value, outer => true) c\n",
    "--    lateral flatten (input => c.value, outer\n",
    "WHERE AUDIT_RESULT !='' AND AUDIT_RESULT !='true' \n",
    "AND AUDIT_RESULT !='false' \n",
    "-- AND CUSTOMER_FEEDBACK_DATE_SENT > '2022-09-12' \n",
    "AND AUDIT_RESULT LIKE '%Non-Reproducible%' \n",
    "OR AUDIT_RESULT LIKE '%Reproducible%' \n",
    "OR AUDIT_RESULT LIKE '%Fully Correct by the Customer%' \n",
    "OR AUDIT_RESULT LIKE '%Audit%'\n",
    "'''\n",
    "cs.execute(sql)\n",
    "\n",
    "df = cs.fetch_pandas_all()"
   ]
  },
  {
   "cell_type": "code",
   "execution_count": 10,
   "id": "26646a67",
   "metadata": {},
   "outputs": [
    {
     "data": {
      "text/plain": [
       "Series([], Name: PRODUCT_ID, dtype: int64)"
      ]
     },
     "execution_count": 10,
     "metadata": {},
     "output_type": "execute_result"
    }
   ],
   "source": [
    "df.groupby('CUSTOMER_FEEDBACK_DATE_SENT')['PRODUCT_ID'].nunique()"
   ]
  },
  {
   "cell_type": "code",
   "execution_count": 4,
   "id": "12354d8b",
   "metadata": {},
   "outputs": [
    {
     "name": "stdout",
     "output_type": "stream",
     "text": [
      "113524\n"
     ]
    }
   ],
   "source": [
    "print(len(df))\n",
    "#df.to_csv('audits0824.csv')"
   ]
  },
  {
   "cell_type": "code",
   "execution_count": 5,
   "id": "28231a1a",
   "metadata": {},
   "outputs": [
    {
     "data": {
      "text/plain": [
       "['STATUS',\n",
       " 'AUDIT_LEVEL',\n",
       " 'CREATED_AT',\n",
       " 'CUSTOMER_FEEDBACK_DATE_SENT',\n",
       " 'PRODUCT_ID',\n",
       " 'ATTRIBUTE',\n",
       " 'AUDIT_RESULT']"
      ]
     },
     "execution_count": 5,
     "metadata": {},
     "output_type": "execute_result"
    }
   ],
   "source": [
    "list(df.columns)"
   ]
  },
  {
   "cell_type": "code",
   "execution_count": 6,
   "id": "67e71e3a",
   "metadata": {},
   "outputs": [
    {
     "data": {
      "text/html": [
       "<div>\n",
       "<style scoped>\n",
       "    .dataframe tbody tr th:only-of-type {\n",
       "        vertical-align: middle;\n",
       "    }\n",
       "\n",
       "    .dataframe tbody tr th {\n",
       "        vertical-align: top;\n",
       "    }\n",
       "\n",
       "    .dataframe thead th {\n",
       "        text-align: right;\n",
       "    }\n",
       "</style>\n",
       "<table border=\"1\" class=\"dataframe\">\n",
       "  <thead>\n",
       "    <tr style=\"text-align: right;\">\n",
       "      <th></th>\n",
       "      <th>STATUS</th>\n",
       "      <th>AUDIT_LEVEL</th>\n",
       "      <th>CREATED_AT</th>\n",
       "      <th>CUSTOMER_FEEDBACK_DATE_SENT</th>\n",
       "      <th>PRODUCT_ID</th>\n",
       "      <th>AUDIT_RESULT</th>\n",
       "    </tr>\n",
       "    <tr>\n",
       "      <th>ATTRIBUTE</th>\n",
       "      <th></th>\n",
       "      <th></th>\n",
       "      <th></th>\n",
       "      <th></th>\n",
       "      <th></th>\n",
       "      <th></th>\n",
       "    </tr>\n",
       "  </thead>\n",
       "  <tbody>\n",
       "    <tr>\n",
       "      <th>additional_image_link</th>\n",
       "      <td>16140</td>\n",
       "      <td>16140</td>\n",
       "      <td>16140</td>\n",
       "      <td>16140</td>\n",
       "      <td>16140</td>\n",
       "      <td>16140</td>\n",
       "    </tr>\n",
       "    <tr>\n",
       "      <th>brand</th>\n",
       "      <td>11590</td>\n",
       "      <td>11590</td>\n",
       "      <td>11590</td>\n",
       "      <td>11590</td>\n",
       "      <td>11590</td>\n",
       "      <td>11590</td>\n",
       "    </tr>\n",
       "    <tr>\n",
       "      <th>color</th>\n",
       "      <td>10656</td>\n",
       "      <td>10656</td>\n",
       "      <td>10656</td>\n",
       "      <td>10656</td>\n",
       "      <td>10656</td>\n",
       "      <td>10656</td>\n",
       "    </tr>\n",
       "    <tr>\n",
       "      <th>description</th>\n",
       "      <td>16137</td>\n",
       "      <td>16137</td>\n",
       "      <td>16137</td>\n",
       "      <td>16137</td>\n",
       "      <td>16137</td>\n",
       "      <td>16137</td>\n",
       "    </tr>\n",
       "    <tr>\n",
       "      <th>dimensions</th>\n",
       "      <td>403</td>\n",
       "      <td>403</td>\n",
       "      <td>403</td>\n",
       "      <td>403</td>\n",
       "      <td>403</td>\n",
       "      <td>403</td>\n",
       "    </tr>\n",
       "    <tr>\n",
       "      <th>gemstone</th>\n",
       "      <td>773</td>\n",
       "      <td>773</td>\n",
       "      <td>773</td>\n",
       "      <td>773</td>\n",
       "      <td>773</td>\n",
       "      <td>773</td>\n",
       "    </tr>\n",
       "    <tr>\n",
       "      <th>image_link</th>\n",
       "      <td>16140</td>\n",
       "      <td>16140</td>\n",
       "      <td>16140</td>\n",
       "      <td>16140</td>\n",
       "      <td>16140</td>\n",
       "      <td>16140</td>\n",
       "    </tr>\n",
       "    <tr>\n",
       "      <th>material</th>\n",
       "      <td>10207</td>\n",
       "      <td>10207</td>\n",
       "      <td>10207</td>\n",
       "      <td>10207</td>\n",
       "      <td>10207</td>\n",
       "      <td>10207</td>\n",
       "    </tr>\n",
       "    <tr>\n",
       "      <th>pattern</th>\n",
       "      <td>4972</td>\n",
       "      <td>4972</td>\n",
       "      <td>4972</td>\n",
       "      <td>4972</td>\n",
       "      <td>4972</td>\n",
       "      <td>4972</td>\n",
       "    </tr>\n",
       "    <tr>\n",
       "      <th>product_height</th>\n",
       "      <td>76</td>\n",
       "      <td>76</td>\n",
       "      <td>76</td>\n",
       "      <td>76</td>\n",
       "      <td>76</td>\n",
       "      <td>76</td>\n",
       "    </tr>\n",
       "    <tr>\n",
       "      <th>product_length</th>\n",
       "      <td>613</td>\n",
       "      <td>613</td>\n",
       "      <td>613</td>\n",
       "      <td>613</td>\n",
       "      <td>613</td>\n",
       "      <td>613</td>\n",
       "    </tr>\n",
       "    <tr>\n",
       "      <th>product_width</th>\n",
       "      <td>242</td>\n",
       "      <td>242</td>\n",
       "      <td>242</td>\n",
       "      <td>242</td>\n",
       "      <td>242</td>\n",
       "      <td>242</td>\n",
       "    </tr>\n",
       "    <tr>\n",
       "      <th>scent</th>\n",
       "      <td>239</td>\n",
       "      <td>239</td>\n",
       "      <td>239</td>\n",
       "      <td>239</td>\n",
       "      <td>239</td>\n",
       "      <td>239</td>\n",
       "    </tr>\n",
       "    <tr>\n",
       "      <th>size</th>\n",
       "      <td>9196</td>\n",
       "      <td>9196</td>\n",
       "      <td>9196</td>\n",
       "      <td>9196</td>\n",
       "      <td>9196</td>\n",
       "      <td>9196</td>\n",
       "    </tr>\n",
       "    <tr>\n",
       "      <th>title</th>\n",
       "      <td>16140</td>\n",
       "      <td>16140</td>\n",
       "      <td>16140</td>\n",
       "      <td>16140</td>\n",
       "      <td>16140</td>\n",
       "      <td>16140</td>\n",
       "    </tr>\n",
       "  </tbody>\n",
       "</table>\n",
       "</div>"
      ],
      "text/plain": [
       "                       STATUS  AUDIT_LEVEL  CREATED_AT  \\\n",
       "ATTRIBUTE                                                \n",
       "additional_image_link   16140        16140       16140   \n",
       "brand                   11590        11590       11590   \n",
       "color                   10656        10656       10656   \n",
       "description             16137        16137       16137   \n",
       "dimensions                403          403         403   \n",
       "gemstone                  773          773         773   \n",
       "image_link              16140        16140       16140   \n",
       "material                10207        10207       10207   \n",
       "pattern                  4972         4972        4972   \n",
       "product_height             76           76          76   \n",
       "product_length            613          613         613   \n",
       "product_width             242          242         242   \n",
       "scent                     239          239         239   \n",
       "size                     9196         9196        9196   \n",
       "title                   16140        16140       16140   \n",
       "\n",
       "                       CUSTOMER_FEEDBACK_DATE_SENT  PRODUCT_ID  AUDIT_RESULT  \n",
       "ATTRIBUTE                                                                     \n",
       "additional_image_link                        16140       16140         16140  \n",
       "brand                                        11590       11590         11590  \n",
       "color                                        10656       10656         10656  \n",
       "description                                  16137       16137         16137  \n",
       "dimensions                                     403         403           403  \n",
       "gemstone                                       773         773           773  \n",
       "image_link                                   16140       16140         16140  \n",
       "material                                     10207       10207         10207  \n",
       "pattern                                       4972        4972          4972  \n",
       "product_height                                  76          76            76  \n",
       "product_length                                 613         613           613  \n",
       "product_width                                  242         242           242  \n",
       "scent                                          239         239           239  \n",
       "size                                          9196        9196          9196  \n",
       "title                                        16140       16140         16140  "
      ]
     },
     "execution_count": 6,
     "metadata": {},
     "output_type": "execute_result"
    }
   ],
   "source": [
    "df.groupby('ATTRIBUTE').count()"
   ]
  },
  {
   "cell_type": "code",
   "execution_count": null,
   "id": "1babca63",
   "metadata": {},
   "outputs": [],
   "source": [
    "#df = df.drop('CREATED_AT', axis=1)"
   ]
  },
  {
   "cell_type": "code",
   "execution_count": null,
   "id": "d87018c8",
   "metadata": {},
   "outputs": [],
   "source": [
    "#df.loc[df['PRODUCT_ID'] == '4200195373417638']"
   ]
  },
  {
   "cell_type": "code",
   "execution_count": null,
   "id": "4b99f160",
   "metadata": {},
   "outputs": [],
   "source": [
    "#df.drop(df[df['STATUS'] != 'Submitted To Review'].index, inplace = True)\n",
    "#df.drop(df[df['CUSTOMER_FEEDBACK_DATE_SENT'] == '2022-08-15'].index, inplace = True)\n",
    "#df.drop(df[df['ATTRIBUTE'] == 'brand'].index, inplace = True)\n",
    "#df.drop(df[df['ATTRIBUTE'] == 'additional_image_link'].index, inplace = True)\n",
    "#df.drop(df[df['ATTRIBUTE'] == 'color'].index, inplace = True)\n",
    "#df.drop(df[df['ATTRIBUTE'] == 'dimensions'].index, inplace = True)\n",
    "#df.drop(df[df['ATTRIBUTE'] == 'gemstone'].index, inplace = True)\n",
    "#df.drop(df[df['ATTRIBUTE'] == 'material'].index, inplace = True)\n",
    "#df.drop(df[df['ATTRIBUTE'] == 'pattern'].index, inplace = True)\n",
    "#df.drop(df[df['ATTRIBUTE'] == 'product_height'].index, inplace = True)\n",
    "#df.drop(df[df['ATTRIBUTE'] == 'product_length'].index, inplace = True)\n",
    "#df.drop(df[df['ATTRIBUTE'] == 'product_width'].index, inplace = True)\n",
    "#df.drop(df[df['ATTRIBUTE'] == 'scent'].index, inplace = True)\n",
    "#df.drop(df[df['ATTRIBUTE'] == 'size'].index, inplace = True)"
   ]
  },
  {
   "cell_type": "code",
   "execution_count": null,
   "id": "f35b004a",
   "metadata": {},
   "outputs": [],
   "source": [
    "df.PRODUCT_ID.nunique()"
   ]
  },
  {
   "cell_type": "code",
   "execution_count": null,
   "id": "5f57d7f7",
   "metadata": {},
   "outputs": [],
   "source": [
    "print(len(df))"
   ]
  },
  {
   "cell_type": "code",
   "execution_count": null,
   "id": "1c677515",
   "metadata": {},
   "outputs": [],
   "source": [
    "#df.to_csv('audits0925.csv')"
   ]
  },
  {
   "cell_type": "code",
   "execution_count": null,
   "id": "0320e172",
   "metadata": {},
   "outputs": [],
   "source": [
    "sql = '''\n",
    "select\n",
    "CATALOG_ID, PRODUCT_ID from PUBLIC.CUSTOMERINPUTS\n",
    "'''\n",
    "cs.execute(sql)\n",
    "\n",
    "cid = cs.fetch_pandas_all()"
   ]
  },
  {
   "cell_type": "code",
   "execution_count": null,
   "id": "76c025f0",
   "metadata": {},
   "outputs": [],
   "source": [
    "print(len(cid))"
   ]
  },
  {
   "cell_type": "code",
   "execution_count": null,
   "id": "27089459",
   "metadata": {},
   "outputs": [],
   "source": [
    "mergedf = df.merge(cid, left_on='PRODUCT_ID', right_on='PRODUCT_ID', how='inner', indicator=True)"
   ]
  },
  {
   "cell_type": "code",
   "execution_count": null,
   "id": "849f7b46",
   "metadata": {},
   "outputs": [],
   "source": [
    "print(len(mergedf))"
   ]
  },
  {
   "cell_type": "code",
   "execution_count": null,
   "id": "88fd7845",
   "metadata": {},
   "outputs": [],
   "source": [
    "mergedf.to_csv('mergecid0925.csv')"
   ]
  },
  {
   "cell_type": "code",
   "execution_count": null,
   "id": "fdcd3ee0",
   "metadata": {},
   "outputs": [],
   "source": [
    "sql = '''\n",
    "select\n",
    "  CAST(catalog_id as varchar) as CATALOG_ID,\n",
    "  CAST(product_id as varchar) as PRODUCT_ID,\n",
    "  ATTRIBUTE_LABELS,\n",
    "  DECISION_DATE\n",
    "FROM\n",
    "  PC_FIVETRAN_DB.GSHEETS.flamingocfapril_25\n",
    "WHERE\n",
    "  CUSTOMER_DATE_SENT > '2022-09-11'\n",
    "''' \n",
    "cs.execute(sql)\n",
    "rawdf = cs.fetch_pandas_all()"
   ]
  },
  {
   "cell_type": "code",
   "execution_count": null,
   "id": "4aa9cd7f",
   "metadata": {},
   "outputs": [],
   "source": [
    "for i in range(len(rawdf)):\n",
    "    df_x = json.loads(rawdf['ATTRIBUTE_LABELS'][i])\n",
    "rawdf = rawdf.update(df_x)"
   ]
  },
  {
   "cell_type": "code",
   "execution_count": null,
   "id": "f564c00f",
   "metadata": {},
   "outputs": [],
   "source": []
  }
 ],
 "metadata": {
  "kernelspec": {
   "display_name": "Python 3 (ipykernel)",
   "language": "python",
   "name": "python3"
  },
  "language_info": {
   "codemirror_mode": {
    "name": "ipython",
    "version": 3
   },
   "file_extension": ".py",
   "mimetype": "text/x-python",
   "name": "python",
   "nbconvert_exporter": "python",
   "pygments_lexer": "ipython3",
   "version": "3.10.6"
  }
 },
 "nbformat": 4,
 "nbformat_minor": 5
}
