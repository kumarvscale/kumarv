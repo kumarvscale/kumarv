{
 "cells": [
  {
   "cell_type": "code",
   "execution_count": 1,
   "id": "05ea0ed4",
   "metadata": {},
   "outputs": [],
   "source": [
    "import pandas as pd\n",
    "import numpy as np\n",
    "import snowflake.connector\n",
    "from collections import defaultdict\n",
    "import json\n",
    "import re\n",
    "import requests\n",
    "import sys\n",
    "import random\n",
    "import requests\n",
    "import tabulate\n",
    "from datetime import datetime\n",
    "import schedule\n",
    "import time"
   ]
  },
  {
   "cell_type": "code",
   "execution_count": 2,
   "id": "8226ce68",
   "metadata": {},
   "outputs": [],
   "source": [
    "df = pd.read_csv('attributes.csv')"
   ]
  },
  {
   "cell_type": "code",
   "execution_count": 3,
   "id": "26d4c687",
   "metadata": {},
   "outputs": [
    {
     "data": {
      "text/html": [
       "<div>\n",
       "<style scoped>\n",
       "    .dataframe tbody tr th:only-of-type {\n",
       "        vertical-align: middle;\n",
       "    }\n",
       "\n",
       "    .dataframe tbody tr th {\n",
       "        vertical-align: top;\n",
       "    }\n",
       "\n",
       "    .dataframe thead th {\n",
       "        text-align: right;\n",
       "    }\n",
       "</style>\n",
       "<table border=\"1\" class=\"dataframe\">\n",
       "  <thead>\n",
       "    <tr style=\"text-align: right;\">\n",
       "      <th></th>\n",
       "      <th>absorbency</th>\n",
       "    </tr>\n",
       "  </thead>\n",
       "  <tbody>\n",
       "    <tr>\n",
       "      <th>0</th>\n",
       "      <td>activewear_top_style</td>\n",
       "    </tr>\n",
       "    <tr>\n",
       "      <th>1</th>\n",
       "      <td>activity</td>\n",
       "    </tr>\n",
       "    <tr>\n",
       "      <th>2</th>\n",
       "      <td>age_group</td>\n",
       "    </tr>\n",
       "    <tr>\n",
       "      <th>3</th>\n",
       "      <td>air_freshener_form</td>\n",
       "    </tr>\n",
       "    <tr>\n",
       "      <th>4</th>\n",
       "      <td>air_freshener_usage</td>\n",
       "    </tr>\n",
       "    <tr>\n",
       "      <th>...</th>\n",
       "      <td>...</td>\n",
       "    </tr>\n",
       "    <tr>\n",
       "      <th>278</th>\n",
       "      <td>watch_type</td>\n",
       "    </tr>\n",
       "    <tr>\n",
       "      <th>279</th>\n",
       "      <td>wattage</td>\n",
       "    </tr>\n",
       "    <tr>\n",
       "      <th>280</th>\n",
       "      <td>wireless_technologies</td>\n",
       "    </tr>\n",
       "    <tr>\n",
       "      <th>281</th>\n",
       "      <td>women's_shoe_width</td>\n",
       "    </tr>\n",
       "    <tr>\n",
       "      <th>282</th>\n",
       "      <td>zoom_specs</td>\n",
       "    </tr>\n",
       "  </tbody>\n",
       "</table>\n",
       "<p>283 rows × 1 columns</p>\n",
       "</div>"
      ],
      "text/plain": [
       "                absorbency\n",
       "0     activewear_top_style\n",
       "1                 activity\n",
       "2                age_group\n",
       "3       air_freshener_form\n",
       "4      air_freshener_usage\n",
       "..                     ...\n",
       "278             watch_type\n",
       "279                wattage\n",
       "280  wireless_technologies\n",
       "281     women's_shoe_width\n",
       "282             zoom_specs\n",
       "\n",
       "[283 rows x 1 columns]"
      ]
     },
     "execution_count": 3,
     "metadata": {},
     "output_type": "execute_result"
    }
   ],
   "source": [
    "for index, row in df.iterrows():\n",
    "    # extract the values from the row\n",
    "    att = row['absorbency']\n",
    "\n",
    "    \n",
    "    # construct the SQL query using the row values\n",
    "    sql_query = f\"select output_data:'{att}'::string op from outputvariants where customer='flamingo' and op is not null limit 50\"\n",
    "    \n",
    "    # execute the query and retrieve the results as a pandas DataFrame\n",
    "    query_result = pd.read_sql(sql_query, conn)\n",
    "    \n",
    "    odf = pd.concatpd.concat([query_results, query_result], ignore_index=True)\n",
    "    \n",
    "    # do something with the query result, for example print the first row\n",
    "    print(f\"Result for row {index}: {query_result.iloc[0]}\")\n",
    "    \n",
    "# close the database connection\n",
    "conn.close()"
   ]
  },
  {
   "cell_type": "code",
   "execution_count": null,
   "id": "9dfc7ce1",
   "metadata": {},
   "outputs": [],
   "source": []
  }
 ],
 "metadata": {
  "kernelspec": {
   "display_name": "Python 3 (ipykernel)",
   "language": "python",
   "name": "python3"
  },
  "language_info": {
   "codemirror_mode": {
    "name": "ipython",
    "version": 3
   },
   "file_extension": ".py",
   "mimetype": "text/x-python",
   "name": "python",
   "nbconvert_exporter": "python",
   "pygments_lexer": "ipython3",
   "version": "3.9.12"
  }
 },
 "nbformat": 4,
 "nbformat_minor": 5
}
