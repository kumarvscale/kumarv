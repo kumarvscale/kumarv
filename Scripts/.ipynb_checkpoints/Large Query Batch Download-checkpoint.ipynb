{
 "cells": [
  {
   "cell_type": "code",
   "execution_count": 20,
   "id": "23a9e86a",
   "metadata": {},
   "outputs": [
    {
     "name": "stdout",
     "output_type": "stream",
     "text": [
      "Initiating login request with your identity provider. A browser window should have opened for you to complete the login. If you can't see it, check existing browser windows, or your OS settings. Press CTRL+C to abort and try again...\n"
     ]
    }
   ],
   "source": [
    "import pandas as pd\n",
    "import snowflake.connector\n",
    "from collections import defaultdict\n",
    "import json\n",
    "import re\n",
    "\n",
    "con = snowflake.connector.connect(user='vishal.kumar@scale.com',\n",
    "                                 account='pxa65918',\n",
    "                                 authenticator='externalbrowser',\n",
    "                                 warehouse='COMPUTE_WH',\n",
    "                                 database='SCALE_CRAWLER',\n",
    "                                 role='GENERAL_RO')\n",
    "\n",
    "cs = con.cursor()"
   ]
  },
  {
   "cell_type": "code",
   "execution_count": 21,
   "id": "8be82465",
   "metadata": {},
   "outputs": [
    {
     "name": "stdout",
     "output_type": "stream",
     "text": [
      "Initiating login request with your identity provider. A browser window should have opened for you to complete the login. If you can't see it, check existing browser windows, or your OS settings. Press CTRL+C to abort and try again...\n"
     ]
    }
   ],
   "source": [
    "sql = '''\n",
    "with cf as (\n",
    "select\n",
    "  DOMAIN,\n",
    "  STATUS,\n",
    "  CATALOG_ID,\n",
    "  CLAIMED_AT,\n",
    "  COMPLETED_AT,\n",
    "  AUDIT_LEVEL,\n",
    "  CREATED_AT,\n",
    "  CUSTOMER_FEEDBACK_DATE_SENT,\n",
    "  RESULT as json_values\n",
    "from\n",
    "  PUBLIC.SPOTTERAUDITS\n",
    "WHERE\n",
    "--  STATUS = 'Accepted'\n",
    "    AUDIT_TYPE = 'CustomerFeedback' AND\n",
    "    AUDIT_LEVEL = 'Attempter' AND\n",
    "    STATUS = 'Submitted To Review' AND\n",
    "    CUSTOMER_FEEDBACK_DATE_SENT BETWEEN '2022-08-11' AND '2022-08-20'\n",
    ")\n",
    "\n",
    "select\n",
    "--    cf.DOMAIN,\n",
    "    cf.STATUS,\n",
    "--    cf.CATALOG_ID,\n",
    "    cf.AUDIT_LEVEL,\n",
    "    cf.CREATED_AT,\n",
    "--    cf.CLAIMED_AT,\n",
    "--    cf.COMPLETED_AT,\n",
    "    cf.CUSTOMER_FEEDBACK_DATE_SENT,\n",
    "    a.key PRODUCT_ID,\n",
    "    b.key ATTRIBUTE,\n",
    "    c.value AUDIT_RESULT\n",
    "--  c.key AUDIT,\n",
    "--  c.value RES\n",
    "FROM\n",
    "    cf,\n",
    "    lateral flatten (input => json_values) a,\n",
    "    lateral flatten (input => a.value, outer => true) b,\n",
    "    lateral flatten (input => b.value, outer => true) c\n",
    "--    lateral flatten (input => c.value, outer\n",
    "WHERE AUDIT_RESULT !='' AND AUDIT_RESULT !='true' \n",
    "AND AUDIT_RESULT !='false' \n",
    "-- AND CUSTOMER_FEEDBACK_DATE_SENT > '2022-08-06' \n",
    "AND AUDIT_RESULT LIKE '%Non-Reproducible%' \n",
    "OR AUDIT_RESULT LIKE '%Reproducible%' \n",
    "OR AUDIT_RESULT LIKE '%Fully Correct by the Customer%' \n",
    "OR AUDIT_RESULT LIKE '%Audit%'\n",
    "'''\n",
    "cs.execute(sql)\n",
    "\n",
    "df = cs.fetch_pandas_all()"
   ]
  },
  {
   "cell_type": "code",
   "execution_count": 18,
   "id": "12354d8b",
   "metadata": {},
   "outputs": [],
   "source": [
    "\n",
    "#df.to_csv('audits.csv')\n"
   ]
  },
  {
   "cell_type": "code",
   "execution_count": 22,
   "id": "4af70701",
   "metadata": {},
   "outputs": [
    {
     "name": "stdout",
     "output_type": "stream",
     "text": [
      "38497196\n"
     ]
    }
   ],
   "source": [
    "print(len(df))"
   ]
  },
  {
   "cell_type": "code",
   "execution_count": null,
   "id": "3c8fee02",
   "metadata": {},
   "outputs": [],
   "source": []
  }
 ],
 "metadata": {
  "kernelspec": {
   "display_name": "Python 3 (ipykernel)",
   "language": "python",
   "name": "python3"
  },
  "language_info": {
   "codemirror_mode": {
    "name": "ipython",
    "version": 3
   },
   "file_extension": ".py",
   "mimetype": "text/x-python",
   "name": "python",
   "nbconvert_exporter": "python",
   "pygments_lexer": "ipython3",
   "version": "3.10.5"
  }
 },
 "nbformat": 4,
 "nbformat_minor": 5
}
