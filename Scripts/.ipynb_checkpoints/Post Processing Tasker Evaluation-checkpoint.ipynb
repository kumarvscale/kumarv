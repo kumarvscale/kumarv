{
 "cells": [
  {
   "cell_type": "code",
   "execution_count": 1,
   "id": "f60795cc",
   "metadata": {},
   "outputs": [],
   "source": [
    "import pandas as pd\n",
    "import numpy as np\n",
    "import snowflake.connector\n",
    "from collections import defaultdict\n",
    "import json\n",
    "import re\n",
    "import requests\n",
    "import sys\n",
    "import random\n",
    "import requests\n",
    "import tabulate\n",
    "from datetime import datetime\n",
    "import schedule\n",
    "import time"
   ]
  },
  {
   "cell_type": "code",
   "execution_count": 2,
   "id": "66bc90fc",
   "metadata": {},
   "outputs": [
    {
     "name": "stdout",
     "output_type": "stream",
     "text": [
      "Initiating login request with your identity provider. A browser window should have opened for you to complete the login. If you can't see it, check existing browser windows, or your OS settings. Press CTRL+C to abort and try again...\n"
     ]
    }
   ],
   "source": [
    "#login to snowflake db\n",
    "con = snowflake.connector.connect(user='vishal.kumar@scale.com',\n",
    "                                 account='pxa65918',\n",
    "                                 authenticator='externalbrowser',\n",
    "                                 warehouse='COMPUTE_WH',\n",
    "                                 database='SCALE_CRAWLER',\n",
    "                                 role='GENERAL_RO')\n",
    "\n",
    "cs = con.cursor()"
   ]
  },
  {
   "cell_type": "code",
   "execution_count": 10,
   "id": "39d447c7",
   "metadata": {},
   "outputs": [],
   "source": [
    "#Get work logs\n",
    "sql = f'''\n",
    "with fb as (\n",
    "  SELECT\n",
    "    qe._id as ID,\n",
    "    qe.user_email :: string uemail,\n",
    "    qe.metadata: action action,\n",
    "    qe.metadata: auditField auditField,\n",
    "    qe.metadata: domain domain,\n",
    "    qe.metadata: eventCreatedAt eventCreatedAt,\n",
    "    qe.metadata: fieldAdditions fieldAdditions,\n",
    "    qe.metadata: fieldBefore fieldBefore,\n",
    "    qe.metadata: fieldCurrent fieldCurrent,\n",
    "    qe.metadata: fieldLength fieldLength,\n",
    "    qe.metadata: fieldRemovals fieldRemovals,\n",
    "    qe.metadata: flagsAvailable flagsAvailable,\n",
    "    qe.metadata: hintsAvailable hintsAvailable,\n",
    "--  qe.metadata: pvids pvids,\n",
    "    qe.metadata: totalMillisElapsed totalMillisElapsed,\n",
    "    qe.event_type,\n",
    "    qe.event_at,\n",
    "    cast (qe.event_at as DATE) AS EventDate,\n",
    "    qe.metadata: auditLevel :: string auditLevel,\n",
    "    pv.value:: string as pvid\n",
    "  FROM\n",
    "    PUBLIC.QAEVENTS qe,\n",
    "    lateral flatten(input => qe.metadata: pvids) pv\n",
    "--    lateral flatten(input => pv.value, outer => true) pvd\n",
    "  WHERE\n",
    "    CAST(qe.event_at AS DATE) > '2022-09-13'\n",
    "    AND qe.metadata :domain is not NULL\n",
    "    AND qe.event_type = 'submit_description_speed_audit' --  AND qe.metadata: auditLevel !='QA'\n",
    "    -- AND qe.user_email LIKE '%tele%'\n",
    ")\n",
    "select\n",
    "  fb.ID,\n",
    "  fb.uemail,\n",
    "  fb.action,\n",
    "  fb.auditField,\n",
    "  fb.domain,\n",
    "  fb.eventCreatedAt,\n",
    "  fb.fieldAdditions,\n",
    "  fb.fieldBefore,\n",
    "  fb.fieldCurrent,\n",
    "  fb.fieldLength,\n",
    "  fb.fieldRemovals,\n",
    "  fb.flagsAvailable,\n",
    "  fb.hintsAvailable,\n",
    "  fb.pvid,\n",
    "  fb.totalMillisElapsed,\n",
    "  fb.event_type,\n",
    "  fb.event_at,\n",
    "  fb.EventDate\n",
    "from\n",
    "  fb\n",
    "where \n",
    "fb.EventDate > '2022-09-13'\n",
    "'''\n",
    "cs.execute(sql)\n",
    "tasklogdf = cs.fetch_pandas_all()"
   ]
  },
  {
   "cell_type": "code",
   "execution_count": 12,
   "id": "64de8560",
   "metadata": {},
   "outputs": [],
   "source": [
    "tasklogdf.to_csv('tasks.csv')\n",
    "#tasklogdf.loc[tasklogdf['PVID'] == 'zonenaturals.com!29037423394896']"
   ]
  },
  {
   "cell_type": "code",
   "execution_count": 6,
   "id": "59ce4924",
   "metadata": {},
   "outputs": [
    {
     "data": {
      "text/plain": [
       "DOMAIN\n",
       "\"1821manmade.com\"                271\n",
       "\"abbyandfinn.com\"                132\n",
       "\"abbyberner.com\"                 678\n",
       "\"alicia-witt.myshopify.com\"      107\n",
       "\"americanfitnesscouture.com\"     248\n",
       "                                ... \n",
       "\"www.vichyusa.com\"                82\n",
       "\"www.vivianlou.com\"               40\n",
       "\"www.wearfigs.com\"              4099\n",
       "\"yanasleep.com\"                   32\n",
       "\"zbiotics.com\"                    14\n",
       "Name: FIELDREMOVALS, Length: 94, dtype: int64"
      ]
     },
     "execution_count": 6,
     "metadata": {},
     "output_type": "execute_result"
    }
   ],
   "source": [
    "tasklogdf.groupby(['DOMAIN'])['FIELDREMOVALS'].count()"
   ]
  },
  {
   "cell_type": "code",
   "execution_count": 7,
   "id": "632066fa",
   "metadata": {},
   "outputs": [],
   "source": [
    "#tasklogdf.astype({'FIELDLENGTH': 'int32'}).dtypes\n",
    "tasklogdf['FIELDLENGTH'] = pd.to_numeric(tasklogdf['FIELDLENGTH'])"
   ]
  },
  {
   "cell_type": "code",
   "execution_count": null,
   "id": "781cd2b4",
   "metadata": {},
   "outputs": [],
   "source": [
    "domdf = tasklogdf.groupby(['DOMAIN'],['FIELDBEFORE'],['FIELDREMOVALS'],['UEMAIL'])['ID'].count()\n",
    "#domdf = pd.DataFrame([domdf])"
   ]
  },
  {
   "cell_type": "code",
   "execution_count": null,
   "id": "233fe02d",
   "metadata": {},
   "outputs": [],
   "source": [
    "domdf"
   ]
  },
  {
   "cell_type": "code",
   "execution_count": null,
   "id": "148bff1c",
   "metadata": {},
   "outputs": [],
   "source": [
    "#taskdf1 = tasklogdf.groupby(['PVID'])['ID'].nunique()\n",
    "#taskdf = tasklogdf.groupby(['PVID'])['FIELDCOUNT'].count()\n",
    "#taskdf = tasklogdf.groupby(['PVID'])['FIELDLENGTH'].agg(lambda x: pd.to_numeric(x, errors='coerce').sum())\n",
    "#taskdf = tasklogdf.groupby(['PVID'])['ID'].count()\n",
    "#taskdf = pd.pivot_table(tasklogdf, index=['PVID'],values=['ID','FIELDLENGTH'],aggfunc=np.sum)\n",
    "taskdf = pd.pivot_table(\n",
    "   tasklogdf,\n",
    "   index=['DOMAIN'],\n",
    "   aggfunc={'FIELDLENGTH': np.sum, 'ID': len}\n",
    ").rename(columns={'ID': 'COUNT'})"
   ]
  },
  {
   "cell_type": "code",
   "execution_count": null,
   "id": "5540a9a1",
   "metadata": {},
   "outputs": [],
   "source": [
    "taskdf['CHANGELENGTH'] = taskdf['FIELDLENGTH']/taskdf['COUNT']"
   ]
  },
  {
   "cell_type": "code",
   "execution_count": null,
   "id": "3f7bb7ae",
   "metadata": {},
   "outputs": [],
   "source": [
    "#taskdf['CHANGED'] = (taskdf['CHANGELENGTH']).is_integer()"
   ]
  },
  {
   "cell_type": "code",
   "execution_count": null,
   "id": "4f1d9a1c",
   "metadata": {},
   "outputs": [],
   "source": [
    "#tasklogdf['AUDITLEVEL'].unique()"
   ]
  },
  {
   "cell_type": "code",
   "execution_count": null,
   "id": "66ca8c54",
   "metadata": {},
   "outputs": [],
   "source": [
    "taskdf['FRACTION'] = taskdf['CHANGELENGTH'].astype(str).str.split('.').str[1].astype(int)"
   ]
  },
  {
   "cell_type": "code",
   "execution_count": null,
   "id": "f3762b7a",
   "metadata": {},
   "outputs": [],
   "source": [
    "taskdf"
   ]
  },
  {
   "cell_type": "code",
   "execution_count": null,
   "id": "94147eb6",
   "metadata": {},
   "outputs": [],
   "source": [
    "changedpv = taskdf.loc[taskdf['FRACTION'] != 0]"
   ]
  },
  {
   "cell_type": "code",
   "execution_count": null,
   "id": "4fb90432",
   "metadata": {},
   "outputs": [],
   "source": [
    "changedpv"
   ]
  },
  {
   "cell_type": "code",
   "execution_count": null,
   "id": "8efde64b",
   "metadata": {},
   "outputs": [],
   "source": [
    "findf = changedpv.merge(tasklogdf, left_on='PVID', right_on='PVID', how='inner', indicator=True)"
   ]
  },
  {
   "cell_type": "code",
   "execution_count": null,
   "id": "ba33a7b5",
   "metadata": {},
   "outputs": [],
   "source": [
    "findf"
   ]
  },
  {
   "cell_type": "code",
   "execution_count": null,
   "id": "fc4cd361",
   "metadata": {},
   "outputs": [],
   "source": [
    "tasklogdf.loc[tasklogdf['PVID'] == 'albionfit.com!15385906118759']"
   ]
  },
  {
   "cell_type": "code",
   "execution_count": null,
   "id": "b18e00e9",
   "metadata": {},
   "outputs": [],
   "source": [
    "findf['LEVEL'] = np.where(findf['UEMAIL'].str.contains(\"contractors\"), 'QA', np.where(findf['UEMAIL'].str.contains(\"telework\"), 'TW', 'ScaleHQ'))"
   ]
  },
  {
   "cell_type": "code",
   "execution_count": null,
   "id": "e8e9e1c5",
   "metadata": {},
   "outputs": [],
   "source": [
    "findf.loc[findf['LEVEL'] == 'TW']"
   ]
  },
  {
   "cell_type": "code",
   "execution_count": null,
   "id": "5264e053",
   "metadata": {},
   "outputs": [],
   "source": [
    "findf.to_csv('auditsdesc2.csv')"
   ]
  },
  {
   "cell_type": "code",
   "execution_count": null,
   "id": "1001763f",
   "metadata": {},
   "outputs": [],
   "source": [
    "findf = findf.drop('AUDITFIELD', axis=1)"
   ]
  },
  {
   "cell_type": "code",
   "execution_count": null,
   "id": "a2984ac8",
   "metadata": {},
   "outputs": [],
   "source": [
    "findf"
   ]
  },
  {
   "cell_type": "code",
   "execution_count": null,
   "id": "0bb82587",
   "metadata": {},
   "outputs": [],
   "source": []
  }
 ],
 "metadata": {
  "kernelspec": {
   "display_name": "Python 3 (ipykernel)",
   "language": "python",
   "name": "python3"
  },
  "language_info": {
   "codemirror_mode": {
    "name": "ipython",
    "version": 3
   },
   "file_extension": ".py",
   "mimetype": "text/x-python",
   "name": "python",
   "nbconvert_exporter": "python",
   "pygments_lexer": "ipython3",
   "version": "3.10.5"
  }
 },
 "nbformat": 4,
 "nbformat_minor": 5
}
