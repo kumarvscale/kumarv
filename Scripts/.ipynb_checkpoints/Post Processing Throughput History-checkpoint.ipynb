{
 "cells": [
  {
   "cell_type": "code",
   "execution_count": 1,
   "id": "8205f833",
   "metadata": {},
   "outputs": [],
   "source": [
    "import pandas as pd\n",
    "import numpy as np\n",
    "import snowflake.connector\n",
    "from collections import defaultdict\n",
    "import json\n",
    "import re\n",
    "import requests\n",
    "import sys\n",
    "import random\n",
    "import requests\n",
    "import tabulate\n",
    "from datetime import datetime\n",
    "import schedule\n",
    "import time"
   ]
  },
  {
   "cell_type": "code",
   "execution_count": 2,
   "id": "d3b5b64c",
   "metadata": {},
   "outputs": [
    {
     "name": "stdout",
     "output_type": "stream",
     "text": [
      "Initiating login request with your identity provider. A browser window should have opened for you to complete the login. If you can't see it, check existing browser windows, or your OS settings. Press CTRL+C to abort and try again...\n"
     ]
    }
   ],
   "source": [
    "#login to snowflake db\n",
    "con = snowflake.connector.connect(user='vishal.kumar@scale.com',\n",
    "                                 account='pxa65918',\n",
    "                                 authenticator='externalbrowser',\n",
    "                                 warehouse='COMPUTE_WH',\n",
    "                                 database='SCALE_CRAWLER',\n",
    "                                 role='GENERAL_RO')\n",
    "\n",
    "cs = con.cursor()"
   ]
  },
  {
   "cell_type": "code",
   "execution_count": 3,
   "id": "d337fe34",
   "metadata": {},
   "outputs": [],
   "source": [
    "#Get work logs\n",
    "sql = f'''\n",
    "SELECT\n",
    "  PUBLIC.QAEVENTS.user_email :: string EMAIL,\n",
    "  PUBLIC.QAEVENTS.metadata: pvids PVIDS,\n",
    "  (PUBLIC.QAEVENTS.metadata: totalMillisElapsed)/100 TIMESPENTSEC,\n",
    "  --  PUBLIC.QAEVENTS.metadata: fieldBefore BEFORE,\n",
    "  --  PUBLIC.QAEVENTS.metadata: fieldCurrent AFTER,\n",
    "  PUBLIC.QAEVENTS.event_type,\n",
    "  PUBLIC.QAEVENTS.event_at,\n",
    "  cast (PUBLIC.QAEVENTS.event_at as DATE) AS EventDate,\n",
    "  --  PUBLIC.QAEVENTS.metadata: fullStoryEvent :: string,\n",
    "  --  PUBLIC.QAEVENTS.metadata: auditLevel :: string,\n",
    "  --  PUBLIC.QAEVENTS.metadata: hintsAvailable,\n",
    "  PUBLIC.QAEVENTS.metadata: domain SITE\n",
    "FROM\n",
    "  PUBLIC.QAEVENTS\n",
    "WHERE\n",
    "--        CAST(PUBLIC.QAEVENTS.event_at AS DATE) = CURRENT_DATE()\n",
    "      CAST(PUBLIC.QAEVENTS.event_at AS DATE) > '2022-08-07'\n",
    "  AND PUBLIC.QAEVENTS.metadata :domain is not NULL\n",
    "  AND PUBLIC.QAEVENTS.event_type = 'submit_description_speed_audit'\n",
    "'''\n",
    "cs.execute(sql)\n",
    "worklogdf = cs.fetch_pandas_all()\n"
   ]
  },
  {
   "cell_type": "code",
   "execution_count": null,
   "id": "d7a04cab",
   "metadata": {},
   "outputs": [],
   "source": [
    "#worklogdf.to_csv('foriris.csv')"
   ]
  },
  {
   "cell_type": "code",
   "execution_count": null,
   "id": "5d1ecebd",
   "metadata": {},
   "outputs": [],
   "source": [
    "#Create QA or Teleworker classification column, convert timespent to minutes\n",
    "worklogdf['LEVEL'] = np.where(worklogdf['EMAIL'].str.contains(\"contractors\"), 'QA', np.where(worklogdf['EMAIL'].str.contains(\"telework\"), 'TW', 'ScaleHQ'))\n",
    "worklogdf['TIMESPENTSEC'] = worklogdf['TIMESPENTSEC'].astype(int)\n",
    "worklogdf['TIMESPENTSEC'] = (worklogdf['TIMESPENTSEC'] / 60)\n",
    "#worklogdf = worklogdf.astype({\"TIMESPENTSEC\": int})\n",
    "#worklogdf"
   ]
  },
  {
   "cell_type": "code",
   "execution_count": null,
   "id": "7cfed472",
   "metadata": {},
   "outputs": [],
   "source": [
    "#Summarize reports\n",
    "qacount = worklogdf.groupby(['EVENTDATE','LEVEL'])['EMAIL'].nunique()\n",
    "qacount"
   ]
  },
  {
   "cell_type": "code",
   "execution_count": null,
   "id": "288a092d",
   "metadata": {},
   "outputs": [],
   "source": [
    "descount = worklogdf.groupby(['LEVEL'])['EVENTDATE'].count()\n",
    "descount = descount.to_frame()\n",
    "descount.columns = ['Descriptions']\n",
    "descount\n",
    "#desccount.sort_values('EVENTDATE','LEVEL', ascending=False)"
   ]
  },
  {
   "cell_type": "code",
   "execution_count": null,
   "id": "c6a939ee",
   "metadata": {},
   "outputs": [],
   "source": [
    "#get descriptions count\n",
    "tot = descount['Descriptions'].sum()\n",
    "tot"
   ]
  },
  {
   "cell_type": "code",
   "execution_count": null,
   "id": "a17c2d9f",
   "metadata": {},
   "outputs": [],
   "source": [
    "#get sites count\n",
    "tmpct=[]\n",
    "sitecount=0\n",
    "for i in range(0, len(worklogdf['SITE'])):\n",
    "    if worklogdf['SITE'][i] not in tmpct: \n",
    "        tmpct.append(worklogdf['SITE'][i])\n",
    "        sitecount += 1\n",
    "print(sitecount)"
   ]
  },
  {
   "cell_type": "code",
   "execution_count": 4,
   "id": "ec94899a",
   "metadata": {},
   "outputs": [],
   "source": [
    "#get sites list\n",
    "sitedf = worklogdf.groupby(['SITE','EVENTDATE'])['PVIDS'].count()\n",
    "sitedf.to_frame()\n",
    "sitedf.to_csv('pp_site_list.csv')"
   ]
  },
  {
   "cell_type": "code",
   "execution_count": 6,
   "id": "cf73d104",
   "metadata": {},
   "outputs": [],
   "source": []
  },
  {
   "cell_type": "code",
   "execution_count": null,
   "id": "aa36b3ba",
   "metadata": {},
   "outputs": [],
   "source": [
    "#get description count by QA\n",
    "qadescount = worklogdf.groupby(['EMAIL','LEVEL'])['EVENTDATE'].count()\n",
    "qadescount = qadescount.to_frame()\n",
    "qadescount\n",
    "#qadescount = qadescount.sort_values(by='Descriptions', ascending=False)\n",
    "#qdlite = qadescount.drop(['EVENTDATE'], axis=1)"
   ]
  },
  {
   "cell_type": "code",
   "execution_count": null,
   "id": "8d79fe10",
   "metadata": {},
   "outputs": [],
   "source": [
    "#get time spent by QA\n",
    "qatime = worklogdf.groupby(['EMAIL','EVENTDATE','LEVEL'])['TIMESPENTSEC'].sum()\n",
    "qatime"
   ]
  },
  {
   "cell_type": "code",
   "execution_count": null,
   "id": "6137b13c",
   "metadata": {},
   "outputs": [],
   "source": []
  }
 ],
 "metadata": {
  "kernelspec": {
   "display_name": "Python 3 (ipykernel)",
   "language": "python",
   "name": "python3"
  },
  "language_info": {
   "codemirror_mode": {
    "name": "ipython",
    "version": 3
   },
   "file_extension": ".py",
   "mimetype": "text/x-python",
   "name": "python",
   "nbconvert_exporter": "python",
   "pygments_lexer": "ipython3",
   "version": "3.10.5"
  }
 },
 "nbformat": 4,
 "nbformat_minor": 5
}
