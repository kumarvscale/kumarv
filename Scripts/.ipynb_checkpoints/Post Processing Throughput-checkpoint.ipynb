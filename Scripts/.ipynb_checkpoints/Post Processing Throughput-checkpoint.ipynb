{
 "cells": [
  {
   "cell_type": "code",
   "execution_count": 1,
   "id": "8205f833",
   "metadata": {},
   "outputs": [],
   "source": [
    "import pandas as pd\n",
    "import numpy as np\n",
    "import snowflake.connector\n",
    "from collections import defaultdict\n",
    "import json\n",
    "import re\n",
    "import requests\n",
    "import sys\n",
    "import random\n",
    "import requests\n",
    "import tabulate\n",
    "from datetime import datetime\n",
    "import schedule\n",
    "import time"
   ]
  },
  {
   "cell_type": "code",
   "execution_count": 2,
   "id": "d3b5b64c",
   "metadata": {},
   "outputs": [
    {
     "name": "stdout",
     "output_type": "stream",
     "text": [
      "Initiating login request with your identity provider. A browser window should have opened for you to complete the login. If you can't see it, check existing browser windows, or your OS settings. Press CTRL+C to abort and try again...\n"
     ]
    }
   ],
   "source": [
    "#login to snowflake db\n",
    "con = snowflake.connector.connect(user='vishal.kumar@scale.com',\n",
    "                                 account='pxa65918',\n",
    "                                 authenticator='externalbrowser',\n",
    "                                 warehouse='COMPUTE_WH',\n",
    "                                 database='SCALE_CRAWLER',\n",
    "                                 role='GENERAL_RO')\n",
    "\n",
    "cs = con.cursor()"
   ]
  },
  {
   "cell_type": "code",
   "execution_count": 3,
   "id": "d337fe34",
   "metadata": {},
   "outputs": [],
   "source": [
    "#Get work logs\n",
    "sql = f'''\n",
    "SELECT\n",
    "  PUBLIC.QAEVENTS.user_email :: string EMAIL,\n",
    "  PUBLIC.QAEVENTS.metadata: pvids PVIDS,\n",
    "  (PUBLIC.QAEVENTS.metadata: totalMillisElapsed)/100 TIMESPENTSEC,\n",
    "  --  PUBLIC.QAEVENTS.metadata: fieldBefore BEFORE,\n",
    "  --  PUBLIC.QAEVENTS.metadata: fieldCurrent AFTER,\n",
    "  PUBLIC.QAEVENTS.event_type,\n",
    "  PUBLIC.QAEVENTS.event_at,\n",
    "  cast (PUBLIC.QAEVENTS.event_at as DATE) AS EventDate,\n",
    "  --  PUBLIC.QAEVENTS.metadata: fullStoryEvent :: string,\n",
    "  --  PUBLIC.QAEVENTS.metadata: auditLevel :: string,\n",
    "  --  PUBLIC.QAEVENTS.metadata: hintsAvailable,\n",
    "  PUBLIC.QAEVENTS.metadata: domain SITE\n",
    "FROM\n",
    "  PUBLIC.QAEVENTS\n",
    "WHERE\n",
    "--        CAST(PUBLIC.QAEVENTS.event_at AS DATE) = CURRENT_DATE()\n",
    "      CAST(PUBLIC.QAEVENTS.event_at AS DATE) = '2022-10-04'\n",
    "  AND PUBLIC.QAEVENTS.metadata :domain is not NULL\n",
    "  AND PUBLIC.QAEVENTS.event_type = 'submit_description_speed_audit'\n",
    "'''\n",
    "cs.execute(sql)\n",
    "worklogdf = cs.fetch_pandas_all()\n"
   ]
  },
  {
   "cell_type": "code",
   "execution_count": 4,
   "id": "68e84238",
   "metadata": {},
   "outputs": [],
   "source": [
    "#worklogdf.to_csv('foriris.csv')"
   ]
  },
  {
   "cell_type": "code",
   "execution_count": 5,
   "id": "5d1ecebd",
   "metadata": {},
   "outputs": [],
   "source": [
    "#Create QA or Teleworker classification column, convert timespent to minutes\n",
    "worklogdf['LEVEL'] = np.where(worklogdf['EMAIL'].str.contains(\"contractors\"), 'QA', np.where(worklogdf['EMAIL'].str.contains(\"telework\"), 'TW', 'ScaleHQ'))\n",
    "worklogdf['TIMESPENTSEC'] = worklogdf['TIMESPENTSEC'].astype(int)\n",
    "worklogdf['TIMESPENTSEC'] = (worklogdf['TIMESPENTSEC'] / 60)\n",
    "#worklogdf = worklogdf.astype({\"TIMESPENTSEC\": int})\n",
    "#worklogdf"
   ]
  },
  {
   "cell_type": "code",
   "execution_count": 6,
   "id": "7cfed472",
   "metadata": {},
   "outputs": [
    {
     "data": {
      "text/plain": [
       "EVENTDATE   LEVEL\n",
       "2022-10-04  QA       16\n",
       "            TW       15\n",
       "Name: EMAIL, dtype: int64"
      ]
     },
     "execution_count": 6,
     "metadata": {},
     "output_type": "execute_result"
    }
   ],
   "source": [
    "#Summarize reports\n",
    "qacount = worklogdf.groupby(['EVENTDATE','LEVEL'])['EMAIL'].nunique()\n",
    "qacount"
   ]
  },
  {
   "cell_type": "code",
   "execution_count": 7,
   "id": "288a092d",
   "metadata": {},
   "outputs": [
    {
     "data": {
      "text/html": [
       "<div>\n",
       "<style scoped>\n",
       "    .dataframe tbody tr th:only-of-type {\n",
       "        vertical-align: middle;\n",
       "    }\n",
       "\n",
       "    .dataframe tbody tr th {\n",
       "        vertical-align: top;\n",
       "    }\n",
       "\n",
       "    .dataframe thead th {\n",
       "        text-align: right;\n",
       "    }\n",
       "</style>\n",
       "<table border=\"1\" class=\"dataframe\">\n",
       "  <thead>\n",
       "    <tr style=\"text-align: right;\">\n",
       "      <th></th>\n",
       "      <th>Descriptions</th>\n",
       "    </tr>\n",
       "    <tr>\n",
       "      <th>LEVEL</th>\n",
       "      <th></th>\n",
       "    </tr>\n",
       "  </thead>\n",
       "  <tbody>\n",
       "    <tr>\n",
       "      <th>QA</th>\n",
       "      <td>16418</td>\n",
       "    </tr>\n",
       "    <tr>\n",
       "      <th>TW</th>\n",
       "      <td>23457</td>\n",
       "    </tr>\n",
       "  </tbody>\n",
       "</table>\n",
       "</div>"
      ],
      "text/plain": [
       "       Descriptions\n",
       "LEVEL              \n",
       "QA            16418\n",
       "TW            23457"
      ]
     },
     "execution_count": 7,
     "metadata": {},
     "output_type": "execute_result"
    }
   ],
   "source": [
    "descount = worklogdf.groupby(['LEVEL'])['EVENTDATE'].count()\n",
    "descount = descount.to_frame()\n",
    "descount.columns = ['Descriptions']\n",
    "descount\n",
    "#desccount.sort_values('EVENTDATE','LEVEL', ascending=False)"
   ]
  },
  {
   "cell_type": "code",
   "execution_count": 8,
   "id": "c6a939ee",
   "metadata": {},
   "outputs": [
    {
     "data": {
      "text/plain": [
       "39875"
      ]
     },
     "execution_count": 8,
     "metadata": {},
     "output_type": "execute_result"
    }
   ],
   "source": [
    "#get descriptions count\n",
    "tot = descount['Descriptions'].sum()\n",
    "tot"
   ]
  },
  {
   "cell_type": "code",
   "execution_count": 9,
   "id": "a17c2d9f",
   "metadata": {},
   "outputs": [
    {
     "name": "stdout",
     "output_type": "stream",
     "text": [
      "93\n"
     ]
    }
   ],
   "source": [
    "#get sites count\n",
    "tmpct=[]\n",
    "sitecount=0\n",
    "for i in range(0, len(worklogdf['SITE'])):\n",
    "    if worklogdf['SITE'][i] not in tmpct: \n",
    "        tmpct.append(worklogdf['SITE'][i])\n",
    "        sitecount += 1\n",
    "print(sitecount)"
   ]
  },
  {
   "cell_type": "code",
   "execution_count": 10,
   "id": "edbc84da",
   "metadata": {},
   "outputs": [],
   "source": [
    "#get sites list\n",
    "#sitedf = worklogdf.groupby(['SITE','EVENTDATE'])['PVIDS'].count()\n",
    "#sitedf.to_frame()\n",
    "#sitedf.to_csv('pp_site_list.csv')"
   ]
  },
  {
   "cell_type": "code",
   "execution_count": 11,
   "id": "aa36b3ba",
   "metadata": {},
   "outputs": [
    {
     "data": {
      "text/html": [
       "<div>\n",
       "<style scoped>\n",
       "    .dataframe tbody tr th:only-of-type {\n",
       "        vertical-align: middle;\n",
       "    }\n",
       "\n",
       "    .dataframe tbody tr th {\n",
       "        vertical-align: top;\n",
       "    }\n",
       "\n",
       "    .dataframe thead th {\n",
       "        text-align: right;\n",
       "    }\n",
       "</style>\n",
       "<table border=\"1\" class=\"dataframe\">\n",
       "  <thead>\n",
       "    <tr style=\"text-align: right;\">\n",
       "      <th></th>\n",
       "      <th></th>\n",
       "      <th>EVENTDATE</th>\n",
       "    </tr>\n",
       "    <tr>\n",
       "      <th>EMAIL</th>\n",
       "      <th>LEVEL</th>\n",
       "      <th></th>\n",
       "    </tr>\n",
       "  </thead>\n",
       "  <tbody>\n",
       "    <tr>\n",
       "      <th>kyla.mananghaya@teleworkph-mails.com</th>\n",
       "      <th>TW</th>\n",
       "      <td>5212</td>\n",
       "    </tr>\n",
       "    <tr>\n",
       "      <th>kent.mozo@contractors.scale.com</th>\n",
       "      <th>QA</th>\n",
       "      <td>4286</td>\n",
       "    </tr>\n",
       "    <tr>\n",
       "      <th>christian.mitu@teleworkph-mails.com</th>\n",
       "      <th>TW</th>\n",
       "      <td>4207</td>\n",
       "    </tr>\n",
       "    <tr>\n",
       "      <th>mitzifaye.borja@teleworkph-mails.com</th>\n",
       "      <th>TW</th>\n",
       "      <td>3941</td>\n",
       "    </tr>\n",
       "    <tr>\n",
       "      <th>jaspher.abayon@teleworkph-mails.com</th>\n",
       "      <th>TW</th>\n",
       "      <td>2928</td>\n",
       "    </tr>\n",
       "    <tr>\n",
       "      <th>karla.nunez@contractors.scale.com</th>\n",
       "      <th>QA</th>\n",
       "      <td>2719</td>\n",
       "    </tr>\n",
       "    <tr>\n",
       "      <th>jerome.canasa@teleworkph-mails.com</th>\n",
       "      <th>TW</th>\n",
       "      <td>2657</td>\n",
       "    </tr>\n",
       "    <tr>\n",
       "      <th>jose.bangay@contractors.scale.com</th>\n",
       "      <th>QA</th>\n",
       "      <td>2449</td>\n",
       "    </tr>\n",
       "    <tr>\n",
       "      <th>reyman.cajayon@teleworkph-mails.com</th>\n",
       "      <th>TW</th>\n",
       "      <td>1537</td>\n",
       "    </tr>\n",
       "    <tr>\n",
       "      <th>caterina.bourg@contractors.scale.com</th>\n",
       "      <th>QA</th>\n",
       "      <td>1501</td>\n",
       "    </tr>\n",
       "    <tr>\n",
       "      <th>ruchel.casero@contractors.scale.com</th>\n",
       "      <th>QA</th>\n",
       "      <td>1409</td>\n",
       "    </tr>\n",
       "    <tr>\n",
       "      <th>abegael.intertas@teleworkph-mails.com</th>\n",
       "      <th>TW</th>\n",
       "      <td>1124</td>\n",
       "    </tr>\n",
       "    <tr>\n",
       "      <th>aia.valles@contractors.scale.com</th>\n",
       "      <th>QA</th>\n",
       "      <td>1048</td>\n",
       "    </tr>\n",
       "    <tr>\n",
       "      <th>german.toledo@contractors.scale.com</th>\n",
       "      <th>QA</th>\n",
       "      <td>824</td>\n",
       "    </tr>\n",
       "    <tr>\n",
       "      <th>adeline.santos@teleworkph-mails.com</th>\n",
       "      <th>TW</th>\n",
       "      <td>654</td>\n",
       "    </tr>\n",
       "    <tr>\n",
       "      <th>samantha.couoh@contractors.scale.com</th>\n",
       "      <th>QA</th>\n",
       "      <td>469</td>\n",
       "    </tr>\n",
       "    <tr>\n",
       "      <th>johntristan.faustino@teleworkph-mails.com</th>\n",
       "      <th>TW</th>\n",
       "      <td>382</td>\n",
       "    </tr>\n",
       "    <tr>\n",
       "      <th>mariana.cuevas@contractors.scale.com</th>\n",
       "      <th>QA</th>\n",
       "      <td>362</td>\n",
       "    </tr>\n",
       "    <tr>\n",
       "      <th>keen.beltran@teleworkph-mails.com</th>\n",
       "      <th>TW</th>\n",
       "      <td>360</td>\n",
       "    </tr>\n",
       "    <tr>\n",
       "      <th>lyndon.tojeno@contractors.scale.com</th>\n",
       "      <th>QA</th>\n",
       "      <td>321</td>\n",
       "    </tr>\n",
       "    <tr>\n",
       "      <th>joyce.palma@contractors.scale.com</th>\n",
       "      <th>QA</th>\n",
       "      <td>284</td>\n",
       "    </tr>\n",
       "    <tr>\n",
       "      <th>marco.escaroz@contractors.scale.com</th>\n",
       "      <th>QA</th>\n",
       "      <td>236</td>\n",
       "    </tr>\n",
       "    <tr>\n",
       "      <th>aldwinjohn.delacruz@teleworkph-mails.com</th>\n",
       "      <th>TW</th>\n",
       "      <td>225</td>\n",
       "    </tr>\n",
       "    <tr>\n",
       "      <th>gabriela.almaraz@contractors.scale.com</th>\n",
       "      <th>QA</th>\n",
       "      <td>191</td>\n",
       "    </tr>\n",
       "    <tr>\n",
       "      <th>earlson.miquiabas@contractors.scale.com</th>\n",
       "      <th>QA</th>\n",
       "      <td>175</td>\n",
       "    </tr>\n",
       "    <tr>\n",
       "      <th>chiara.bagatella@contractors.scale.com</th>\n",
       "      <th>QA</th>\n",
       "      <td>125</td>\n",
       "    </tr>\n",
       "    <tr>\n",
       "      <th>christian.fernandez@teleworkph-mails.com</th>\n",
       "      <th>TW</th>\n",
       "      <td>96</td>\n",
       "    </tr>\n",
       "    <tr>\n",
       "      <th>crissaniel.jimenez@teleworkph-mails.com</th>\n",
       "      <th>TW</th>\n",
       "      <td>73</td>\n",
       "    </tr>\n",
       "    <tr>\n",
       "      <th>danilo.gatuz@teleworkph-mails.com</th>\n",
       "      <th>TW</th>\n",
       "      <td>47</td>\n",
       "    </tr>\n",
       "    <tr>\n",
       "      <th>lucia.ledesma@contractors.scale.com</th>\n",
       "      <th>QA</th>\n",
       "      <td>19</td>\n",
       "    </tr>\n",
       "    <tr>\n",
       "      <th>mahailey.santos@teleworkph-mails.com</th>\n",
       "      <th>TW</th>\n",
       "      <td>14</td>\n",
       "    </tr>\n",
       "  </tbody>\n",
       "</table>\n",
       "</div>"
      ],
      "text/plain": [
       "                                                 EVENTDATE\n",
       "EMAIL                                     LEVEL           \n",
       "kyla.mananghaya@teleworkph-mails.com      TW          5212\n",
       "kent.mozo@contractors.scale.com           QA          4286\n",
       "christian.mitu@teleworkph-mails.com       TW          4207\n",
       "mitzifaye.borja@teleworkph-mails.com      TW          3941\n",
       "jaspher.abayon@teleworkph-mails.com       TW          2928\n",
       "karla.nunez@contractors.scale.com         QA          2719\n",
       "jerome.canasa@teleworkph-mails.com        TW          2657\n",
       "jose.bangay@contractors.scale.com         QA          2449\n",
       "reyman.cajayon@teleworkph-mails.com       TW          1537\n",
       "caterina.bourg@contractors.scale.com      QA          1501\n",
       "ruchel.casero@contractors.scale.com       QA          1409\n",
       "abegael.intertas@teleworkph-mails.com     TW          1124\n",
       "aia.valles@contractors.scale.com          QA          1048\n",
       "german.toledo@contractors.scale.com       QA           824\n",
       "adeline.santos@teleworkph-mails.com       TW           654\n",
       "samantha.couoh@contractors.scale.com      QA           469\n",
       "johntristan.faustino@teleworkph-mails.com TW           382\n",
       "mariana.cuevas@contractors.scale.com      QA           362\n",
       "keen.beltran@teleworkph-mails.com         TW           360\n",
       "lyndon.tojeno@contractors.scale.com       QA           321\n",
       "joyce.palma@contractors.scale.com         QA           284\n",
       "marco.escaroz@contractors.scale.com       QA           236\n",
       "aldwinjohn.delacruz@teleworkph-mails.com  TW           225\n",
       "gabriela.almaraz@contractors.scale.com    QA           191\n",
       "earlson.miquiabas@contractors.scale.com   QA           175\n",
       "chiara.bagatella@contractors.scale.com    QA           125\n",
       "christian.fernandez@teleworkph-mails.com  TW            96\n",
       "crissaniel.jimenez@teleworkph-mails.com   TW            73\n",
       "danilo.gatuz@teleworkph-mails.com         TW            47\n",
       "lucia.ledesma@contractors.scale.com       QA            19\n",
       "mahailey.santos@teleworkph-mails.com      TW            14"
      ]
     },
     "execution_count": 11,
     "metadata": {},
     "output_type": "execute_result"
    }
   ],
   "source": [
    "#get description count by QA\n",
    "qadescount = worklogdf.groupby(['EMAIL','LEVEL'])['EVENTDATE'].count()\n",
    "qadescount = qadescount.to_frame()\n",
    "qadescount = qadescount.sort_values(['EVENTDATE'], ascending=False)\n",
    "qadescount\n",
    "#qadescount = qadescount.sort_values(by='Descriptions', ascending=False)\n",
    "#qdlite = qadescount.drop(['EVENTDATE'], axis=1)"
   ]
  },
  {
   "cell_type": "code",
   "execution_count": 12,
   "id": "8d79fe10",
   "metadata": {},
   "outputs": [
    {
     "data": {
      "text/plain": [
       "EMAIL                                      EVENTDATE   LEVEL\n",
       "abegael.intertas@teleworkph-mails.com      2022-10-04  TW         678.900000\n",
       "adeline.santos@teleworkph-mails.com        2022-10-04  TW        1106.650000\n",
       "aia.valles@contractors.scale.com           2022-10-04  QA        7649.216667\n",
       "aldwinjohn.delacruz@teleworkph-mails.com   2022-10-04  TW         746.783333\n",
       "caterina.bourg@contractors.scale.com       2022-10-04  QA        2194.116667\n",
       "chiara.bagatella@contractors.scale.com     2022-10-04  QA        1713.300000\n",
       "christian.fernandez@teleworkph-mails.com   2022-10-04  TW         268.233333\n",
       "christian.mitu@teleworkph-mails.com        2022-10-04  TW        3577.966667\n",
       "crissaniel.jimenez@teleworkph-mails.com    2022-10-04  TW         153.300000\n",
       "danilo.gatuz@teleworkph-mails.com          2022-10-04  TW         263.966667\n",
       "earlson.miquiabas@contractors.scale.com    2022-10-04  QA        1908.116667\n",
       "gabriela.almaraz@contractors.scale.com     2022-10-04  QA        2323.733333\n",
       "german.toledo@contractors.scale.com        2022-10-04  QA         566.866667\n",
       "jaspher.abayon@teleworkph-mails.com        2022-10-04  TW        2717.733333\n",
       "jerome.canasa@teleworkph-mails.com         2022-10-04  TW        1868.783333\n",
       "johntristan.faustino@teleworkph-mails.com  2022-10-04  TW          21.600000\n",
       "jose.bangay@contractors.scale.com          2022-10-04  QA        4880.400000\n",
       "joyce.palma@contractors.scale.com          2022-10-04  QA         734.366667\n",
       "karla.nunez@contractors.scale.com          2022-10-04  QA        4511.383333\n",
       "keen.beltran@teleworkph-mails.com          2022-10-04  TW         112.033333\n",
       "kent.mozo@contractors.scale.com            2022-10-04  QA       14608.033333\n",
       "kyla.mananghaya@teleworkph-mails.com       2022-10-04  TW        3929.633333\n",
       "lucia.ledesma@contractors.scale.com        2022-10-04  QA         183.083333\n",
       "lyndon.tojeno@contractors.scale.com        2022-10-04  QA       10952.450000\n",
       "mahailey.santos@teleworkph-mails.com       2022-10-04  TW          91.566667\n",
       "marco.escaroz@contractors.scale.com        2022-10-04  QA        1473.833333\n",
       "mariana.cuevas@contractors.scale.com       2022-10-04  QA        3180.450000\n",
       "mitzifaye.borja@teleworkph-mails.com       2022-10-04  TW        2904.466667\n",
       "reyman.cajayon@teleworkph-mails.com        2022-10-04  TW         942.283333\n",
       "ruchel.casero@contractors.scale.com        2022-10-04  QA        8472.400000\n",
       "samantha.couoh@contractors.scale.com       2022-10-04  QA        2861.650000\n",
       "Name: TIMESPENTSEC, dtype: float64"
      ]
     },
     "execution_count": 12,
     "metadata": {},
     "output_type": "execute_result"
    }
   ],
   "source": [
    "#get time spent by QA\n",
    "qatime = worklogdf.groupby(['EMAIL','EVENTDATE','LEVEL'])['TIMESPENTSEC'].sum()\n",
    "qatime"
   ]
  },
  {
   "cell_type": "code",
   "execution_count": null,
   "id": "e0fcfbb4",
   "metadata": {},
   "outputs": [],
   "source": []
  }
 ],
 "metadata": {
  "kernelspec": {
   "display_name": "Python 3 (ipykernel)",
   "language": "python",
   "name": "python3"
  },
  "language_info": {
   "codemirror_mode": {
    "name": "ipython",
    "version": 3
   },
   "file_extension": ".py",
   "mimetype": "text/x-python",
   "name": "python",
   "nbconvert_exporter": "python",
   "pygments_lexer": "ipython3",
   "version": "3.10.6"
  }
 },
 "nbformat": 4,
 "nbformat_minor": 5
}
