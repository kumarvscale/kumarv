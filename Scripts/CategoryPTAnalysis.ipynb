{
 "cells": [
  {
   "cell_type": "code",
   "execution_count": 1,
   "metadata": {},
   "outputs": [],
   "source": [
    "import pandas as pd\n",
    "import numpy as np\n",
    "import snowflake.connector"
   ]
  },
  {
   "cell_type": "code",
   "execution_count": 2,
   "metadata": {},
   "outputs": [
    {
     "name": "stdout",
     "output_type": "stream",
     "text": [
      "Initiating login request with your identity provider. A browser window should have opened for you to complete the login. If you can't see it, check existing browser windows, or your OS settings. Press CTRL+C to abort and try again...\n"
     ]
    }
   ],
   "source": [
    "#login to snowflake db\n",
    "con = snowflake.connector.connect(user='vishal.kumar@scale.com',\n",
    "                                 account='pxa65918',\n",
    "                                 authenticator='externalbrowser',\n",
    "                                 warehouse='COMPUTE_WH',\n",
    "                                 database='SCALE_PROD',\n",
    "                                 role='GENERAL_RO')\n",
    "\n",
    "cs = con.cursor()"
   ]
  },
  {
   "cell_type": "code",
   "execution_count": 28,
   "metadata": {},
   "outputs": [],
   "source": [
    "#Get work logs\n",
    "sql = f'''\n",
    "select \n",
    "coalesce(metadata:pvid,concat(metadata:domain, '!', metadata:item_id)) as PVID,\n",
    "metadata:category as CATEGORY,\n",
    "--REPLACE(REPLACE(y.value,'_form',''),'form_','') as ATTRIBUTE,\n",
    "metadata:title as Title,\n",
    "metadata:link as URL,\n",
    "_id as DELIVERY_TASK,\n",
    "REPLACE(x.key,'form_','') as ATTRIBUTE,\n",
    "REPLACE(y.value:field_id::text,'form_','') as SUBFIELD,\n",
    "case when ATTRIBUTE=REPLACE(y.value:field_id::text,'form_','') THEN 'response' ELSE 'is_cbd' END as RESPONSE_TYPE,\n",
    "y.value:response[0]::text as TASKER_RESPONSE, \n",
    "concat(PVID,ATTRIBUTE,SUBFIELD) as TASKER_RESPONSE_ID\n",
    "from SCALE_PROD.PUBLIC.TASKS,\n",
    "lateral flatten(input => response:annotations) as x,\n",
    "lateral flatten(input => x.value:response[0]) as y\n",
    "where project='645dd187d8315806686babc4' and PVID IS NOT NULL and CATEGORY = 'Cell Phone Cases'\n",
    "'''\n",
    "cs.execute(sql)\n",
    "worklogdf = cs.fetch_pandas_all()\n"
   ]
  },
  {
   "cell_type": "code",
   "execution_count": 43,
   "metadata": {},
   "outputs": [
    {
     "name": "stdout",
     "output_type": "stream",
     "text": [
      "                              PVID            CATEGORY  \\\n",
      "0       www.walmart.com!1642863478  \"Cell Phone Cases\"   \n",
      "1       www.walmart.com!1642863478  \"Cell Phone Cases\"   \n",
      "2       www.walmart.com!1642863478  \"Cell Phone Cases\"   \n",
      "3       www.walmart.com!1642863478  \"Cell Phone Cases\"   \n",
      "4       www.walmart.com!1642863478  \"Cell Phone Cases\"   \n",
      "...                            ...                 ...   \n",
      "391759   www.walmart.com!701799259  \"Cell Phone Cases\"   \n",
      "391760   www.walmart.com!701799259  \"Cell Phone Cases\"   \n",
      "391761   www.walmart.com!701799259  \"Cell Phone Cases\"   \n",
      "391762   www.walmart.com!701799259  \"Cell Phone Cases\"   \n",
      "391763   www.walmart.com!701799259  \"Cell Phone Cases\"   \n",
      "\n",
      "                     ATTRIBUTE RESPONSE_TYPE   TASKER_RESPONSE  \n",
      "0       assembledProductHeight        is_cbd              true  \n",
      "1       assembledProductLength        is_cbd              true  \n",
      "2       assembledProductWeight        is_cbd              true  \n",
      "3        assembledProductWidth        is_cbd              true  \n",
      "4                        brand      response            Dexnor  \n",
      "...                        ...           ...               ...  \n",
      "391759             keyFeatures      response  90 days warranty  \n",
      "391760            manufacturer        is_cbd             false  \n",
      "391761            manufacturer      response             Amuoc  \n",
      "391762       multipackQuantity        is_cbd             false  \n",
      "391763       multipackQuantity      response                 1  \n",
      "\n",
      "[391764 rows x 5 columns]\n"
     ]
    }
   ],
   "source": [
    "#create a dataframe with PVID, Category, attribute, response_type, tasker_response\n",
    "tdf = worklogdf[['PVID','CATEGORY','ATTRIBUTE','RESPONSE_TYPE','TASKER_RESPONSE']]\n",
    "print(tdf)"
   ]
  },
  {
   "cell_type": "code",
   "execution_count": 44,
   "metadata": {},
   "outputs": [
    {
     "name": "stdout",
     "output_type": "stream",
     "text": [
      "                              PVID            CATEGORY  \\\n",
      "0       www.walmart.com!1642863478  \"Cell Phone Cases\"   \n",
      "1       www.walmart.com!1642863478  \"Cell Phone Cases\"   \n",
      "2       www.walmart.com!1642863478  \"Cell Phone Cases\"   \n",
      "3       www.walmart.com!1642863478  \"Cell Phone Cases\"   \n",
      "5       www.walmart.com!1642863478  \"Cell Phone Cases\"   \n",
      "...                            ...                 ...   \n",
      "391754   www.walmart.com!441183367  \"Cell Phone Cases\"   \n",
      "391757   www.walmart.com!701799259  \"Cell Phone Cases\"   \n",
      "391758   www.walmart.com!701799259  \"Cell Phone Cases\"   \n",
      "391760   www.walmart.com!701799259  \"Cell Phone Cases\"   \n",
      "391762   www.walmart.com!701799259  \"Cell Phone Cases\"   \n",
      "\n",
      "                     ATTRIBUTE RESPONSE_TYPE TASKER_RESPONSE  \n",
      "0       assembledProductHeight        is_cbd            true  \n",
      "1       assembledProductLength        is_cbd            true  \n",
      "2       assembledProductWeight        is_cbd            true  \n",
      "3        assembledProductWidth        is_cbd            true  \n",
      "5                        brand        is_cbd           false  \n",
      "...                        ...           ...             ...  \n",
      "391754             modelNumber        is_cbd           false  \n",
      "391757            countPerPack        is_cbd           false  \n",
      "391758             keyFeatures        is_cbd           false  \n",
      "391760            manufacturer        is_cbd           false  \n",
      "391762       multipackQuantity        is_cbd           false  \n",
      "\n",
      "[260653 rows x 5 columns]\n"
     ]
    }
   ],
   "source": [
    "#remove all rows in tdf where RESPONSE_TYPE = response\n",
    "tdf = tdf[tdf['RESPONSE_TYPE'] != 'response']\n",
    "# remove all rows in tdf where TASKER_RESPONSE is not true or TASKER_RESPONSE is not FALSE\n",
    "tdf = tdf[(tdf['TASKER_RESPONSE'] == 'true') | (tdf['TASKER_RESPONSE'] == 'false')]\n",
    "print(tdf)"
   ]
  },
  {
   "cell_type": "code",
   "execution_count": 45,
   "metadata": {},
   "outputs": [
    {
     "name": "stdout",
     "output_type": "stream",
     "text": [
      "                              PVID            CATEGORY  \\\n",
      "0       www.walmart.com!1642863478  \"Cell Phone Cases\"   \n",
      "1       www.walmart.com!1642863478  \"Cell Phone Cases\"   \n",
      "2       www.walmart.com!1642863478  \"Cell Phone Cases\"   \n",
      "3       www.walmart.com!1642863478  \"Cell Phone Cases\"   \n",
      "5       www.walmart.com!1642863478  \"Cell Phone Cases\"   \n",
      "...                            ...                 ...   \n",
      "391754   www.walmart.com!441183367  \"Cell Phone Cases\"   \n",
      "391757   www.walmart.com!701799259  \"Cell Phone Cases\"   \n",
      "391758   www.walmart.com!701799259  \"Cell Phone Cases\"   \n",
      "391760   www.walmart.com!701799259  \"Cell Phone Cases\"   \n",
      "391762   www.walmart.com!701799259  \"Cell Phone Cases\"   \n",
      "\n",
      "                     ATTRIBUTE RESPONSE_TYPE TASKER_RESPONSE  \n",
      "0       assembledProductHeight        is_cbd            true  \n",
      "1       assembledProductLength        is_cbd            true  \n",
      "2       assembledProductWeight        is_cbd            true  \n",
      "3        assembledProductWidth        is_cbd            true  \n",
      "5                        brand        is_cbd           false  \n",
      "...                        ...           ...             ...  \n",
      "391754             modelNumber        is_cbd           false  \n",
      "391757            countPerPack        is_cbd           false  \n",
      "391758             keyFeatures        is_cbd           false  \n",
      "391760            manufacturer        is_cbd           false  \n",
      "391762       multipackQuantity        is_cbd           false  \n",
      "\n",
      "[260653 rows x 5 columns]\n"
     ]
    }
   ],
   "source": [
    "adf = tdf.groupby(['CATEGORY','ATTRIBUTE','RESPONSE_TYPE']).agg({'PVID':'count'})\n",
    "print(tdf)"
   ]
  },
  {
   "cell_type": "code",
   "execution_count": 42,
   "metadata": {},
   "outputs": [],
   "source": [
    "#save adf to csv\n",
    "tdf.to_csv('CategoryPTAnalysisCellPhoneCases.csv')"
   ]
  },
  {
   "cell_type": "code",
   "execution_count": 33,
   "metadata": {},
   "outputs": [
    {
     "name": "stdout",
     "output_type": "stream",
     "text": [
      "                                                                         PVID\n",
      "CATEGORY           ATTRIBUTE                              RESPONSE_TYPE      \n",
      "\"Cell Phone Cases\" accessoriesIncluded                    is_cbd         6905\n",
      "                   assembledProductHeight                 is_cbd         7701\n",
      "                   assembledProductLength                 is_cbd         8107\n",
      "                   assembledProductWeight                 is_cbd         8089\n",
      "                   assembledProductWidth                  is_cbd         7681\n",
      "                   attachmentStyle                        is_cbd         7137\n",
      "                   brand                                  is_cbd         6917\n",
      "                   capacity                               is_cbd          230\n",
      "                   case_style                             is_cbd         7137\n",
      "                   cell_phone_case_features               is_cbd         7137\n",
      "                   cell_phone_case_type                   is_cbd         7126\n",
      "                   character                              is_cbd          230\n",
      "                   character_group                        is_cbd          230\n",
      "                   color                                  is_cbd         7126\n",
      "                   colorCategory                          is_cbd         7126\n",
      "                   compatibleBrands                       is_cbd         7135\n",
      "                   compatibleDevices                      is_cbd         7135\n",
      "                   compatibleModels                       is_cbd         7135\n",
      "                   condition                              is_cbd         7126\n",
      "                   count                                  is_cbd         6896\n",
      "                   countPerPack                           is_cbd         6907\n",
      "                   edition                                is_cbd         6905\n",
      "                   electronics_feature                    is_cbd         7146\n",
      "                   finish                                 is_cbd         7146\n",
      "                   gender                                 is_cbd         6916\n",
      "                   globalBrandLicense                     is_cbd         6916\n",
      "                   ib_retail_packaging                    is_cbd         7137\n",
      "                   keyFeatures                            is_cbd         6907\n",
      "                   manufacturer                           is_cbd         7137\n",
      "                   material                               is_cbd         6916\n",
      "                   modelName                              is_cbd         7136\n",
      "                   modelNumber                            is_cbd         7137\n",
      "                   multipackQuantity                      is_cbd         6907\n",
      "                   occasion                               is_cbd         6906\n",
      "                   originalNewEquivalentProductIdentifier is_cbd         7012\n",
      "                   pattern                                is_cbd         6906\n",
      "                   pieceCount                             is_cbd         6906\n",
      "                   screenSize                             is_cbd         9969\n",
      "                   shape                                  is_cbd         6910\n",
      "                   theme                                  is_cbd         6910\n",
      "                   warrantyText                           is_cbd          230\n",
      "                   warrantyURL                            is_cbd          230\n"
     ]
    }
   ],
   "source": [
    "print(adf)\n"
   ]
  },
  {
   "cell_type": "code",
   "execution_count": null,
   "metadata": {},
   "outputs": [],
   "source": []
  }
 ],
 "metadata": {
  "kernelspec": {
   "display_name": "base",
   "language": "python",
   "name": "python3"
  },
  "language_info": {
   "codemirror_mode": {
    "name": "ipython",
    "version": 3
   },
   "file_extension": ".py",
   "mimetype": "text/x-python",
   "name": "python",
   "nbconvert_exporter": "python",
   "pygments_lexer": "ipython3",
   "version": "3.9.12"
  },
  "orig_nbformat": 4
 },
 "nbformat": 4,
 "nbformat_minor": 2
}
