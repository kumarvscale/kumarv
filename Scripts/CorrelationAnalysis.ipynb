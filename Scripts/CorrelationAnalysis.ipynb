{
 "cells": [
  {
   "cell_type": "code",
   "execution_count": 1,
   "metadata": {},
   "outputs": [],
   "source": [
    "import pandas as pd\n",
    "import numpy as np\n",
    "import snowflake.connector"
   ]
  },
  {
   "cell_type": "code",
   "execution_count": 6,
   "metadata": {},
   "outputs": [
    {
     "name": "stdout",
     "output_type": "stream",
     "text": [
      "Initiating login request with your identity provider. A browser window should have opened for you to complete the login. If you can't see it, check existing browser windows, or your OS settings. Press CTRL+C to abort and try again...\n"
     ]
    }
   ],
   "source": [
    "#login to snowflake db\n",
    "con = snowflake.connector.connect(user='vishal.kumar@scale.com',\n",
    "                                 account='pxa65918',\n",
    "                                 authenticator='externalbrowser',\n",
    "                                 warehouse='COMPUTE_WH',\n",
    "                                 database='SCALE_CRAWLER',\n",
    "                                 role='GENERAL_RO')\n",
    "\n",
    "cs = con.cursor()"
   ]
  },
  {
   "cell_type": "code",
   "execution_count": 13,
   "metadata": {},
   "outputs": [],
   "source": [
    "#Get work logs\n",
    "sql = f'''\n",
    "select\n",
    "    brand,\n",
    "    pvid,\n",
    "    batch,\n",
    "    preset_attributes:category::string as category,\n",
    "    to_varchar(attributes_entries) as attributes,\n",
    "    regexp_count(attributes, '\\\\b[\"Cannot Be Determined\"]\\\\b', 1) as cbds,\n",
    "    length(scraped_attributes:description) as desc_len,\n",
    "    length(scraped_attributes:title) as title_len,\n",
    "    desc_len + title_len as total_len\n",
    "from\n",
    "    public.productvariants\n",
    "where\n",
    "    pvid ilike '%walmart%'\n",
    "    and cast(created_at as Date) > '2023-06-10'\n",
    "having\n",
    "    length(attributes) > 2\n",
    "order by\n",
    "    cbds asc\n",
    "'''\n",
    "cs.execute(sql)\n",
    "worklogdf = cs.fetch_pandas_all()\n"
   ]
  },
  {
   "cell_type": "code",
   "execution_count": 14,
   "metadata": {},
   "outputs": [
    {
     "name": "stdout",
     "output_type": "stream",
     "text": [
      "                  BRAND                        PVID  \\\n",
      "0       www.walmart.com   www.walmart.com!782253389   \n",
      "1       www.walmart.com   www.walmart.com!622732932   \n",
      "2       www.walmart.com   www.walmart.com!476539841   \n",
      "3       www.walmart.com   www.walmart.com!294781700   \n",
      "4       www.walmart.com  www.walmart.com!1875725474   \n",
      "...                 ...                         ...   \n",
      "147714  www.walmart.com   www.walmart.com!369834916   \n",
      "147715  www.walmart.com   www.walmart.com!314678438   \n",
      "147716  www.walmart.com      www.walmart.com!446516   \n",
      "147717  www.walmart.com   www.walmart.com!336417154   \n",
      "147718  www.walmart.com    www.walmart.com!51793576   \n",
      "\n",
      "                                       BATCH                      CATEGORY  \\\n",
      "0                   wave-3.0//Media_20230530                         Books   \n",
      "1                    wave-2.2//Home_20230530           Curtains _ Valances   \n",
      "2                   wave-3.0//Media_20230530                         Books   \n",
      "3                   wave-3.0//Media_20230530                         Books   \n",
      "4       wave-3.2//Office_Stationery_20230530  Planners _ Appointment Books   \n",
      "...                                      ...                           ...   \n",
      "147714          wave-2.3//Furniture_20230530                    End Tables   \n",
      "147715              wave-3.0//Media_20230530                         Books   \n",
      "147716              wave-3.0//Media_20230530                         Books   \n",
      "147717  wave-3.2//Occasion_Seasonal_20230530                     Ornaments   \n",
      "147718              wave-3.0//Media_20230530                         Books   \n",
      "\n",
      "                                               ATTRIBUTES  CBDS  DESC_LEN  \\\n",
      "0       {\"woodpecker__$$__attributes\":{\"attributes\":{\"...     0      1849   \n",
      "1       {\"woodpecker__$$__attributes\":{\"attributes\":{\"...     0      1815   \n",
      "2       {\"woodpecker__$$__attributes\":{\"attributes\":{\"...     0      1131   \n",
      "3       {\"woodpecker__$$__attributes\":{\"attributes\":{\"...     0      3423   \n",
      "4       {\"woodpecker__$$__attributes\":{\"attributes\":{\"...     0       193   \n",
      "...                                                   ...   ...       ...   \n",
      "147714  {\"woodpecker__$$__attributes\":{\"attributes\":{\"...     0      1500   \n",
      "147715  {\"woodpecker__$$__attributes\":{\"attributes\":{\"...     0        36   \n",
      "147716  {\"woodpecker__$$__attributes\":{\"attributes\":{\"...     0      1271   \n",
      "147717  {\"woodpecker__$$__attributes\":{\"attributes\":{\"...     0      1734   \n",
      "147718  {\"woodpecker__$$__attributes\":{\"attributes\":{\"...     0      1147   \n",
      "\n",
      "        TITLE_LEN TOTAL_LEN  \n",
      "0              93      1942  \n",
      "1             189      2004  \n",
      "2              93      1224  \n",
      "3              52      3475  \n",
      "4             187       380  \n",
      "...           ...       ...  \n",
      "147714         36      1536  \n",
      "147715         23        59  \n",
      "147716         23      1294  \n",
      "147717        176      1910  \n",
      "147718         55      1202  \n",
      "\n",
      "[147719 rows x 9 columns]\n"
     ]
    }
   ],
   "source": [
    "print(worklogdf)"
   ]
  },
  {
   "cell_type": "code",
   "execution_count": 12,
   "metadata": {},
   "outputs": [],
   "source": [
    "#save worklog to csv\n",
    "worklogdf.to_csv('CorrelationAnalysis.csv', index=False)"
   ]
  },
  {
   "cell_type": "code",
   "execution_count": null,
   "metadata": {},
   "outputs": [],
   "source": []
  }
 ],
 "metadata": {
  "kernelspec": {
   "display_name": "base",
   "language": "python",
   "name": "python3"
  },
  "language_info": {
   "codemirror_mode": {
    "name": "ipython",
    "version": 3
   },
   "file_extension": ".py",
   "mimetype": "text/x-python",
   "name": "python",
   "nbconvert_exporter": "python",
   "pygments_lexer": "ipython3",
   "version": "3.9.12"
  },
  "orig_nbformat": 4
 },
 "nbformat": 4,
 "nbformat_minor": 2
}
