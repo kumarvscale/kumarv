{
 "cells": [
  {
   "cell_type": "code",
   "execution_count": 2,
   "id": "793284cd",
   "metadata": {},
   "outputs": [],
   "source": [
    "import pandas as pd\n",
    "import snowflake.connector\n",
    "from collections import defaultdict\n",
    "import json\n",
    "import re"
   ]
  },
  {
   "cell_type": "code",
   "execution_count": 3,
   "id": "2cba47c7",
   "metadata": {},
   "outputs": [
    {
     "name": "stdout",
     "output_type": "stream",
     "text": [
      "Initiating login request with your identity provider. A browser window should have opened for you to complete the login. If you can't see it, check existing browser windows, or your OS settings. Press CTRL+C to abort and try again...\n"
     ]
    }
   ],
   "source": [
    "con = snowflake.connector.connect(user='vishal.kumar@scale.com',\n",
    "                                 account='pxa65918',\n",
    "                                 authenticator='externalbrowser',\n",
    "                                 warehouse='COMPUTE_WH',\n",
    "                                 database='SCALE_CRAWLER',\n",
    "                                 role='GENERAL_RO')\n",
    "\n",
    "cs = con.cursor()"
   ]
  },
  {
   "cell_type": "code",
   "execution_count": 4,
   "id": "1b204143",
   "metadata": {},
   "outputs": [],
   "source": [
    "sql = '''\n",
    "with cf as (\n",
    "SELECT\n",
    "    DISTINCT CAST(product_id as varchar) as PRODUCT_ID,\n",
    "    CAST(catalog_id as varchar) as CATALOG_ID,\n",
    "    parse_json(attribute_labels):title[0] as title_score,\n",
    "    parse_json(attribute_labels):image[0] as media_score,\n",
    "    parse_json(attribute_labels):description[0] as description_score,\n",
    "    parse_json(attribute_labels):material[0] as material_score,\n",
    "    parse_json(attribute_labels):brand[0] as brand_score,\n",
    "    parse_json(attribute_labels):color[0] as color_score,\n",
    "    parse_json(attribute_labels):dimensions[0] as dimensions_score,\n",
    "    parse_json(attribute_labels):gemstone[0] as gemstone_score,\n",
    "    parse_json(attribute_labels):package_quantity[0] as qty_score,\n",
    "    parse_json(attribute_labels):pattern[0] as pattern_score,\n",
    "    parse_json(attribute_labels):product_height[0] as height_score,\n",
    "    parse_json(attribute_labels):product_length[0] as length_score,\n",
    "    parse_json(attribute_labels):product_volume[0] as volume_score,\n",
    "    parse_json(attribute_labels):product_width[0] as width_score,\n",
    "    parse_json(attribute_labels):scent[0] as scent_score,\n",
    "    parse_json(attribute_labels):size[0] as size_score,\n",
    "    parse_json(attribute_labels):title as Title,\n",
    "    parse_json(attribute_labels):image as Media,\n",
    "    parse_json(attribute_labels):description as Description,\n",
    "    parse_json(attribute_labels):brand as Brand,\n",
    "    parse_json(attribute_labels):color as Color,\n",
    "    parse_json(attribute_labels):dimensions as Dimensions,\n",
    "    parse_json(attribute_labels):gemstone as Gemstone,\n",
    "    parse_json(attribute_labels):material as Material,\n",
    "    parse_json(attribute_labels):package_quantity as Package_Quantity,\n",
    "    parse_json(attribute_labels):pattern as Pattern,\n",
    "    parse_json(attribute_labels):product_height as Product_Height,\n",
    "    parse_json(attribute_labels):product_length as Product_Length,\n",
    "    parse_json(attribute_labels):product_width as Product_Width,\n",
    "    parse_json(attribute_labels):scent as Scent,\n",
    "    parse_json(attribute_labels):size as Size,\n",
    "    parse_json(attribute_labels):volume as Volume,\n",
    "    TO_DATE(date_received) as date_received\n",
    "FROM PC_FIVETRAN_DB.GSHEETS.flamingocfapril_25\n",
    ")\n",
    "\n",
    "SELECT \n",
    "DISTINCT\n",
    "CI.PRODUCT_ID,\n",
    "CI.CATALOG_ID,\n",
    "title,\n",
    "media,\n",
    "description,\n",
    "material,\n",
    "scent,\n",
    "Color,\n",
    "pattern,\n",
    "Gemstone,\n",
    "Brand,\n",
    "product_length,\n",
    "product_width,\n",
    "product_height,\n",
    "volume,\n",
    "Dimensions,\n",
    "size,\n",
    "package_quantity,\n",
    "title_score,\n",
    "media_score,\n",
    "description_score,\n",
    "material_score,\n",
    "scent_score,\n",
    "color_score,\n",
    "pattern_score,\n",
    "gemstone_score,\n",
    "brand_score,\n",
    "length_score,\n",
    "width_score,\n",
    "height_score,\n",
    "volume_score,\n",
    "dimensions_score,\n",
    "size_score,\n",
    "qty_score,\n",
    "date_received\n",
    "FROM  scale_crawler.PUBLIC.CUSTOMERINPUTS as CI \n",
    "JOIN cf ON cf.PRODUCT_ID = CI.PRODUCT_ID\n",
    "'''\n",
    "cs.execute(sql)\n",
    "\n",
    "custdf = cs.fetch_pandas_all()"
   ]
  },
  {
   "cell_type": "code",
   "execution_count": 5,
   "id": "3afccd56",
   "metadata": {},
   "outputs": [],
   "source": [
    "sql = '''\n",
    "select CATALOG_ID, PRODUCT_ID from PUBLIC.CUSTOMERINPUTS\n",
    "'''\n",
    "cs.execute(sql)\n",
    "\n",
    "mapdf = cs.fetch_pandas_all()"
   ]
  },
  {
   "cell_type": "code",
   "execution_count": 6,
   "id": "1d24e776",
   "metadata": {},
   "outputs": [
    {
     "name": "stdout",
     "output_type": "stream",
     "text": [
      "244225\n",
      "42222871\n"
     ]
    }
   ],
   "source": [
    "print(len(custdf))\n",
    "print(len(mapdf))"
   ]
  },
  {
   "cell_type": "code",
   "execution_count": 7,
   "id": "671d49e7",
   "metadata": {},
   "outputs": [],
   "source": [
    "subdf = pd.read_csv('Submissions.csv', dtype = {'PID': str, 'CID': int})"
   ]
  },
  {
   "cell_type": "code",
   "execution_count": 8,
   "id": "fbce203f",
   "metadata": {},
   "outputs": [],
   "source": [
    "subdf['CATALOG_ID']=\"\""
   ]
  },
  {
   "cell_type": "code",
   "execution_count": 9,
   "id": "a942e72c",
   "metadata": {},
   "outputs": [],
   "source": [
    "mergedf = subdf.merge(mapdf, on='PRODUCT_ID', how='left')"
   ]
  },
  {
   "cell_type": "code",
   "execution_count": 10,
   "id": "1a9df6fd",
   "metadata": {},
   "outputs": [
    {
     "data": {
      "text/plain": [
       "83260"
      ]
     },
     "execution_count": 10,
     "metadata": {},
     "output_type": "execute_result"
    }
   ],
   "source": [
    "mergedf['CATALOG_ID_y'].isna().sum()"
   ]
  },
  {
   "cell_type": "code",
   "execution_count": 11,
   "id": "e010b7bf",
   "metadata": {},
   "outputs": [
    {
     "name": "stdout",
     "output_type": "stream",
     "text": [
      "119044\n"
     ]
    }
   ],
   "source": [
    "print((len(mergedf)))"
   ]
  },
  {
   "cell_type": "code",
   "execution_count": 12,
   "id": "28e18a5d",
   "metadata": {},
   "outputs": [
    {
     "data": {
      "text/html": [
       "<div>\n",
       "<style scoped>\n",
       "    .dataframe tbody tr th:only-of-type {\n",
       "        vertical-align: middle;\n",
       "    }\n",
       "\n",
       "    .dataframe tbody tr th {\n",
       "        vertical-align: top;\n",
       "    }\n",
       "\n",
       "    .dataframe thead th {\n",
       "        text-align: right;\n",
       "    }\n",
       "</style>\n",
       "<table border=\"1\" class=\"dataframe\">\n",
       "  <thead>\n",
       "    <tr style=\"text-align: right;\">\n",
       "      <th></th>\n",
       "      <th>PRODUCT_ID</th>\n",
       "      <th>CATALOG_ID_x</th>\n",
       "      <th>CATALOG_ID_y</th>\n",
       "    </tr>\n",
       "  </thead>\n",
       "  <tbody>\n",
       "    <tr>\n",
       "      <th>0</th>\n",
       "      <td>4045691762205850</td>\n",
       "      <td></td>\n",
       "      <td>NaN</td>\n",
       "    </tr>\n",
       "    <tr>\n",
       "      <th>1</th>\n",
       "      <td>5469583513082030</td>\n",
       "      <td></td>\n",
       "      <td>NaN</td>\n",
       "    </tr>\n",
       "    <tr>\n",
       "      <th>2</th>\n",
       "      <td>4514081515366900</td>\n",
       "      <td></td>\n",
       "      <td>NaN</td>\n",
       "    </tr>\n",
       "    <tr>\n",
       "      <th>3</th>\n",
       "      <td>5466600043350370</td>\n",
       "      <td></td>\n",
       "      <td>NaN</td>\n",
       "    </tr>\n",
       "    <tr>\n",
       "      <th>4</th>\n",
       "      <td>2750747575040950</td>\n",
       "      <td></td>\n",
       "      <td>NaN</td>\n",
       "    </tr>\n",
       "    <tr>\n",
       "      <th>...</th>\n",
       "      <td>...</td>\n",
       "      <td>...</td>\n",
       "      <td>...</td>\n",
       "    </tr>\n",
       "    <tr>\n",
       "      <th>119039</th>\n",
       "      <td>8065551086795646</td>\n",
       "      <td></td>\n",
       "      <td>200412037453681</td>\n",
       "    </tr>\n",
       "    <tr>\n",
       "      <th>119040</th>\n",
       "      <td>3959582447412695</td>\n",
       "      <td></td>\n",
       "      <td>200412037453681</td>\n",
       "    </tr>\n",
       "    <tr>\n",
       "      <th>119041</th>\n",
       "      <td>4582449348456743</td>\n",
       "      <td></td>\n",
       "      <td>200412037453681</td>\n",
       "    </tr>\n",
       "    <tr>\n",
       "      <th>119042</th>\n",
       "      <td>5010260559022993</td>\n",
       "      <td></td>\n",
       "      <td>200412037453681</td>\n",
       "    </tr>\n",
       "    <tr>\n",
       "      <th>119043</th>\n",
       "      <td>4949019545183899</td>\n",
       "      <td></td>\n",
       "      <td>200412037453681</td>\n",
       "    </tr>\n",
       "  </tbody>\n",
       "</table>\n",
       "<p>119044 rows × 3 columns</p>\n",
       "</div>"
      ],
      "text/plain": [
       "              PRODUCT_ID CATALOG_ID_x     CATALOG_ID_y\n",
       "0       4045691762205850                           NaN\n",
       "1       5469583513082030                           NaN\n",
       "2       4514081515366900                           NaN\n",
       "3       5466600043350370                           NaN\n",
       "4       2750747575040950                           NaN\n",
       "...                  ...          ...              ...\n",
       "119039  8065551086795646               200412037453681\n",
       "119040  3959582447412695               200412037453681\n",
       "119041  4582449348456743               200412037453681\n",
       "119042  5010260559022993               200412037453681\n",
       "119043  4949019545183899               200412037453681\n",
       "\n",
       "[119044 rows x 3 columns]"
      ]
     },
     "execution_count": 12,
     "metadata": {},
     "output_type": "execute_result"
    }
   ],
   "source": [
    "mergedf"
   ]
  },
  {
   "cell_type": "code",
   "execution_count": 13,
   "id": "dfaa7744",
   "metadata": {},
   "outputs": [],
   "source": [
    "mergedf.to_csv('merged2.csv')"
   ]
  },
  {
   "cell_type": "code",
   "execution_count": null,
   "id": "6bdb20e8",
   "metadata": {},
   "outputs": [],
   "source": []
  }
 ],
 "metadata": {
  "kernelspec": {
   "display_name": "Python 3 (ipykernel)",
   "language": "python",
   "name": "python3"
  },
  "language_info": {
   "codemirror_mode": {
    "name": "ipython",
    "version": 3
   },
   "file_extension": ".py",
   "mimetype": "text/x-python",
   "name": "python",
   "nbconvert_exporter": "python",
   "pygments_lexer": "ipython3",
   "version": "3.10.5"
  }
 },
 "nbformat": 4,
 "nbformat_minor": 5
}
