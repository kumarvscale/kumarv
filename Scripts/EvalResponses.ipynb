{
 "cells": [
  {
   "cell_type": "code",
   "execution_count": 15,
   "metadata": {},
   "outputs": [],
   "source": [
    "import pandas as pd"
   ]
  },
  {
   "cell_type": "code",
   "execution_count": 22,
   "metadata": {},
   "outputs": [],
   "source": [
    "#import csv into a df\n",
    "df = pd.read_csv('eval_responses.csv')\n",
    "#rename columns to response\n",
    "df.columns = ['response']"
   ]
  },
  {
   "cell_type": "code",
   "execution_count": 23,
   "metadata": {},
   "outputs": [],
   "source": [
    "def extract_long_values(data):\n",
    "    if isinstance(data, dict):\n",
    "        for key, value in data.items():\n",
    "            if key == \"response\":\n",
    "                for item in value:\n",
    "                    yield from extract_long_values(item)\n",
    "            else:\n",
    "                yield from extract_long_values(value)\n",
    "    elif isinstance(data, list):\n",
    "        for item in data:\n",
    "            yield from extract_long_values(item)\n",
    "    else:\n",
    "        if isinstance(data, str) and len(data) > 150:\n",
    "            yield data"
   ]
  },
  {
   "cell_type": "code",
   "execution_count": 39,
   "metadata": {},
   "outputs": [
    {
     "name": "stdout",
     "output_type": "stream",
     "text": [
      "response    {\\n  \"annotations\": {\\n    \"accuracy\": {\\n    ...\n",
      "Name: 0, dtype: object\n",
      "<generator object extract_long_values at 0x144292820>\n"
     ]
    }
   ],
   "source": [
    "#save first row of df to a variable called data\n",
    "data = df.iloc[0]\n",
    "#print data\n",
    "print(data)\n",
    "#call extract_long_values on data\n",
    "data=extract_long_values(data)\n",
    "print(data)\n",
    "\n",
    "\n"
   ]
  },
  {
   "cell_type": "code",
   "execution_count": 26,
   "metadata": {},
   "outputs": [],
   "source": [
    "long_response = []\n",
    "\n",
    "# Iterate through each row in df\n",
    "for index, row in df.iterrows():\n",
    "    # Save the response column of df in a variable called data\n",
    "    data = row[\"response\"]\n",
    "    # Append list(extract_long_values(data)) in a list called long_response\n",
    "    tmp = extract_long_values(data)\n",
    "    long_response.append(list(tmp))\n",
    "\n",
    "# Save long_response to csv\n",
    "pd.DataFrame(long_response).to_csv(\"long_response.csv\")\n"
   ]
  },
  {
   "cell_type": "code",
   "execution_count": null,
   "metadata": {},
   "outputs": [],
   "source": []
  }
 ],
 "metadata": {
  "kernelspec": {
   "display_name": "base",
   "language": "python",
   "name": "python3"
  },
  "language_info": {
   "codemirror_mode": {
    "name": "ipython",
    "version": 3
   },
   "file_extension": ".py",
   "mimetype": "text/x-python",
   "name": "python",
   "nbconvert_exporter": "python",
   "pygments_lexer": "ipython3",
   "version": "3.9.12"
  },
  "orig_nbformat": 4
 },
 "nbformat": 4,
 "nbformat_minor": 2
}
