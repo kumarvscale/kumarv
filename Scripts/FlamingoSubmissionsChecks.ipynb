{
 "cells": [
  {
   "cell_type": "code",
   "execution_count": 60,
   "metadata": {},
   "outputs": [],
   "source": [
    "import pandas as pd\n",
    "import numpy as np\n",
    "import json\n",
    "from tqdm import tqdm\n",
    "from urllib.request import urlopen"
   ]
  },
  {
   "cell_type": "code",
   "execution_count": 61,
   "metadata": {},
   "outputs": [
    {
     "name": "stdout",
     "output_type": "stream",
     "text": [
      "Index(['source_name', 'seller_optional', 'catalog_id', 'product_feed_url',\n",
      "       'size_chart_url', 'feed_updated', 'size_chart_updated'],\n",
      "      dtype='object')\n"
     ]
    }
   ],
   "source": [
    "cust_df = pd.read_csv('submissions_state_b1.csv')\n",
    "rdf=\"\"\n",
    "print(cust_df.columns)"
   ]
  },
  {
   "cell_type": "code",
   "execution_count": 62,
   "metadata": {},
   "outputs": [
    {
     "name": "stderr",
     "output_type": "stream",
     "text": [
      "Submisssion progress...:   0%|\u001b[34m          \u001b[0m| 0/99 [00:00<?, ?it/s]"
     ]
    },
    {
     "name": "stdout",
     "output_type": "stream",
     "text": [
      "2881995012126398 dreamclothinghq.com\n"
     ]
    },
    {
     "name": "stderr",
     "output_type": "stream",
     "text": [
      "Submisssion progress...:   1%|\u001b[34m          \u001b[0m| 1/99 [00:00<01:05,  1.51it/s]"
     ]
    },
    {
     "name": "stdout",
     "output_type": "stream",
     "text": [
      "675408406388333 localvyntage.com\n"
     ]
    },
    {
     "name": "stderr",
     "output_type": "stream",
     "text": [
      "Submisssion progress...:   2%|\u001b[34m▏         \u001b[0m| 2/99 [00:01<01:32,  1.05it/s]"
     ]
    },
    {
     "name": "stdout",
     "output_type": "stream",
     "text": [
      "343449412997419 lillylashes.com\n"
     ]
    },
    {
     "name": "stderr",
     "output_type": "stream",
     "text": [
      "Submisssion progress...:   3%|\u001b[34m▎         \u001b[0m| 3/99 [00:02<01:00,  1.60it/s]"
     ]
    },
    {
     "name": "stdout",
     "output_type": "stream",
     "text": [
      "2445556185746515 www.hedleyandbennett.com\n"
     ]
    },
    {
     "name": "stderr",
     "output_type": "stream",
     "text": [
      "Submisssion progress...:   4%|\u001b[34m▍         \u001b[0m| 4/99 [00:02<00:44,  2.13it/s]"
     ]
    },
    {
     "name": "stdout",
     "output_type": "stream",
     "text": [
      "3118062828310290 www.mantraband.com\n"
     ]
    },
    {
     "name": "stderr",
     "output_type": "stream",
     "text": [
      "Submisssion progress...:   5%|\u001b[34m▌         \u001b[0m| 5/99 [00:03<01:07,  1.40it/s]"
     ]
    },
    {
     "name": "stdout",
     "output_type": "stream",
     "text": [
      "828091457964165 marahoffman.com\n"
     ]
    },
    {
     "name": "stderr",
     "output_type": "stream",
     "text": [
      "Submisssion progress...:   6%|\u001b[34m▌         \u001b[0m| 6/99 [00:04<01:16,  1.22it/s]"
     ]
    },
    {
     "name": "stdout",
     "output_type": "stream",
     "text": [
      "2224897854262814 www.areyouami.com\n"
     ]
    },
    {
     "name": "stderr",
     "output_type": "stream",
     "text": [
      "Submisssion progress...:   7%|\u001b[34m▋         \u001b[0m| 7/99 [00:07<02:11,  1.42s/it]"
     ]
    },
    {
     "name": "stdout",
     "output_type": "stream",
     "text": [
      "616125632581103 gibsonlook.com\n"
     ]
    },
    {
     "name": "stderr",
     "output_type": "stream",
     "text": [
      "Submisssion progress...:   9%|\u001b[34m▉         \u001b[0m| 9/99 [00:09<01:47,  1.20s/it]"
     ]
    },
    {
     "name": "stdout",
     "output_type": "stream",
     "text": [
      "1557181217755215 www.siobeauty.com\n",
      "537937256666305 dimebeautyco.com\n"
     ]
    },
    {
     "name": "stderr",
     "output_type": "stream",
     "text": [
      "Submisssion progress...:  10%|\u001b[34m█         \u001b[0m| 10/99 [00:09<01:18,  1.13it/s]"
     ]
    },
    {
     "name": "stdout",
     "output_type": "stream",
     "text": [
      "722989581598518 serenede.com\n"
     ]
    },
    {
     "name": "stderr",
     "output_type": "stream",
     "text": [
      "Submisssion progress...:  11%|\u001b[34m█         \u001b[0m| 11/99 [00:10<01:21,  1.08it/s]"
     ]
    },
    {
     "name": "stdout",
     "output_type": "stream",
     "text": [
      "422373704864086 onlylittleonce.com\n",
      "515266576114062 www.saltandstone.com\n"
     ]
    },
    {
     "name": "stderr",
     "output_type": "stream",
     "text": [
      "Submisssion progress...:  13%|\u001b[34m█▎        \u001b[0m| 13/99 [00:10<00:47,  1.79it/s]"
     ]
    },
    {
     "name": "stdout",
     "output_type": "stream",
     "text": [
      "2103761486586711 boysmells.com\n"
     ]
    },
    {
     "name": "stderr",
     "output_type": "stream",
     "text": [
      "Submisssion progress...:  15%|\u001b[34m█▌        \u001b[0m| 15/99 [00:11<00:38,  2.19it/s]"
     ]
    },
    {
     "name": "stdout",
     "output_type": "stream",
     "text": [
      "598928270688319 www.anneklein.com\n",
      "2711183275616474 enroutejewelry.com\n"
     ]
    },
    {
     "name": "stderr",
     "output_type": "stream",
     "text": [
      "Submisssion progress...:  16%|\u001b[34m█▌        \u001b[0m| 16/99 [00:13<01:01,  1.36it/s]"
     ]
    },
    {
     "name": "stdout",
     "output_type": "stream",
     "text": [
      "285842332519214 amiri.com\n"
     ]
    },
    {
     "name": "stderr",
     "output_type": "stream",
     "text": [
      "Submisssion progress...:  17%|\u001b[34m█▋        \u001b[0m| 17/99 [00:19<03:17,  2.41s/it]"
     ]
    },
    {
     "name": "stdout",
     "output_type": "stream",
     "text": [
      "4369275513113953 www.koio.co\n"
     ]
    },
    {
     "name": "stderr",
     "output_type": "stream",
     "text": [
      "Submisssion progress...:  18%|\u001b[34m█▊        \u001b[0m| 18/99 [00:23<03:32,  2.62s/it]"
     ]
    },
    {
     "name": "stdout",
     "output_type": "stream",
     "text": [
      "836595253547235 www.cocokind.com\n"
     ]
    },
    {
     "name": "stderr",
     "output_type": "stream",
     "text": [
      "Submisssion progress...:  19%|\u001b[34m█▉        \u001b[0m| 19/99 [00:23<02:36,  1.96s/it]"
     ]
    },
    {
     "name": "stdout",
     "output_type": "stream",
     "text": [
      "627277047768064 patrickta.com\n"
     ]
    },
    {
     "name": "stderr",
     "output_type": "stream",
     "text": [
      "Submisssion progress...:  20%|\u001b[34m██        \u001b[0m| 20/99 [00:23<01:58,  1.50s/it]"
     ]
    },
    {
     "name": "stdout",
     "output_type": "stream",
     "text": [
      "197796490709792 www.benefitcosmetics.com\n"
     ]
    },
    {
     "name": "stderr",
     "output_type": "stream",
     "text": [
      "Submisssion progress...:  21%|\u001b[34m██        \u001b[0m| 21/99 [00:24<01:39,  1.28s/it]"
     ]
    },
    {
     "name": "stdout",
     "output_type": "stream",
     "text": [
      "313911229930696 www.colombianaboutique.com\n"
     ]
    },
    {
     "name": "stderr",
     "output_type": "stream",
     "text": [
      "Submisssion progress...:  22%|\u001b[34m██▏       \u001b[0m| 22/99 [00:27<02:20,  1.82s/it]"
     ]
    },
    {
     "name": "stdout",
     "output_type": "stream",
     "text": [
      "296454494674882 bbqdripez.com\n"
     ]
    },
    {
     "name": "stderr",
     "output_type": "stream",
     "text": [
      "Submisssion progress...:  23%|\u001b[34m██▎       \u001b[0m| 23/99 [00:27<01:42,  1.35s/it]"
     ]
    },
    {
     "name": "stdout",
     "output_type": "stream",
     "text": [
      "631977810788178 rastaclat.com\n"
     ]
    },
    {
     "name": "stderr",
     "output_type": "stream",
     "text": [
      "Submisssion progress...:  25%|\u001b[34m██▌       \u001b[0m| 25/99 [00:29<01:17,  1.04s/it]"
     ]
    },
    {
     "name": "stdout",
     "output_type": "stream",
     "text": [
      "2695602173997536 envystylz.com\n",
      "233509427924423 hellbabes.co\n"
     ]
    },
    {
     "name": "stderr",
     "output_type": "stream",
     "text": [
      "Submisssion progress...:  27%|\u001b[34m██▋       \u001b[0m| 27/99 [00:31<00:59,  1.22it/s]"
     ]
    },
    {
     "name": "stdout",
     "output_type": "stream",
     "text": [
      "363409381015600 www.altardstate.com\n",
      "2479844662334760 www.bumbleandbumble.com\n"
     ]
    },
    {
     "name": "stderr",
     "output_type": "stream",
     "text": [
      "Submisssion progress...:  28%|\u001b[34m██▊       \u001b[0m| 28/99 [00:31<00:57,  1.23it/s]"
     ]
    },
    {
     "name": "stdout",
     "output_type": "stream",
     "text": [
      "2857291630969753 www.bryananthonys.com\n"
     ]
    },
    {
     "name": "stderr",
     "output_type": "stream",
     "text": [
      "Submisssion progress...:  29%|\u001b[34m██▉       \u001b[0m| 29/99 [00:35<01:50,  1.59s/it]"
     ]
    },
    {
     "name": "stdout",
     "output_type": "stream",
     "text": [
      "801782717315687 www.jbw.com\n"
     ]
    },
    {
     "name": "stderr",
     "output_type": "stream",
     "text": [
      "Submisssion progress...:  30%|\u001b[34m███       \u001b[0m| 30/99 [00:35<01:25,  1.24s/it]"
     ]
    },
    {
     "name": "stdout",
     "output_type": "stream",
     "text": [
      "510079946184110 us.caudalie.com\n"
     ]
    },
    {
     "name": "stderr",
     "output_type": "stream",
     "text": [
      "Submisssion progress...:  31%|\u001b[34m███▏      \u001b[0m| 31/99 [00:36<01:06,  1.02it/s]"
     ]
    },
    {
     "name": "stdout",
     "output_type": "stream",
     "text": [
      "604144203704108 oseamalibu.com\n"
     ]
    },
    {
     "name": "stderr",
     "output_type": "stream",
     "text": [
      "Submisssion progress...:  32%|\u001b[34m███▏      \u001b[0m| 32/99 [00:36<00:52,  1.28it/s]"
     ]
    },
    {
     "name": "stdout",
     "output_type": "stream",
     "text": [
      "1321828104608066 www.bredawatch.com\n"
     ]
    },
    {
     "name": "stderr",
     "output_type": "stream",
     "text": [
      "Submisssion progress...:  34%|\u001b[34m███▍      \u001b[0m| 34/99 [00:36<00:30,  2.10it/s]"
     ]
    },
    {
     "name": "stdout",
     "output_type": "stream",
     "text": [
      "619207218989191 checkouts.mykitsch.com\n",
      "479432329333113 soldejaneiro.com\n"
     ]
    },
    {
     "name": "stderr",
     "output_type": "stream",
     "text": [
      "Submisssion progress...:  35%|\u001b[34m███▌      \u001b[0m| 35/99 [00:37<00:27,  2.32it/s]"
     ]
    },
    {
     "name": "stdout",
     "output_type": "stream",
     "text": [
      "445559410171047 artizanjoyeria.com\n"
     ]
    },
    {
     "name": "stderr",
     "output_type": "stream",
     "text": [
      "Submisssion progress...:  36%|\u001b[34m███▋      \u001b[0m| 36/99 [00:38<00:47,  1.34it/s]"
     ]
    },
    {
     "name": "stdout",
     "output_type": "stream",
     "text": [
      "609478856409546 diarrablu.com\n"
     ]
    },
    {
     "name": "stderr",
     "output_type": "stream",
     "text": [
      "Submisssion progress...:  37%|\u001b[34m███▋      \u001b[0m| 37/99 [00:47<03:23,  3.29s/it]"
     ]
    },
    {
     "name": "stdout",
     "output_type": "stream",
     "text": [
      "428281551463223 zox.la\n"
     ]
    },
    {
     "name": "stderr",
     "output_type": "stream",
     "text": [
      "Submisssion progress...:  38%|\u001b[34m███▊      \u001b[0m| 38/99 [00:51<03:20,  3.29s/it]"
     ]
    },
    {
     "name": "stdout",
     "output_type": "stream",
     "text": [
      "2083342028607592 www.outdoorvoices.com\n"
     ]
    },
    {
     "name": "stderr",
     "output_type": "stream",
     "text": [
      "Submisssion progress...:  39%|\u001b[34m███▉      \u001b[0m| 39/99 [00:52<02:41,  2.69s/it]"
     ]
    },
    {
     "name": "stdout",
     "output_type": "stream",
     "text": [
      "576926755812219 www.sebastiancruzcouture.com\n"
     ]
    },
    {
     "name": "stderr",
     "output_type": "stream",
     "text": [
      "/var/folders/hn/mtn160v16kq8zlz1vr6zxzdh0000gn/T/ipykernel_20590/44597531.py:10: DtypeWarning: Columns (19,21,28,37,64,66) have mixed types. Specify dtype option on import or set low_memory=False.\n",
      "  tdf = pd.read_csv(row['product_feed_url'])\n",
      "Submisssion progress...:  40%|\u001b[34m████      \u001b[0m| 40/99 [02:06<23:47, 24.20s/it]"
     ]
    },
    {
     "name": "stdout",
     "output_type": "stream",
     "text": [
      "958717514502510 www.patmcgrath.com\n"
     ]
    },
    {
     "name": "stderr",
     "output_type": "stream",
     "text": [
      "Submisssion progress...:  41%|\u001b[34m████▏     \u001b[0m| 41/99 [02:09<17:07, 17.71s/it]"
     ]
    },
    {
     "name": "stdout",
     "output_type": "stream",
     "text": [
      "621685307955081 www.letterfolk.com\n"
     ]
    },
    {
     "name": "stderr",
     "output_type": "stream",
     "text": [
      "Submisssion progress...:  42%|\u001b[34m████▏     \u001b[0m| 42/99 [02:09<11:54, 12.54s/it]"
     ]
    },
    {
     "name": "stdout",
     "output_type": "stream",
     "text": [
      "1764966546980203 www.mentedcosmetics.com\n"
     ]
    },
    {
     "name": "stderr",
     "output_type": "stream",
     "text": [
      "Submisssion progress...:  43%|\u001b[34m████▎     \u001b[0m| 43/99 [02:11<08:37,  9.24s/it]"
     ]
    },
    {
     "name": "stdout",
     "output_type": "stream",
     "text": [
      "204614226961717 www.charlottetilbury.com\n"
     ]
    },
    {
     "name": "stderr",
     "output_type": "stream",
     "text": [
      "Submisssion progress...:  44%|\u001b[34m████▍     \u001b[0m| 44/99 [02:15<07:05,  7.74s/it]"
     ]
    },
    {
     "name": "stdout",
     "output_type": "stream",
     "text": [
      "667496710625516 www.4ocean.com\n"
     ]
    },
    {
     "name": "stderr",
     "output_type": "stream",
     "text": [
      "Submisssion progress...:  45%|\u001b[34m████▌     \u001b[0m| 45/99 [02:18<05:37,  6.24s/it]"
     ]
    },
    {
     "name": "stdout",
     "output_type": "stream",
     "text": [
      "389563795763391 cynthiarowley.com\n"
     ]
    },
    {
     "name": "stderr",
     "output_type": "stream",
     "text": [
      "Submisssion progress...:  46%|\u001b[34m████▋     \u001b[0m| 46/99 [02:30<07:05,  8.02s/it]"
     ]
    },
    {
     "name": "stdout",
     "output_type": "stream",
     "text": [
      "533661274146007 byltbasics.com\n"
     ]
    },
    {
     "name": "stderr",
     "output_type": "stream",
     "text": [
      "Submisssion progress...:  47%|\u001b[34m████▋     \u001b[0m| 47/99 [02:51<10:22, 11.97s/it]"
     ]
    },
    {
     "name": "stdout",
     "output_type": "stream",
     "text": [
      "2428604520726056 priverevaux.com\n"
     ]
    },
    {
     "name": "stderr",
     "output_type": "stream",
     "text": [
      "Submisssion progress...:  48%|\u001b[34m████▊     \u001b[0m| 48/99 [02:54<07:54,  9.30s/it]"
     ]
    },
    {
     "name": "stdout",
     "output_type": "stream",
     "text": [
      "714850062510790 meetalleyoop.com\n"
     ]
    },
    {
     "name": "stderr",
     "output_type": "stream",
     "text": [
      "Submisssion progress...:  49%|\u001b[34m████▉     \u001b[0m| 49/99 [02:55<05:35,  6.70s/it]"
     ]
    },
    {
     "name": "stdout",
     "output_type": "stream",
     "text": [
      "784976828731079 www.tissotwatches.com\n"
     ]
    },
    {
     "name": "stderr",
     "output_type": "stream",
     "text": [
      "Submisssion progress...:  51%|\u001b[34m█████     \u001b[0m| 50/99 [02:58<04:33,  5.58s/it]"
     ]
    },
    {
     "name": "stdout",
     "output_type": "stream",
     "text": [
      "1036278773390995 www.bandolierstyle.com\n"
     ]
    },
    {
     "name": "stderr",
     "output_type": "stream",
     "text": [
      "Submisssion progress...:  52%|\u001b[34m█████▏    \u001b[0m| 51/99 [03:01<03:58,  4.96s/it]"
     ]
    },
    {
     "name": "stdout",
     "output_type": "stream",
     "text": [
      "353436108931910 www.moderncitizen.com\n"
     ]
    },
    {
     "name": "stderr",
     "output_type": "stream",
     "text": [
      "Submisssion progress...:  53%|\u001b[34m█████▎    \u001b[0m| 52/99 [03:08<04:11,  5.36s/it]"
     ]
    },
    {
     "name": "stdout",
     "output_type": "stream",
     "text": [
      "3112012795691994 www.patarashoes.com\n"
     ]
    },
    {
     "name": "stderr",
     "output_type": "stream",
     "text": [
      "Submisssion progress...:  54%|\u001b[34m█████▎    \u001b[0m| 53/99 [03:10<03:24,  4.45s/it]"
     ]
    },
    {
     "name": "stdout",
     "output_type": "stream",
     "text": [
      "2137869169653101 apothekeco.com\n"
     ]
    },
    {
     "name": "stderr",
     "output_type": "stream",
     "text": [
      "Submisssion progress...:  55%|\u001b[34m█████▍    \u001b[0m| 54/99 [03:11<02:32,  3.40s/it]"
     ]
    },
    {
     "name": "stdout",
     "output_type": "stream",
     "text": [
      "628721318037412 www.cosabella.com\n"
     ]
    },
    {
     "name": "stderr",
     "output_type": "stream",
     "text": [
      "Submisssion progress...:  56%|\u001b[34m█████▌    \u001b[0m| 55/99 [03:59<12:13, 16.67s/it]"
     ]
    },
    {
     "name": "stdout",
     "output_type": "stream",
     "text": [
      "1258382977679085 www.simonmillerusa.com\n"
     ]
    },
    {
     "name": "stderr",
     "output_type": "stream",
     "text": [
      "Submisssion progress...:  57%|\u001b[34m█████▋    \u001b[0m| 56/99 [04:13<11:23, 15.90s/it]"
     ]
    },
    {
     "name": "stdout",
     "output_type": "stream",
     "text": [
      "926601984041533 www.simplemodern.com\n"
     ]
    },
    {
     "name": "stderr",
     "output_type": "stream",
     "text": [
      "Submisssion progress...:  58%|\u001b[34m█████▊    \u001b[0m| 57/99 [04:31<11:39, 16.66s/it]"
     ]
    },
    {
     "name": "stdout",
     "output_type": "stream",
     "text": [
      "1259879464441408 www.8and9.com\n"
     ]
    },
    {
     "name": "stderr",
     "output_type": "stream",
     "text": [
      "/var/folders/hn/mtn160v16kq8zlz1vr6zxzdh0000gn/T/ipykernel_20590/44597531.py:10: DtypeWarning: Columns (29,35,41,44,56,71,77,92) have mixed types. Specify dtype option on import or set low_memory=False.\n",
      "  tdf = pd.read_csv(row['product_feed_url'])\n",
      "Submisssion progress...:  59%|\u001b[34m█████▊    \u001b[0m| 58/99 [06:11<28:24, 41.57s/it]"
     ]
    },
    {
     "name": "stdout",
     "output_type": "stream",
     "text": [
      "457176398517296 www.hippierunner.com\n"
     ]
    },
    {
     "name": "stderr",
     "output_type": "stream",
     "text": [
      "Submisssion progress...:  60%|\u001b[34m█████▉    \u001b[0m| 59/99 [06:59<29:03, 43.59s/it]"
     ]
    },
    {
     "name": "stdout",
     "output_type": "stream",
     "text": [
      "1628939280646874 www.mtvshop.com\n"
     ]
    },
    {
     "name": "stderr",
     "output_type": "stream",
     "text": [
      "Submisssion progress...:  61%|\u001b[34m██████    \u001b[0m| 60/99 [07:04<20:49, 32.04s/it]"
     ]
    },
    {
     "name": "stdout",
     "output_type": "stream",
     "text": [
      "1913831832086178 charlotte-stone.com\n"
     ]
    },
    {
     "name": "stderr",
     "output_type": "stream",
     "text": [
      "Submisssion progress...:  62%|\u001b[34m██████▏   \u001b[0m| 61/99 [07:15<16:19, 25.78s/it]"
     ]
    },
    {
     "name": "stdout",
     "output_type": "stream",
     "text": [
      "510711319775591 democracyclothing.com\n"
     ]
    },
    {
     "name": "stderr",
     "output_type": "stream",
     "text": [
      "Submisssion progress...:  63%|\u001b[34m██████▎   \u001b[0m| 62/99 [07:19<11:49, 19.17s/it]"
     ]
    },
    {
     "name": "stdout",
     "output_type": "stream",
     "text": [
      "664601824319476 loveyourmelon.com\n"
     ]
    },
    {
     "name": "stderr",
     "output_type": "stream",
     "text": [
      "Submisssion progress...:  64%|\u001b[34m██████▎   \u001b[0m| 63/99 [07:32<10:26, 17.40s/it]"
     ]
    },
    {
     "name": "stdout",
     "output_type": "stream",
     "text": [
      "578723382763408 chnge.com\n"
     ]
    },
    {
     "name": "stderr",
     "output_type": "stream",
     "text": [
      "Submisssion progress...:  65%|\u001b[34m██████▍   \u001b[0m| 64/99 [08:04<12:40, 21.72s/it]"
     ]
    },
    {
     "name": "stdout",
     "output_type": "stream",
     "text": [
      "1134828340240848 pawz.com\n"
     ]
    },
    {
     "name": "stderr",
     "output_type": "stream",
     "text": [
      "Submisssion progress...:  66%|\u001b[34m██████▌   \u001b[0m| 65/99 [08:14<10:21, 18.29s/it]"
     ]
    },
    {
     "name": "stdout",
     "output_type": "stream",
     "text": [
      "2476520845965360 www.bebe.com\n"
     ]
    },
    {
     "name": "stderr",
     "output_type": "stream",
     "text": [
      "Submisssion progress...:  67%|\u001b[34m██████▋   \u001b[0m| 66/99 [09:15<17:04, 31.03s/it]"
     ]
    },
    {
     "name": "stdout",
     "output_type": "stream",
     "text": [
      "1911422342327176 industryofallnations.com\n"
     ]
    },
    {
     "name": "stderr",
     "output_type": "stream",
     "text": [
      "Submisssion progress...:  68%|\u001b[34m██████▊   \u001b[0m| 67/99 [09:21<12:27, 23.35s/it]"
     ]
    },
    {
     "name": "stdout",
     "output_type": "stream",
     "text": [
      "547062042528918 journeecollection.com\n"
     ]
    },
    {
     "name": "stderr",
     "output_type": "stream",
     "text": [
      "Submisssion progress...:  69%|\u001b[34m██████▊   \u001b[0m| 68/99 [10:15<16:52, 32.68s/it]"
     ]
    },
    {
     "name": "stdout",
     "output_type": "stream",
     "text": [
      "496565664547273 www.toroeeyewear.com\n"
     ]
    },
    {
     "name": "stderr",
     "output_type": "stream",
     "text": [
      "Submisssion progress...:  70%|\u001b[34m██████▉   \u001b[0m| 69/99 [10:17<11:44, 23.50s/it]"
     ]
    },
    {
     "name": "stdout",
     "output_type": "stream",
     "text": [
      "2081152728688234 tskies.com\n"
     ]
    },
    {
     "name": "stderr",
     "output_type": "stream",
     "text": [
      "Submisssion progress...:  71%|\u001b[34m███████   \u001b[0m| 70/99 [10:21<08:28, 17.55s/it]"
     ]
    },
    {
     "name": "stdout",
     "output_type": "stream",
     "text": [
      "597335934320596 curvysense.com\n"
     ]
    },
    {
     "name": "stderr",
     "output_type": "stream",
     "text": [
      "Submisssion progress...:  72%|\u001b[34m███████▏  \u001b[0m| 71/99 [11:10<12:37, 27.04s/it]"
     ]
    },
    {
     "name": "stdout",
     "output_type": "stream",
     "text": [
      "757296341125938 porterlyons.com\n"
     ]
    },
    {
     "name": "stderr",
     "output_type": "stream",
     "text": [
      "Submisssion progress...:  73%|\u001b[34m███████▎  \u001b[0m| 72/99 [11:31<11:23, 25.33s/it]"
     ]
    },
    {
     "name": "stdout",
     "output_type": "stream",
     "text": [
      "148045002516308 shopnouveau.com\n"
     ]
    },
    {
     "name": "stderr",
     "output_type": "stream",
     "text": [
      "Submisssion progress...:  74%|\u001b[34m███████▎  \u001b[0m| 73/99 [11:32<07:48, 18.03s/it]"
     ]
    },
    {
     "name": "stdout",
     "output_type": "stream",
     "text": [
      "157131658307306 www.bellasyard.com\n"
     ]
    },
    {
     "name": "stderr",
     "output_type": "stream",
     "text": [
      "Submisssion progress...:  75%|\u001b[34m███████▍  \u001b[0m| 74/99 [11:35<05:32, 13.31s/it]"
     ]
    },
    {
     "name": "stdout",
     "output_type": "stream",
     "text": [
      "1962390514042105 madluvv.com\n"
     ]
    },
    {
     "name": "stderr",
     "output_type": "stream",
     "text": [
      "Submisssion progress...:  76%|\u001b[34m███████▌  \u001b[0m| 75/99 [11:35<03:48,  9.52s/it]"
     ]
    },
    {
     "name": "stdout",
     "output_type": "stream",
     "text": [
      "1466666713520793 www.aerosoles.com\n"
     ]
    },
    {
     "name": "stderr",
     "output_type": "stream",
     "text": [
      "Submisssion progress...:  77%|\u001b[34m███████▋  \u001b[0m| 76/99 [11:36<02:35,  6.75s/it]"
     ]
    },
    {
     "name": "stdout",
     "output_type": "stream",
     "text": [
      "693038351230969 gemandi.co\n"
     ]
    },
    {
     "name": "stderr",
     "output_type": "stream",
     "text": [
      "Submisssion progress...:  78%|\u001b[34m███████▊  \u001b[0m| 77/99 [11:42<02:26,  6.66s/it]"
     ]
    },
    {
     "name": "stdout",
     "output_type": "stream",
     "text": [
      "1419506311550834 ripleyrader.com\n"
     ]
    },
    {
     "name": "stderr",
     "output_type": "stream",
     "text": [
      "Submisssion progress...:  79%|\u001b[34m███████▉  \u001b[0m| 78/99 [11:51<02:35,  7.40s/it]"
     ]
    },
    {
     "name": "stdout",
     "output_type": "stream",
     "text": [
      "211397453345193 khaite.com\n"
     ]
    },
    {
     "name": "stderr",
     "output_type": "stream",
     "text": [
      "Submisssion progress...:  80%|\u001b[34m███████▉  \u001b[0m| 79/99 [11:52<01:49,  5.46s/it]"
     ]
    },
    {
     "name": "stdout",
     "output_type": "stream",
     "text": [
      "3330468336969617 vybeinterior.com\n"
     ]
    },
    {
     "name": "stderr",
     "output_type": "stream",
     "text": [
      "Submisssion progress...:  81%|\u001b[34m████████  \u001b[0m| 80/99 [12:17<03:32, 11.18s/it]"
     ]
    },
    {
     "name": "stdout",
     "output_type": "stream",
     "text": [
      "1135193556613089 wooshbeauty.com\n"
     ]
    },
    {
     "name": "stderr",
     "output_type": "stream",
     "text": [
      "Submisssion progress...:  82%|\u001b[34m████████▏ \u001b[0m| 81/99 [12:19<02:31,  8.41s/it]"
     ]
    },
    {
     "name": "stdout",
     "output_type": "stream",
     "text": [
      "156603574999670 janewin.com\n"
     ]
    },
    {
     "name": "stderr",
     "output_type": "stream",
     "text": [
      "Submisssion progress...:  83%|\u001b[34m████████▎ \u001b[0m| 82/99 [12:25<02:13,  7.86s/it]"
     ]
    },
    {
     "name": "stdout",
     "output_type": "stream",
     "text": [
      "2494006167545706 sundayswagger.com\n"
     ]
    },
    {
     "name": "stderr",
     "output_type": "stream",
     "text": [
      "Submisssion progress...:  84%|\u001b[34m████████▍ \u001b[0m| 83/99 [12:30<01:51,  6.98s/it]"
     ]
    },
    {
     "name": "stdout",
     "output_type": "stream",
     "text": [
      "526458588118716 vestique.com\n"
     ]
    },
    {
     "name": "stderr",
     "output_type": "stream",
     "text": [
      "Submisssion progress...:  85%|\u001b[34m████████▍ \u001b[0m| 84/99 [12:31<01:18,  5.25s/it]"
     ]
    },
    {
     "name": "stdout",
     "output_type": "stream",
     "text": [
      "687124685379170 reasonclothing.com\n"
     ]
    },
    {
     "name": "stderr",
     "output_type": "stream",
     "text": [
      "/var/folders/hn/mtn160v16kq8zlz1vr6zxzdh0000gn/T/ipykernel_20590/44597531.py:10: DtypeWarning: Columns (26,27,36,41,44,45,52,53,65,67,71,77,89,90,91,107,108,110,112,115,130) have mixed types. Specify dtype option on import or set low_memory=False.\n",
      "  tdf = pd.read_csv(row['product_feed_url'])\n",
      "Submisssion progress...:  86%|\u001b[34m████████▌ \u001b[0m| 85/99 [13:36<05:24, 23.19s/it]"
     ]
    },
    {
     "name": "stdout",
     "output_type": "stream",
     "text": [
      "2591958717720378 www.myteadrop.com\n"
     ]
    },
    {
     "name": "stderr",
     "output_type": "stream",
     "text": [
      "Submisssion progress...:  88%|\u001b[34m████████▊ \u001b[0m| 87/99 [13:37<02:17, 11.49s/it]"
     ]
    },
    {
     "name": "stdout",
     "output_type": "stream",
     "text": [
      "2391152731136710 www.stevemadden.com\n",
      "279464550014748 www.suzannesomers.com\n"
     ]
    },
    {
     "name": "stderr",
     "output_type": "stream",
     "text": [
      "Submisssion progress...:  89%|\u001b[34m████████▉ \u001b[0m| 88/99 [13:44<01:52, 10.25s/it]"
     ]
    },
    {
     "name": "stdout",
     "output_type": "stream",
     "text": [
      "1735667483373730 heartmanclothes.com\n"
     ]
    },
    {
     "name": "stderr",
     "output_type": "stream",
     "text": [
      "Submisssion progress...:  90%|\u001b[34m████████▉ \u001b[0m| 89/99 [13:48<01:23,  8.36s/it]"
     ]
    },
    {
     "name": "stdout",
     "output_type": "stream",
     "text": [
      "1052996145121971 www.ascotandhart.com\n"
     ]
    },
    {
     "name": "stderr",
     "output_type": "stream",
     "text": [
      "Submisssion progress...:  91%|\u001b[34m█████████ \u001b[0m| 90/99 [14:29<02:41, 18.00s/it]"
     ]
    },
    {
     "name": "stdout",
     "output_type": "stream",
     "text": [
      "3799030140124929 marienicoleclothing.com\n"
     ]
    },
    {
     "name": "stderr",
     "output_type": "stream",
     "text": [
      "Submisssion progress...:  92%|\u001b[34m█████████▏\u001b[0m| 91/99 [15:43<04:39, 34.98s/it]"
     ]
    },
    {
     "name": "stdout",
     "output_type": "stream",
     "text": [
      "627963784544888 naturium.com\n"
     ]
    },
    {
     "name": "stderr",
     "output_type": "stream",
     "text": [
      "Submisssion progress...:  93%|\u001b[34m█████████▎\u001b[0m| 92/99 [15:45<02:55, 25.05s/it]"
     ]
    },
    {
     "name": "stdout",
     "output_type": "stream",
     "text": [
      "1711940128959880 shopinspiredhome.com\n"
     ]
    },
    {
     "name": "stderr",
     "output_type": "stream",
     "text": [
      "Submisssion progress...:  94%|\u001b[34m█████████▍\u001b[0m| 93/99 [16:13<02:34, 25.75s/it]"
     ]
    },
    {
     "name": "stdout",
     "output_type": "stream",
     "text": [
      "843769563071602 boieusa.com\n"
     ]
    },
    {
     "name": "stderr",
     "output_type": "stream",
     "text": [
      "Submisssion progress...:  95%|\u001b[34m█████████▍\u001b[0m| 94/99 [16:13<01:31, 18.27s/it]"
     ]
    },
    {
     "name": "stdout",
     "output_type": "stream",
     "text": [
      "357408255479964 elegatto.com\n"
     ]
    },
    {
     "name": "stderr",
     "output_type": "stream",
     "text": [
      "Submisssion progress...:  96%|\u001b[34m█████████▌\u001b[0m| 95/99 [16:25<01:04, 16.21s/it]"
     ]
    },
    {
     "name": "stdout",
     "output_type": "stream",
     "text": [
      "2308311319462724 eyelinegolf.com\n"
     ]
    },
    {
     "name": "stderr",
     "output_type": "stream",
     "text": [
      "Submisssion progress...:  97%|\u001b[34m█████████▋\u001b[0m| 96/99 [16:26<00:35, 11.77s/it]"
     ]
    },
    {
     "name": "stdout",
     "output_type": "stream",
     "text": [
      "1338274179632485 kimandono.com\n"
     ]
    },
    {
     "name": "stderr",
     "output_type": "stream",
     "text": [
      "Submisssion progress...:  98%|\u001b[34m█████████▊\u001b[0m| 97/99 [16:30<00:18,  9.34s/it]"
     ]
    },
    {
     "name": "stdout",
     "output_type": "stream",
     "text": [
      "298772881141116 lane201.com\n"
     ]
    },
    {
     "name": "stderr",
     "output_type": "stream",
     "text": [
      "/var/folders/hn/mtn160v16kq8zlz1vr6zxzdh0000gn/T/ipykernel_20590/44597531.py:10: DtypeWarning: Columns (3,20,21,22,23,30,35,41,45,63,68,69,72,74,77,79,81,83,85,86,87,91,92,97,98,99,101,103,108,109,111,113,114,129,132,134,141,144,145,146,147,149,151,152,156) have mixed types. Specify dtype option on import or set low_memory=False.\n",
      "  tdf = pd.read_csv(row['product_feed_url'])\n",
      "Submisssion progress...:  99%|\u001b[34m█████████▉\u001b[0m| 98/99 [17:39<00:27, 27.15s/it]"
     ]
    },
    {
     "name": "stdout",
     "output_type": "stream",
     "text": [
      "306763880592516 nomadgoods.com\n"
     ]
    },
    {
     "name": "stderr",
     "output_type": "stream",
     "text": [
      "Submisssion progress...: 100%|\u001b[34m██████████\u001b[0m| 99/99 [17:42<00:00, 10.73s/it]\n"
     ]
    }
   ],
   "source": [
    "#iterate through each row of cust_df\n",
    "#create and empty dataframe called rdf with columns called catalog_id, seller, pvid, title, link, image_link, additional_image_link, other_images, video_third_party, videos, video, description_structured\n",
    "rdf = pd.DataFrame(columns=['catalog_id', 'seller', 'pvid', 'title', 'link', 'image_link', 'additional_image_link', 'other_images', 'video_third_party', 'videos', 'video', 'description_structured'])\n",
    "#iterate through each row of cust_df and add progress tqdm\n",
    "for index, row in tqdm(cust_df.iterrows(), total=cust_df.shape[0], desc='Submisssion progress...',colour='blue'):\n",
    "    catalog_id = row['catalog_id']\n",
    "    seller = row['seller_optional']\n",
    "    print(catalog_id, seller)\n",
    "    #read the csv file from column product_feed_url and save it in a dataframe called tdf\n",
    "    tdf = pd.read_csv(row['product_feed_url'])\n",
    "    #print(tdf.columns)\n",
    "    tdf_columns = tdf.columns\n",
    "    if 'pvid' not in tdf_columns:\n",
    "            tdf['pvid'] = 0\n",
    "    if 'title' not in tdf_columns:\n",
    "            tdf['title'] = 0\n",
    "    if 'link' not in tdf_columns:\n",
    "            tdf['link'] = 0\n",
    "    if 'image_link' not in tdf_columns:\n",
    "            tdf['image_link'] = 0\n",
    "    if 'additional_image_link' not in tdf_columns:\n",
    "            tdf['additional_image_link'] = 0\n",
    "    if 'other_images' not in tdf_columns:\n",
    "            tdf['other_images'] = 0\n",
    "    if 'video_third_party' not in tdf_columns:\n",
    "            tdf['video_third_party'] = 0\n",
    "    if 'videos' not in tdf_columns:\n",
    "            tdf['videos'] = 0\n",
    "    if 'video' not in tdf_columns:\n",
    "            tdf['video'] = 0\n",
    "    if 'description_structured' not in tdf_columns:\n",
    "            tdf['description_structured'] = 0\n",
    "    #iterate through each row of tdf\n",
    "    for index, row in tdf.iterrows():\n",
    "        #save the columns catalog_id, seller, pvid, title, link, image_link, additional_image_link, other_images, video_third_party, videos, video, description_structured in the current row of tdf\n",
    "        pvid = row['pvid']\n",
    "        title = row['title']\n",
    "        link = row['link']\n",
    "        image_link = row['image_link']\n",
    "        additional_image_link = row['additional_image_link']\n",
    "        other_images = row['other_images']\n",
    "        video_third_party = row['video_third_party']\n",
    "        videos = row['videos']\n",
    "        video = row['video']\n",
    "        description_structured = row['description_structured']\n",
    "        #print(pvid, title, link, image_link, additional_image_link, other_images, video_third_party, videos, video, description_structured)\n",
    "        #concat (do not use append) the values of the columns catalog_id, seller, pvid, title, link, image_link, additional_image_link, other_images, video_third_party, videos, video, description_structured to the dataframe rdf\n",
    "        rdf = pd.concat([rdf, pd.DataFrame([[catalog_id, seller, pvid, title, link, image_link, additional_image_link, other_images, video_third_party, videos, video, description_structured]], columns=['catalog_id', 'seller', 'pvid', 'title', 'link', 'image_link', 'additional_image_link', 'other_images', 'video_third_party', 'videos', 'video', 'description_structured'])], ignore_index=True)      \n",
    "#save rdf in a csv file called consolidated.csv\n",
    "rdf.to_csv('consolidated.csv', index=False)"
   ]
  },
  {
   "cell_type": "code",
   "execution_count": 66,
   "metadata": {},
   "outputs": [
    {
     "name": "stdout",
     "output_type": "stream",
     "text": [
      "                  pvid\n",
      "                 count\n",
      "catalog_id            \n",
      "148045002516308     70\n",
      "156603574999670    495\n",
      "157131658307306    157\n",
      "197796490709792    280\n",
      "204614226961717    802\n",
      "...                ...\n",
      "3112012795691994   357\n",
      "3118062828310290  1439\n",
      "3330468336969617  1929\n",
      "3799030140124929  5080\n",
      "4369275513113953  1431\n",
      "\n",
      "[99 rows x 1 columns]\n"
     ]
    }
   ],
   "source": []
  },
  {
   "cell_type": "code",
   "execution_count": null,
   "metadata": {},
   "outputs": [],
   "source": [
    "#print(row['size_chart_url'])\n",
    "#check if size_chart_url is empty\n",
    "if pd.isnull(row['size_chart_url']):group\n",
    "continue\n",
    "else:\n",
    "        response = urlopen(row['size_chart_url'])\n",
    "        #catch exception if there is an error\n",
    "        try:\n",
    "            sc_json = json.loads(response.read())\n",
    "            print(sc_json)\n",
    "        except:\n",
    "            print(\"JSON error\")\n",
    "        continue"
   ]
  },
  {
   "cell_type": "code",
   "execution_count": 71,
   "metadata": {},
   "outputs": [],
   "source": [
    "# get pvid where video_third_party is not []\n",
    "rdf = rdf[rdf['video_third_party'] != '[]']"
   ]
  },
  {
   "cell_type": "code",
   "execution_count": null,
   "metadata": {},
   "outputs": [],
   "source": []
  }
 ],
 "metadata": {
  "kernelspec": {
   "display_name": "base",
   "language": "python",
   "name": "python3"
  },
  "language_info": {
   "codemirror_mode": {
    "name": "ipython",
    "version": 3
   },
   "file_extension": ".py",
   "mimetype": "text/x-python",
   "name": "python",
   "nbconvert_exporter": "python",
   "pygments_lexer": "ipython3",
   "version": "3.9.12"
  },
  "orig_nbformat": 4
 },
 "nbformat": 4,
 "nbformat_minor": 2
}
