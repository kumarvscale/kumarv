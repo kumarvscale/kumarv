{
 "cells": [
  {
   "cell_type": "code",
   "execution_count": null,
   "metadata": {},
   "outputs": [],
   "source": [
    "import pandas as pd\n",
    "import numpy as np\n",
    "import json\n",
    "from tqdm import tqdm\n",
    "from urllib.request import urlopen"
   ]
  },
  {
   "cell_type": "code",
   "execution_count": null,
   "metadata": {},
   "outputs": [],
   "source": [
    "cust_df = pd.read_csv('prod_destination.csv')\n",
    "rdf=\"\"\n",
    "print(cust_df.columns)\n",
    "#delete the row where catalog_id is 342471226719160\n",
    "cust_df = cust_df[cust_df.catalog_id != 342471226719160]"
   ]
  },
  {
   "cell_type": "code",
   "execution_count": null,
   "metadata": {},
   "outputs": [],
   "source": [
    "#iterate through each row of cust_df\n",
    "#create and empty dataframe called rdf with columns called catalog_id, seller, pvid, title, link, image_link, additional_image_link, other_images, video_third_party, videos, video, description_structured\n",
    "rdf = pd.DataFrame(columns=['catalog_id', 'seller', 'pvid', 'title', 'link', 'image_link', 'additional_image_link', 'other_images', 'video_third_party', 'videos', 'video', 'description_structured'])\n",
    "#iterate through each row of cust_df and add progress tqdm\n",
    "for index, row in tqdm(cust_df.iterrows(), total=cust_df.shape[0], desc='Submisssion progress...',colour='blue'):\n",
    "    #try catch block to handle any exception\n",
    "    try:\n",
    "        #read the json file from column product_feed_url and save it in a dataframe called tdf\n",
    "        tdf = pd.read_json(row['product_feed_url'])\n",
    "        #check if any row of column videos in tdf is not null and place it in a dataframe called rdf\n",
    "        if tdf['videos'].notnull().any():\n",
    "            rdf = rdf.append(tdf[tdf['videos'].notnull()])\n",
    "            print(rdf)\n",
    "    except:\n",
    "        #if any exception occurs, print the catalog_id and seller\n",
    "        print(row['catalog_id'], row['seller_optional'])\n",
    "        continue\n",
    "\n"
   ]
  },
  {
   "cell_type": "code",
   "execution_count": null,
   "metadata": {},
   "outputs": [],
   "source": [
    "\n",
    "\n",
    "\n",
    "    catalog_id = row['catalog_id']\n",
    "    seller = row['seller_optional']\n",
    "    print(catalog_id, seller)\n",
    "    #read the csv file from column product_feed_url and save it in a dataframe called tdf\n",
    "    tdf = pd.read_csv(row['product_feed_url'])\n",
    "    #check if any row of column videos in tdf is not null and place it in a dataframe called rdf\n",
    "    if tdf['videos'].notnull().any():\n",
    "        rdf = rdf.append(tdf[tdf['videos'].notnull()])\n",
    "        print(rdf)\n",
    "\n"
   ]
  },
  {
   "cell_type": "code",
   "execution_count": null,
   "metadata": {},
   "outputs": [],
   "source": []
  }
 ],
 "metadata": {
  "kernelspec": {
   "display_name": "base",
   "language": "python",
   "name": "python3"
  },
  "language_info": {
   "codemirror_mode": {
    "name": "ipython",
    "version": 3
   },
   "file_extension": ".py",
   "mimetype": "text/x-python",
   "name": "python",
   "nbconvert_exporter": "python",
   "pygments_lexer": "ipython3",
   "version": "3.9.12"
  },
  "orig_nbformat": 4
 },
 "nbformat": 4,
 "nbformat_minor": 2
}
