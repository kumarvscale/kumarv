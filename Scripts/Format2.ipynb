{
 "cells": [
  {
   "cell_type": "code",
   "execution_count": 5,
   "id": "c0506f7e",
   "metadata": {},
   "outputs": [],
   "source": [
    "import time"
   ]
  },
  {
   "cell_type": "code",
   "execution_count": 6,
   "id": "420a1cbc",
   "metadata": {},
   "outputs": [],
   "source": [
    "#f1 = \"\"\"\n",
    "#r1 = \"'\"\n",
    "f2 = \"[{'key':\"\n",
    "r2 = \"{\"\n",
    "f3 = \",'value':\"\n",
    "r3 = \": \"\n",
    "f4 = \"'.'\"\n",
    "r4 = \"'. '\"\n",
    "f5 = \"]},{'key':\"\n",
    "r5 = \"], \"\n",
    "f6 = \"]}]\"\n",
    "r6 = \"]}\"\n",
    "f7 = \"women's\"\n",
    "r7 = \"womens\"\n",
    "f8 = \"men's\"\n",
    "r8 = \"mens\"\n",
    "\n",
    "dfeedback = 'temp.csv'\n"
   ]
  },
  {
   "cell_type": "code",
   "execution_count": 7,
   "id": "96c25b24",
   "metadata": {},
   "outputs": [],
   "source": [
    "#1st Replace\n",
    "#data\n",
    "#with open(dfeedback, 'r') as file:\n",
    "#    data = file.read()\n",
    "#    data = data.replace('\"', \"'\")\n",
    "#with open(dfeedback, 'w') as file:\n",
    "#    file.write(data)\n",
    "#print(\"Replacing first string\")\n",
    "#time.sleep(4)"
   ]
  },
  {
   "cell_type": "code",
   "execution_count": 8,
   "id": "005a8d56",
   "metadata": {},
   "outputs": [
    {
     "name": "stdout",
     "output_type": "stream",
     "text": [
      "Replacing second string\n"
     ]
    }
   ],
   "source": [
    "#2nd Replace\n",
    "with open(dfeedback, 'r') as file:\n",
    "    data = file.read()\n",
    "    data = data.replace(f2, r2)\n",
    "with open(dfeedback, 'w') as file:\n",
    "    file.write(data)\n",
    "print(\"Replacing second string\")\n",
    "time.sleep(4)\n",
    "    "
   ]
  },
  {
   "cell_type": "code",
   "execution_count": 9,
   "id": "b90acceb",
   "metadata": {},
   "outputs": [
    {
     "name": "stdout",
     "output_type": "stream",
     "text": [
      "Replacing third string\n",
      "Replacing fourth string\n",
      "Replacing fifth string\n",
      "Replacing sixth string\n",
      "Replacing seventh string\n",
      "Replacing 8th string\n",
      "Format corrections made. File saved\n"
     ]
    }
   ],
   "source": [
    "\n",
    "\n",
    "    \n",
    "#3rd Replace\n",
    "with open(dfeedback, 'r') as file:\n",
    "    data = file.read()\n",
    "    data = data.replace(f3, r3)\n",
    "with open(dfeedback, 'w') as file:\n",
    "    file.write(data)\n",
    "print(\"Replacing third string\")\n",
    "time.sleep(4)\n",
    "\n",
    "#4th Replace\n",
    "with open(dfeedback, 'r') as file:\n",
    "    data = file.read()\n",
    "    data = data.replace(f4, r4)\n",
    "with open(dfeedback, 'w') as file:\n",
    "    file.write(data)\n",
    "print(\"Replacing fourth string\")\n",
    "time.sleep(4)\n",
    "\n",
    "#5th Replace\n",
    "with open(dfeedback, 'r') as file:\n",
    "    data = file.read()\n",
    "    data = data.replace(f5, r5)\n",
    "with open(dfeedback, 'w') as file:\n",
    "    file.write(data)\n",
    "print(\"Replacing fifth string\")\n",
    "time.sleep(4)\n",
    "    \n",
    "#6th Replace\n",
    "with open(dfeedback, 'r') as file:\n",
    "    data = file.read()\n",
    "    data = data.replace(f6, r6)\n",
    "with open(dfeedback, 'w') as file:\n",
    "    file.write(data)\n",
    "print(\"Replacing sixth string\")\n",
    "time.sleep(4)\n",
    "\n",
    "#7th Replace\n",
    "with open(dfeedback, 'r') as file:\n",
    "    data = file.read()\n",
    "    data = data.replace(f7, r7)\n",
    "with open(dfeedback, 'w') as file:\n",
    "    file.write(data)\n",
    "print(\"Replacing seventh string\")\n",
    "time.sleep(4)\n",
    "\n",
    "#8th Replace\n",
    "with open(dfeedback, 'r') as file:\n",
    "    data = file.read()\n",
    "    data = data.replace(f8, r8)\n",
    "with open(dfeedback, 'w') as file:\n",
    "    file.write(data)\n",
    "print(\"Replacing 8th string\")\n",
    "time.sleep(4)\n",
    "    \n",
    "    \n",
    "print(\"Format corrections made. File saved\")"
   ]
  },
  {
   "cell_type": "code",
   "execution_count": null,
   "id": "b0cbfae9",
   "metadata": {},
   "outputs": [],
   "source": []
  },
  {
   "cell_type": "code",
   "execution_count": null,
   "id": "6ff35db3",
   "metadata": {},
   "outputs": [],
   "source": []
  }
 ],
 "metadata": {
  "kernelspec": {
   "display_name": "Python 3 (ipykernel)",
   "language": "python",
   "name": "python3"
  },
  "language_info": {
   "codemirror_mode": {
    "name": "ipython",
    "version": 3
   },
   "file_extension": ".py",
   "mimetype": "text/x-python",
   "name": "python",
   "nbconvert_exporter": "python",
   "pygments_lexer": "ipython3",
   "version": "3.10.5"
  }
 },
 "nbformat": 4,
 "nbformat_minor": 5
}
