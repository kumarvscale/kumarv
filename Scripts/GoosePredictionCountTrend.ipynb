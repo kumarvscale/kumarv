{
 "cells": [
  {
   "cell_type": "code",
   "execution_count": 7,
   "metadata": {},
   "outputs": [
    {
     "name": "stdout",
     "output_type": "stream",
     "text": [
      "Initiating login request with your identity provider. A browser window should have opened for you to complete the login. If you can't see it, check existing browser windows, or your OS settings. Press CTRL+C to abort and try again...\n"
     ]
    }
   ],
   "source": [
    "import pandas as pd\n",
    "import snowflake.connector\n",
    "\n",
    "#login to snowflake db\n",
    "con = snowflake.connector.connect(user='vishal.kumar@scale.com',\n",
    "                                 account='pxa65918',\n",
    "                                 authenticator='externalbrowser',\n",
    "                                 warehouse='COMPUTE_WH',\n",
    "                                 database='SCALE_PROD',\n",
    "                                 role='GENERAL_RO')\n",
    "\n",
    "cs = con.cursor()"
   ]
  },
  {
   "cell_type": "code",
   "execution_count": 12,
   "metadata": {},
   "outputs": [],
   "source": [
    "#Get work logs\n",
    "sql = f'''\n",
    "Select\n",
    "  subtask,response\n",
    "from\n",
    "  taskattempts\n",
    "where\n",
    "  project = '640a1b2121f00794ddf64b06'\n",
    "  and review_level = 12\n",
    "  and cast(attempted_at as Date) > '2023-04-30'\n",
    "limit\n",
    "  10\n",
    "'''\n",
    "cs.execute(sql)\n",
    "tdf = cs.fetch_pandas_all()\n"
   ]
  },
  {
   "cell_type": "code",
   "execution_count": 13,
   "metadata": {},
   "outputs": [
    {
     "name": "stdout",
     "output_type": "stream",
     "text": [
      "                    SUBTASK                                           RESPONSE\n",
      "0  645020a371b36cd1175102d6  {\\n  \"annotations\": {\\n    \"form_leatherGrade\"...\n",
      "1  64518712eefef1cde5953214  {\\n  \"annotations\": {\\n    \"form_assembledProd...\n",
      "2  645185a3109d20300a5be161  {\\n  \"annotations\": {\\n    \"form_netContent\": ...\n",
      "3  64501d7ecce233a1f28f6c73  {\\n  \"annotations\": {\\n    \"form_accessoriesIn...\n",
      "4  64501d94d94dcc5ab60093f6  {\\n  \"annotations\": {\\n    \"form_technology\": ...\n",
      "5  64501dac9b62a6fa742d35a2  {\\n  \"annotations\": {\\n    \"form_edition\": {\\n...\n",
      "6  64501c27950872d7783dba1a  {\\n  \"annotations\": {\\n    \"form_modelNumber\":...\n",
      "7  64501c309cc78232899b5df8  {\\n  \"annotations\": {\\n    \"form_edition\": {\\n...\n",
      "8  64501c29bbd74d06ad17547b  {\\n  \"annotations\": {\\n    \"form_modelNumber\":...\n",
      "9  64501c256b12ea1a5248dc81  {\\n  \"annotations\": {\\n    \"form_esrbRating\": ...\n"
     ]
    }
   ],
   "source": [
    "print(tdf)"
   ]
  },
  {
   "cell_type": "code",
   "execution_count": 10,
   "metadata": {},
   "outputs": [],
   "source": [
    "#copy tdf to another dataframe\n",
    "odf = tdf.copy()\n",
    "#add another column in tdf called PredidctionCount\n",
    "odf['PredictionCount'] = 0\n",
    "#count the number of times the string 'answerChoice' appears in the metadata column\n",
    "odf['PredictionCount'] = odf['METADATA'].str.count('answerChoice')\n",
    "#convert created_at column to date\n",
    "odf['CREATED_AT'] = pd.to_datetime(odf['CREATED_AT']).dt.date\n"
   ]
  },
  {
   "cell_type": "code",
   "execution_count": 11,
   "metadata": {},
   "outputs": [
    {
     "name": "stdout",
     "output_type": "stream",
     "text": [
      "            PredictionCount\n",
      "CREATED_AT                 \n",
      "2023-03-17        30.448359\n",
      "2023-03-28        25.500000\n",
      "2023-03-30        20.998349\n",
      "2023-03-31        20.323604\n",
      "2023-04-07        38.919177\n",
      "2023-04-14        29.369960\n",
      "2023-04-25        28.960630\n",
      "2023-04-28        15.141267\n"
     ]
    },
    {
     "data": {
      "text/plain": [
       "<AxesSubplot:xlabel='CREATED_AT'>"
      ]
     },
     "execution_count": 11,
     "metadata": {},
     "output_type": "execute_result"
    },
    {
     "data": {
      "image/png": "[encoded data removed]",
      "text/plain": [
       "<Figure size 432x288 with 1 Axes>"
      ]
     },
     "metadata": {
      "needs_background": "light"
     },
     "output_type": "display_data"
    }
   ],
   "source": [
    "#calculate the average number of predictions by created_at date\n",
    "ndf = odf.groupby('CREATED_AT').mean()\n",
    "print(ndf)\n",
    "#plot ndf as a line graph\n",
    "ndf.plot(kind='line',y='PredictionCount',color='red')"
   ]
  },
  {
   "cell_type": "code",
   "execution_count": null,
   "metadata": {},
   "outputs": [],
   "source": [
    "tdf = pd.DataFrame(columns=['attribute_name', 'attribute_value'])\n",
    "#iterate through each row of idf\n",
    "for index, row in idf.iterrows():\n",
    "    #save each column of first row in a variable\n",
    "    pvid = idf['PVID'][index]\n",
    "    processed_attributes = idf['PROCESSED_ATTRIBUTES'][index]\n",
    "    category = idf['CATEGORY'][index]\n",
    "    isvalid = idf['ISVALID'][index]\n",
    "    issues = idf['ISSUES'][index]\n",
    "\n",
    "    #parse variable with json processed_attributes and concat to adf dataframe\n",
    "    for key, value in processed_attributes.items():\n",
    "        adf = pd.concat([adf, pd.DataFrame([[key, value]], columns=['attribute_name', 'attribute_value'])], ignore_index=True)\n",
    "    #print(adf)\n",
    "    \n",
    "    #iterate through each row of adf\n",
    "    for index, row in adf.iterrows():\n",
    "        #save value of attribute_name and attribute_value in variables\n",
    "        attribute_name = row['attribute_name']\n",
    "        attribute_value = row['attribute_value']\n",
    "\n",
    "        #----------------------------------------------------------------------\n",
    "        #Start attribute level processing and validations\n",
    "        #----------------------------------------------------------------------\n",
    "#adf.to_csv(json_path + 'adf.csv', index=False)"
   ]
  }
 ],
 "metadata": {
  "kernelspec": {
   "display_name": "base",
   "language": "python",
   "name": "python3"
  },
  "language_info": {
   "codemirror_mode": {
    "name": "ipython",
    "version": 3
   },
   "file_extension": ".py",
   "mimetype": "text/x-python",
   "name": "python",
   "nbconvert_exporter": "python",
   "pygments_lexer": "ipython3",
   "version": "3.9.12"
  },
  "orig_nbformat": 4
 },
 "nbformat": 4,
 "nbformat_minor": 2
}
