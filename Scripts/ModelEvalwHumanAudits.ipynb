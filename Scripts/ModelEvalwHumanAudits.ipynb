{
 "cells": [
  {
   "cell_type": "code",
   "execution_count": 26,
   "metadata": {},
   "outputs": [
    {
     "name": "stdout",
     "output_type": "stream",
     "text": [
      "Initiating login request with your identity provider. A browser window should have opened for you to complete the login. If you can't see it, check existing browser windows, or your OS settings. Press CTRL+C to abort and try again...\n"
     ]
    }
   ],
   "source": [
    "import pandas as pd\n",
    "import snowflake.connector\n",
    "\n",
    "#login to snowflake db\n",
    "con = snowflake.connector.connect(user='vishal.kumar@scale.com',\n",
    "                                 account='pxa65918',\n",
    "                                 authenticator='externalbrowser',\n",
    "                                 warehouse='COMPUTE_WH',\n",
    "                                 database='SCALE_PROD',\n",
    "                                 role='GENERAL_RO')\n",
    "\n",
    "cs = con.cursor()"
   ]
  },
  {
   "cell_type": "code",
   "execution_count": 27,
   "metadata": {},
   "outputs": [],
   "source": [
    "#read the data from csv file and save in mldf\n",
    "mldf = pd.read_csv('modeleval2.csv')"
   ]
  },
  {
   "cell_type": "code",
   "execution_count": 30,
   "metadata": {},
   "outputs": [
    {
     "name": "stdout",
     "output_type": "stream",
     "text": [
      "Index(['STATUS', 'CREATED_AT', 'USER_EMAIL', '_ID', 'PVID', 'ATTRIBUTE_NAME',\n",
      "       'AUDIT_KEY', 'AUDITRESULT'],\n",
      "      dtype='object')\n"
     ]
    }
   ],
   "source": [
    "#Get data from snowflake\n",
    "sql = f'''\n",
    "  SELECT\n",
    "    status,\n",
    "    created_at,\n",
    "    USER_EMAIL,\n",
    "    _ID,\n",
    "    REPLACE(a.key, '__DOT__', '.') AS PVID,\n",
    "    b.key AS ATTRIBUTE_NAME,\n",
    "    c.key AS Audit_Key,\n",
    "    c.value AS AuditResult\n",
    "  FROM\n",
    "    SCALE_CRAWLER.PUBLIC.SPOTTERAUDITS,\n",
    "    LATERAL FLATTEN (INPUT => result) a,\n",
    "    LATERAL FLATTEN (INPUT => a.value, OUTER => TRUE) b,\n",
    "    LATERAL FLATTEN (INPUT => b.value, OUTER => TRUE) c,\n",
    "    LATERAL FLATTEN (INPUT => c.value, OUTER => TRUE) d\n",
    "  WHERE\n",
    "    customer = 'woodpecker'\n",
    "    AND CAST(created_at AS DATE) >= '2023-05-04'\n",
    "    AND USER_EMAIL IN ('ivan.fernandez@contractors.scale.com', 'erik.verna@contractors.scale.com', 'andres.garcia@contractors.scale.com', 'astrid.hernandez@contractors.scale.com', 'vishal.kumar@scale.com')\n",
    "'''\n",
    "cs.execute(sql)\n",
    "adf = cs.fetch_pandas_all()\n",
    "#print columns of adf\n",
    "print(adf.columns)"
   ]
  },
  {
   "cell_type": "code",
   "execution_count": 31,
   "metadata": {},
   "outputs": [],
   "source": [
    "#left join adf to mldf on PVID and attribute_name\n",
    "mdf = pd.merge(mldf, adf, how='left', on=['PVID', 'ATTRIBUTE_NAME'])\n",
    "#delete rows where AuditResult is null\n",
    "mdf = mdf[mdf['AUDITRESULT'].notnull()]\n",
    "#save mdf to csv file\n",
    "mdf.to_csv('modelevalaudited.csv', index=False)"
   ]
  },
  {
   "cell_type": "code",
   "execution_count": null,
   "metadata": {},
   "outputs": [],
   "source": []
  }
 ],
 "metadata": {
  "kernelspec": {
   "display_name": "base",
   "language": "python",
   "name": "python3"
  },
  "language_info": {
   "codemirror_mode": {
    "name": "ipython",
    "version": 3
   },
   "file_extension": ".py",
   "mimetype": "text/x-python",
   "name": "python",
   "nbconvert_exporter": "python",
   "pygments_lexer": "ipython3",
   "version": "3.9.12"
  },
  "orig_nbformat": 4
 },
 "nbformat": 4,
 "nbformat_minor": 2
}
