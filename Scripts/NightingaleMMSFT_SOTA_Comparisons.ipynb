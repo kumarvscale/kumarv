{
 "cells": [
  {
   "cell_type": "code",
   "execution_count": 1,
   "metadata": {},
   "outputs": [
    {
     "name": "stdout",
     "output_type": "stream",
     "text": [
      "Initiating login request with your identity provider. A browser window should have opened for you to complete the login. If you can't see it, check existing browser windows, or your OS settings. Press CTRL+C to abort and try again...\n"
     ]
    }
   ],
   "source": [
    "import openai\n",
    "from tqdm import tqdm\n",
    "import os\n",
    "import pandas as pd\n",
    "import snowflake.connector\n",
    "\n",
    "api_key_file = '/Users/vishalkumar/Documents/apikey.txt'\n",
    "if os.path.isfile(api_key_file):\n",
    "    with open(api_key_file) as f:\n",
    "        openai.api_key = f.readline()\n",
    "else:\n",
    "    print(f\"Error: {api_key_file} not found.\")\n",
    "\n",
    "OPENAI_API_KEY = openai.api_key\n",
    "\n",
    "#login to snowflake db\n",
    "con = snowflake.connector.connect(user='vishal.kumar@scale.com',\n",
    "                                 account='pxa65918',\n",
    "                                 authenticator='externalbrowser',\n",
    "                                 warehouse='COMPUTE_WH',\n",
    "                                 database='SCALE_CRAWLER',\n",
    "                                 role='GENERAL_RO')\n",
    "\n",
    "cs = con.cursor()"
   ]
  },
  {
   "cell_type": "code",
   "execution_count": 6,
   "metadata": {},
   "outputs": [],
   "source": [
    "#Get data from snowflake\n",
    "sql = f'''\n",
    "with RankedTasks AS (\n",
    "select\n",
    "ta.task,\n",
    "u.email,\n",
    "t.params:templateVariables.image_url::string as Image_Url,\n",
    "case when ta.response:responses[3]:context:response:annotations:prompt:response[0]::string is null \n",
    "then ta.response:responses[2]:output::string\n",
    "else ta.response:responses[3]:context:response:annotations:prompt:response[0]::string \n",
    "end as PROMPT,\n",
    "case when ta.response:responses[3]:context:response:annotations:response:response[0]::string is null\n",
    "then ta.response:responses[3]:output::string\n",
    "else ta.response:responses[3]:context:response:annotations:response:response[0]::string\n",
    "end as response_generated\n",
    ",ROW_NUMBER() OVER (PARTITION BY ta.TASK ORDER BY ta.ATTEMPTED_AT DESC) AS rn\n",
    "from scale_prod.public.taskattempts ta \n",
    "JOIN scale_prod.public.TASKS t ON ta.TASK = t._id\n",
    "JOIN scale_prod.public.projects p ON p._id = ta.project\n",
    "JOIN scale_prod.public.PIPELINEV3HUMANNODES pv3 ON pv3.task = t._id\n",
    "JOIN scale_prod.public.users u on u._id = ta.attempted_by\n",
    "where p._ID = '65e23dd219c580a16e44e374'\n",
    "and ta.task IN ('65e9196eac3aa23880139ede',\n",
    "'65e9113cecc09a673e691ec4',\n",
    "'65e9195aba9c50de8bd1fa37'))\n",
    "select\n",
    "task,\n",
    "email,\n",
    "image_url,\n",
    "PROMPT,\n",
    "response_generated\n",
    "FROM RankedTasks\n",
    "WHERE rn = 1\n",
    "'''\n",
    "cs.execute(sql)\n",
    "idf = cs.fetch_pandas_all()"
   ]
  },
  {
   "cell_type": "code",
   "execution_count": 7,
   "metadata": {},
   "outputs": [],
   "source": [
    "def vision_gpt(image_url, prompt):\n",
    "    import openai\n",
    "    client = openai\n",
    "    response = client.chat.completions.create(\n",
    "        model=\"gpt-4-vision-preview\",\n",
    "        messages=[\n",
    "            {\n",
    "                \"role\": \"user\",\n",
    "                \"content\": [\n",
    "                    {\"type\": \"text\", \"text\": prompt},\n",
    "                    {\n",
    "                        \"type\": \"image_url\",\n",
    "                        \"image_url\": {\n",
    "                            \"url\": image_url,\n",
    "                            \"detail\": \"high\"\n",
    "                        },\n",
    "                    },\n",
    "                ],\n",
    "            }\n",
    "        ],\n",
    "        max_tokens=1024,\n",
    "    )\n",
    "    return response"
   ]
  },
  {
   "cell_type": "code",
   "execution_count": 8,
   "metadata": {},
   "outputs": [
    {
     "name": "stdout",
     "output_type": "stream",
     "text": [
      "Number of rows to process: 375\n"
     ]
    }
   ],
   "source": [
    "n = idf.shape[0]\n",
    "print(f\"Number of rows to process: {n}\")"
   ]
  },
  {
   "cell_type": "code",
   "execution_count": 9,
   "metadata": {},
   "outputs": [
    {
     "name": "stderr",
     "output_type": "stream",
     "text": [
      " 43%|████▎     | 160/375 [37:33<32:57,  9.20s/it]  "
     ]
    },
    {
     "name": "stdout",
     "output_type": "stream",
     "text": [
      "Error occurred: Error code: 400 - {'error': {'message': \"You uploaded an unsupported image. Please make sure your image is below 20 MB in size and is of one the following formats: ['png', 'jpeg', 'gif', 'webp'].\", 'type': 'invalid_request_error', 'param': None, 'code': 'sanitizer_server_error'}}\n"
     ]
    },
    {
     "name": "stderr",
     "output_type": "stream",
     "text": [
      " 55%|█████▌    | 207/375 [47:23<21:28,  7.67s/it]  "
     ]
    },
    {
     "name": "stdout",
     "output_type": "stream",
     "text": [
      "Error occurred: Error code: 400 - {'error': {'message': \"You uploaded an unsupported image. Please make sure your image is below 20 MB in size and is of one the following formats: ['png', 'jpeg', 'gif', 'webp'].\", 'type': 'invalid_request_error', 'param': None, 'code': 'sanitizer_server_error'}}\n"
     ]
    },
    {
     "name": "stderr",
     "output_type": "stream",
     "text": [
      " 55%|█████▌    | 208/375 [47:27<18:11,  6.54s/it]"
     ]
    },
    {
     "name": "stdout",
     "output_type": "stream",
     "text": [
      "Error occurred: Error code: 400 - {'error': {'message': 'Invalid image.', 'type': 'invalid_request_error', 'param': None, 'code': None}}\n"
     ]
    },
    {
     "name": "stderr",
     "output_type": "stream",
     "text": [
      " 94%|█████████▍| 353/375 [1:24:35<02:39,  7.26s/it]"
     ]
    },
    {
     "name": "stdout",
     "output_type": "stream",
     "text": [
      "Error occurred: Error code: 400 - {'error': {'message': \"You uploaded an unsupported image. Please make sure your image is below 20 MB in size and is of one the following formats: ['png', 'jpeg', 'gif', 'webp'].\", 'type': 'invalid_request_error', 'param': None, 'code': 'sanitizer_server_error'}}\n"
     ]
    },
    {
     "name": "stderr",
     "output_type": "stream",
     "text": [
      " 95%|█████████▍| 356/375 [1:25:02<02:26,  7.69s/it]"
     ]
    },
    {
     "name": "stdout",
     "output_type": "stream",
     "text": [
      "Error occurred: Error code: 400 - {'error': {'message': \"You uploaded an unsupported image. Please make sure your image is below 20 MB in size and is of one the following formats: ['png', 'jpeg', 'gif', 'webp'].\", 'type': 'invalid_request_error', 'param': None, 'code': 'sanitizer_server_error'}}\n"
     ]
    },
    {
     "name": "stderr",
     "output_type": "stream",
     "text": [
      "100%|██████████| 375/375 [1:30:15<00:00, 14.44s/it]\n"
     ]
    }
   ],
   "source": [
    "idf['SOTA_RESPONSE'] = None\n",
    "for i, row in tqdm(idf.iterrows(), total=idf.shape[0]):\n",
    "    try:\n",
    "        #if pd.isna(row['TRANSFORMED_IMAGE_URL']):\n",
    "        image_url = row['IMAGE_URL']\n",
    "        #else:\n",
    "        #    image_url = row['TRANSFORMED_IMAGE_URL']\n",
    "        prompt = row['PROMPT']\n",
    "        response = vision_gpt(image_url, prompt)\n",
    "        response = response.choices[0].message.content\n",
    "        idf.loc[i, 'SOTA_RESPONSE'] = response\n",
    "    except Exception as e:\n",
    "        print(f\"Error occurred: {e}\")\n",
    "        continue\n",
    "\n",
    "#save idf to a csv file\n",
    "idf.to_csv('Nightingale_MM_SFT_DI_SOTA16.csv', index=False)"
   ]
  },
  {
   "cell_type": "code",
   "execution_count": 121,
   "metadata": {},
   "outputs": [],
   "source": [
    "idf.to_csv('Nightingale_MM_SFT_DI_SOTA22.csv')"
   ]
  },
  {
   "cell_type": "code",
   "execution_count": null,
   "metadata": {},
   "outputs": [],
   "source": []
  }
 ],
 "metadata": {
  "kernelspec": {
   "display_name": "base",
   "language": "python",
   "name": "python3"
  },
  "language_info": {
   "codemirror_mode": {
    "name": "ipython",
    "version": 3
   },
   "file_extension": ".py",
   "mimetype": "text/x-python",
   "name": "python",
   "nbconvert_exporter": "python",
   "pygments_lexer": "ipython3",
   "version": "3.9.12"
  }
 },
 "nbformat": 4,
 "nbformat_minor": 2
}
