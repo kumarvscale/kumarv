{
 "cells": [
  {
   "cell_type": "code",
   "execution_count": null,
   "metadata": {},
   "outputs": [],
   "source": [
    "import openai\n",
    "from tqdm import tqdm\n",
    "import os\n",
    "import pandas as pd\n",
    "import snowflake.connector\n",
    "\n",
    "api_key_file = 'apikey.txt'\n",
    "if os.path.isfile(api_key_file):\n",
    "    with open(api_key_file) as f:\n",
    "        openai.api_key = f.readline()\n",
    "else:\n",
    "    print(f\"Error: {api_key_file} not found.\")\n",
    "\n",
    "OPENAI_API_KEY = openai.api_key\n",
    "\n",
    "#login to snowflake db\n",
    "con = snowflake.connector.connect(user='vishal.kumar@scale.com',\n",
    "                                 account='pxa65918',\n",
    "                                 authenticator='externalbrowser',\n",
    "                                 warehouse='COMPUTE_WH',\n",
    "                                 database='SCALE_CRAWLER',\n",
    "                                 role='GENERAL_RO')\n",
    "\n",
    "cs = con.cursor()"
   ]
  },
  {
   "cell_type": "code",
   "execution_count": null,
   "metadata": {},
   "outputs": [],
   "source": [
    "#Get data from snowflake\n",
    "sql = f'''\n",
    "Select \n",
    "task,\n",
    "t.params:templateVariables.image_type::string as Image_Type,\n",
    "t.params:templateVariables.pr_type::string as pr_Type,\n",
    "t.params:templateVariables.image_url::string as Image_Url,\n",
    "ta.response:responses[2].context.response.annotations.low_quality.response[0][0]::string as Image_Usable,\n",
    "ta.response:responses[3].context.response.annotations.prompt.response[0]::string as Prompt,\n",
    "ta.response:responses[3].context.response.annotations.response.response[0]::string as Response\n",
    "from scale_prod.public.taskattempts ta join scale_prod.public.tasks t on ta.task=t._id\n",
    "where ta.project='65e23dd219c580a16e44e374'\n",
    "and prompt is not null\n",
    "'''\n",
    "cs.execute(sql)\n",
    "idf = cs.fetch_pandas_all()"
   ]
  },
  {
   "cell_type": "code",
   "execution_count": null,
   "metadata": {},
   "outputs": [],
   "source": [
    "def vision_gpt(image_url, prompt):\n",
    "    import openai\n",
    "    client = openai\n",
    "    response = client.completions.create(\n",
    "        model=\"gpt-4-vision-preview\",\n",
    "        messages=[\n",
    "            {\n",
    "                \"role\": \"user\",\n",
    "                \"content\": [\n",
    "                    {\"type\": \"text\", \"text\": prompt},\n",
    "                    {\n",
    "                        \"type\": \"image_url\",\n",
    "                        \"image_url\": {\n",
    "                            \"url\": image_url,\n",
    "                            \"detail\": \"high\"\n",
    "                        },\n",
    "                    },\n",
    "                ],\n",
    "            }\n",
    "        ],\n",
    "        max_tokens=300,\n",
    "    )\n",
    "    return response"
   ]
  },
  {
   "cell_type": "code",
   "execution_count": null,
   "metadata": {},
   "outputs": [],
   "source": [
    "#add a another blank column to idf called SOTA_RESPONSE\n",
    "idf['SOTA_RESPONSE'] = None\n",
    "#create a for loop to iterate over the rows of idf\n",
    "for i, row in tqdm(idf.iterrows(), total=idf.shape[0]):\n",
    "    #save current row idf column IMAGE_URL to a variable called image_url\n",
    "    image_url = row['IMAGE_URL']\n",
    "    #save current row idf column PROMPT to a variable called prompt\n",
    "    prompt = row['PROMPT']\n",
    "    #call the vision_gpt function with image_url and prompt as arguments\n",
    "    response = vision_gpt(image_url, prompt)\n",
    "    response = response.choices[0]\n",
    "    idf.at[i, 'SOTA_RESPONSE'] = response\n",
    "    print(response)\n",
    "\n",
    "#save idf to a csv file\n",
    "idf.to_csv('Nightingale_MM_SFT_DI_SOTA.csv', index=False)"
   ]
  },
  {
   "cell_type": "code",
   "execution_count": null,
   "metadata": {},
   "outputs": [],
   "source": []
  }
 ],
 "metadata": {
  "kernelspec": {
   "display_name": "base",
   "language": "python",
   "name": "python3"
  },
  "language_info": {
   "codemirror_mode": {
    "name": "ipython",
    "version": 3
   },
   "file_extension": ".py",
   "mimetype": "text/x-python",
   "name": "python",
   "nbconvert_exporter": "python",
   "pygments_lexer": "ipython3",
   "version": "3.9.12"
  }
 },
 "nbformat": 4,
 "nbformat_minor": 2
}
