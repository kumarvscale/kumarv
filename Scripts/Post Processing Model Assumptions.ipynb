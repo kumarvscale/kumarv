{
 "cells": [
  {
   "cell_type": "code",
   "execution_count": 1,
   "id": "8205f833",
   "metadata": {},
   "outputs": [],
   "source": [
    "import pandas as pd\n",
    "import numpy as np\n",
    "import snowflake.connector\n",
    "from collections import defaultdict\n",
    "import json\n",
    "import re\n",
    "import requests\n",
    "import sys\n",
    "import random\n",
    "import requests\n",
    "import tabulate\n",
    "from datetime import datetime\n",
    "import schedule\n",
    "import time"
   ]
  },
  {
   "cell_type": "code",
   "execution_count": 2,
   "id": "d3b5b64c",
   "metadata": {},
   "outputs": [
    {
     "name": "stdout",
     "output_type": "stream",
     "text": [
      "Initiating login request with your identity provider. A browser window should have opened for you to complete the login. If you can't see it, check existing browser windows, or your OS settings. Press CTRL+C to abort and try again...\n"
     ]
    }
   ],
   "source": [
    "#login to snowflake db\n",
    "con = snowflake.connector.connect(user='vishal.kumar@scale.com',\n",
    "                                 account='pxa65918',\n",
    "                                 authenticator='externalbrowser',\n",
    "                                 warehouse='COMPUTE_WH',\n",
    "                                 database='SCALE_CRAWLER',\n",
    "                                 role='GENERAL_RO')\n",
    "\n",
    "cs = con.cursor()"
   ]
  },
  {
   "cell_type": "code",
   "execution_count": 3,
   "id": "d337fe34",
   "metadata": {},
   "outputs": [],
   "source": [
    "#Get work logs\n",
    "sql = f'''\n",
    "SELECT\n",
    "  PUBLIC.QAEVENTS.user_email :: string EMAIL,\n",
    "  PUBLIC.QAEVENTS.metadata: pvids PVIDS,\n",
    "  (PUBLIC.QAEVENTS.metadata: totalMillisElapsed)/100 TIMESPENTSEC,\n",
    "  --  PUBLIC.QAEVENTS.metadata: fieldBefore BEFORE,\n",
    "  --  PUBLIC.QAEVENTS.metadata: fieldCurrent AFTER,\n",
    "  PUBLIC.QAEVENTS.event_type,\n",
    "  PUBLIC.QAEVENTS.event_at,\n",
    "  cast (PUBLIC.QAEVENTS.event_at as DATE) AS EventDate,\n",
    "  --  PUBLIC.QAEVENTS.metadata: fullStoryEvent :: string,\n",
    "  --  PUBLIC.QAEVENTS.metadata: auditLevel :: string,\n",
    "  --  PUBLIC.QAEVENTS.metadata: hintsAvailable,\n",
    "  PUBLIC.QAEVENTS.metadata: domain SITE\n",
    "FROM\n",
    "  PUBLIC.QAEVENTS\n",
    "WHERE\n",
    "--        CAST(PUBLIC.QAEVENTS.event_at AS DATE) = CURRENT_DATE()\n",
    "      CAST(PUBLIC.QAEVENTS.event_at AS DATE) BETWEEN '2022-09-27' AND '2022-10-27'\n",
    "  AND PUBLIC.QAEVENTS.metadata :domain is not NULL\n",
    "  AND PUBLIC.QAEVENTS.event_type = 'submit_description_speed_audit'\n",
    "  AND PUBLIC.QAEVENTS.user_email NOT LIKE '%telework%'\n",
    "'''\n",
    "cs.execute(sql)\n",
    "worklogdf = cs.fetch_pandas_all()\n"
   ]
  },
  {
   "cell_type": "code",
   "execution_count": 14,
   "id": "d344f96a",
   "metadata": {},
   "outputs": [
    {
     "data": {
      "text/html": [
       "<div>\n",
       "<style scoped>\n",
       "    .dataframe tbody tr th:only-of-type {\n",
       "        vertical-align: middle;\n",
       "    }\n",
       "\n",
       "    .dataframe tbody tr th {\n",
       "        vertical-align: top;\n",
       "    }\n",
       "\n",
       "    .dataframe thead th {\n",
       "        text-align: right;\n",
       "    }\n",
       "</style>\n",
       "<table border=\"1\" class=\"dataframe\">\n",
       "  <thead>\n",
       "    <tr style=\"text-align: right;\">\n",
       "      <th></th>\n",
       "      <th>EMAIL</th>\n",
       "      <th>PVIDS</th>\n",
       "      <th>TIMESPENTSEC</th>\n",
       "      <th>EVENT_TYPE</th>\n",
       "      <th>EVENT_AT</th>\n",
       "      <th>EVENTDATE</th>\n",
       "      <th>SITE</th>\n",
       "      <th>LEVEL</th>\n",
       "    </tr>\n",
       "  </thead>\n",
       "  <tbody>\n",
       "    <tr>\n",
       "      <th>0</th>\n",
       "      <td>karla.nunez@contractors.scale.com</td>\n",
       "      <td>[\\n  \"shop.jenessawait.com!31943155089480\",\\n ...</td>\n",
       "      <td>529.56</td>\n",
       "      <td>submit_description_speed_audit</td>\n",
       "      <td>2022-09-28 23:01:18.196000+00:00</td>\n",
       "      <td>2022-09-28</td>\n",
       "      <td>\"shop.jenessawait.com\"</td>\n",
       "      <td>QA</td>\n",
       "    </tr>\n",
       "    <tr>\n",
       "      <th>1</th>\n",
       "      <td>karla.nunez@contractors.scale.com</td>\n",
       "      <td>[\\n  \"shop.jenessawait.com!39555769663643\",\\n ...</td>\n",
       "      <td>107.53</td>\n",
       "      <td>submit_description_speed_audit</td>\n",
       "      <td>2022-09-28 23:01:29.045000+00:00</td>\n",
       "      <td>2022-09-28</td>\n",
       "      <td>\"shop.jenessawait.com\"</td>\n",
       "      <td>QA</td>\n",
       "    </tr>\n",
       "    <tr>\n",
       "      <th>2</th>\n",
       "      <td>karla.nunez@contractors.scale.com</td>\n",
       "      <td>[\\n  \"shop.jenessawait.com!35184148250779\",\\n ...</td>\n",
       "      <td>114.75</td>\n",
       "      <td>submit_description_speed_audit</td>\n",
       "      <td>2022-09-28 23:01:57.133000+00:00</td>\n",
       "      <td>2022-09-28</td>\n",
       "      <td>\"shop.jenessawait.com\"</td>\n",
       "      <td>QA</td>\n",
       "    </tr>\n",
       "    <tr>\n",
       "      <th>3</th>\n",
       "      <td>samantha.couoh@contractors.scale.com</td>\n",
       "      <td>[\\n  \"snappyscreen.com!39388791373964\"\\n]</td>\n",
       "      <td>760.86</td>\n",
       "      <td>submit_description_speed_audit</td>\n",
       "      <td>2022-09-28 22:35:48.247000+00:00</td>\n",
       "      <td>2022-09-28</td>\n",
       "      <td>\"snappyscreen.com\"</td>\n",
       "      <td>QA</td>\n",
       "    </tr>\n",
       "    <tr>\n",
       "      <th>4</th>\n",
       "      <td>karla.nunez@contractors.scale.com</td>\n",
       "      <td>[\\n  \"shop.jenessawait.com!39582131290267\",\\n ...</td>\n",
       "      <td>16.19</td>\n",
       "      <td>submit_description_speed_audit</td>\n",
       "      <td>2022-09-28 22:56:08.311000+00:00</td>\n",
       "      <td>2022-09-28</td>\n",
       "      <td>\"shop.jenessawait.com\"</td>\n",
       "      <td>QA</td>\n",
       "    </tr>\n",
       "    <tr>\n",
       "      <th>...</th>\n",
       "      <td>...</td>\n",
       "      <td>...</td>\n",
       "      <td>...</td>\n",
       "      <td>...</td>\n",
       "      <td>...</td>\n",
       "      <td>...</td>\n",
       "      <td>...</td>\n",
       "      <td>...</td>\n",
       "    </tr>\n",
       "    <tr>\n",
       "      <th>1548090</th>\n",
       "      <td>joyce.palma@contractors.scale.com</td>\n",
       "      <td>[\\n  \"inakapower.com!39679303483438\",\\n  \"inak...</td>\n",
       "      <td>52.88</td>\n",
       "      <td>submit_description_speed_audit</td>\n",
       "      <td>2022-10-27 23:52:09.919000+00:00</td>\n",
       "      <td>2022-10-27</td>\n",
       "      <td>\"inakapower.com\"</td>\n",
       "      <td>QA</td>\n",
       "    </tr>\n",
       "    <tr>\n",
       "      <th>1548091</th>\n",
       "      <td>mariana.cuevas@contractors.scale.com</td>\n",
       "      <td>[\\n  \"eightsaintsskincare.com!32938272981095\"\\n]</td>\n",
       "      <td>29.61</td>\n",
       "      <td>submit_description_speed_audit</td>\n",
       "      <td>2022-10-27 23:51:17.294000+00:00</td>\n",
       "      <td>2022-10-27</td>\n",
       "      <td>\"eightsaintsskincare.com\"</td>\n",
       "      <td>QA</td>\n",
       "    </tr>\n",
       "    <tr>\n",
       "      <th>1548092</th>\n",
       "      <td>german.toledo@contractors.scale.com</td>\n",
       "      <td>[\\n  \"slowdownstudio.com!40620005720242\"\\n]</td>\n",
       "      <td>3.97</td>\n",
       "      <td>submit_description_speed_audit</td>\n",
       "      <td>2022-10-27 23:51:46.542000+00:00</td>\n",
       "      <td>2022-10-27</td>\n",
       "      <td>\"slowdownstudio.com\"</td>\n",
       "      <td>QA</td>\n",
       "    </tr>\n",
       "    <tr>\n",
       "      <th>1548093</th>\n",
       "      <td>german.toledo@contractors.scale.com</td>\n",
       "      <td>[\\n  \"slowdownstudio.com!40385501593778\"\\n]</td>\n",
       "      <td>5.37</td>\n",
       "      <td>submit_description_speed_audit</td>\n",
       "      <td>2022-10-27 23:52:15.115000+00:00</td>\n",
       "      <td>2022-10-27</td>\n",
       "      <td>\"slowdownstudio.com\"</td>\n",
       "      <td>QA</td>\n",
       "    </tr>\n",
       "    <tr>\n",
       "      <th>1548094</th>\n",
       "      <td>german.toledo@contractors.scale.com</td>\n",
       "      <td>[\\n  \"slowdownstudio.com!41682483839154\"\\n]</td>\n",
       "      <td>18.66</td>\n",
       "      <td>submit_description_speed_audit</td>\n",
       "      <td>2022-10-27 23:51:50.085000+00:00</td>\n",
       "      <td>2022-10-27</td>\n",
       "      <td>\"slowdownstudio.com\"</td>\n",
       "      <td>QA</td>\n",
       "    </tr>\n",
       "  </tbody>\n",
       "</table>\n",
       "<p>1548095 rows × 8 columns</p>\n",
       "</div>"
      ],
      "text/plain": [
       "                                        EMAIL  \\\n",
       "0           karla.nunez@contractors.scale.com   \n",
       "1           karla.nunez@contractors.scale.com   \n",
       "2           karla.nunez@contractors.scale.com   \n",
       "3        samantha.couoh@contractors.scale.com   \n",
       "4           karla.nunez@contractors.scale.com   \n",
       "...                                       ...   \n",
       "1548090     joyce.palma@contractors.scale.com   \n",
       "1548091  mariana.cuevas@contractors.scale.com   \n",
       "1548092   german.toledo@contractors.scale.com   \n",
       "1548093   german.toledo@contractors.scale.com   \n",
       "1548094   german.toledo@contractors.scale.com   \n",
       "\n",
       "                                                     PVIDS  TIMESPENTSEC  \\\n",
       "0        [\\n  \"shop.jenessawait.com!31943155089480\",\\n ...        529.56   \n",
       "1        [\\n  \"shop.jenessawait.com!39555769663643\",\\n ...        107.53   \n",
       "2        [\\n  \"shop.jenessawait.com!35184148250779\",\\n ...        114.75   \n",
       "3                [\\n  \"snappyscreen.com!39388791373964\"\\n]        760.86   \n",
       "4        [\\n  \"shop.jenessawait.com!39582131290267\",\\n ...         16.19   \n",
       "...                                                    ...           ...   \n",
       "1548090  [\\n  \"inakapower.com!39679303483438\",\\n  \"inak...         52.88   \n",
       "1548091   [\\n  \"eightsaintsskincare.com!32938272981095\"\\n]         29.61   \n",
       "1548092        [\\n  \"slowdownstudio.com!40620005720242\"\\n]          3.97   \n",
       "1548093        [\\n  \"slowdownstudio.com!40385501593778\"\\n]          5.37   \n",
       "1548094        [\\n  \"slowdownstudio.com!41682483839154\"\\n]         18.66   \n",
       "\n",
       "                             EVENT_TYPE                         EVENT_AT  \\\n",
       "0        submit_description_speed_audit 2022-09-28 23:01:18.196000+00:00   \n",
       "1        submit_description_speed_audit 2022-09-28 23:01:29.045000+00:00   \n",
       "2        submit_description_speed_audit 2022-09-28 23:01:57.133000+00:00   \n",
       "3        submit_description_speed_audit 2022-09-28 22:35:48.247000+00:00   \n",
       "4        submit_description_speed_audit 2022-09-28 22:56:08.311000+00:00   \n",
       "...                                 ...                              ...   \n",
       "1548090  submit_description_speed_audit 2022-10-27 23:52:09.919000+00:00   \n",
       "1548091  submit_description_speed_audit 2022-10-27 23:51:17.294000+00:00   \n",
       "1548092  submit_description_speed_audit 2022-10-27 23:51:46.542000+00:00   \n",
       "1548093  submit_description_speed_audit 2022-10-27 23:52:15.115000+00:00   \n",
       "1548094  submit_description_speed_audit 2022-10-27 23:51:50.085000+00:00   \n",
       "\n",
       "          EVENTDATE                       SITE LEVEL  \n",
       "0        2022-09-28     \"shop.jenessawait.com\"    QA  \n",
       "1        2022-09-28     \"shop.jenessawait.com\"    QA  \n",
       "2        2022-09-28     \"shop.jenessawait.com\"    QA  \n",
       "3        2022-09-28         \"snappyscreen.com\"    QA  \n",
       "4        2022-09-28     \"shop.jenessawait.com\"    QA  \n",
       "...             ...                        ...   ...  \n",
       "1548090  2022-10-27           \"inakapower.com\"    QA  \n",
       "1548091  2022-10-27  \"eightsaintsskincare.com\"    QA  \n",
       "1548092  2022-10-27       \"slowdownstudio.com\"    QA  \n",
       "1548093  2022-10-27       \"slowdownstudio.com\"    QA  \n",
       "1548094  2022-10-27       \"slowdownstudio.com\"    QA  \n",
       "\n",
       "[1548095 rows x 8 columns]"
      ]
     },
     "execution_count": 14,
     "metadata": {},
     "output_type": "execute_result"
    }
   ],
   "source": [
    "worklogdf"
   ]
  },
  {
   "cell_type": "code",
   "execution_count": 16,
   "id": "3bcd9572",
   "metadata": {},
   "outputs": [],
   "source": [
    "exportdf = worklogdf.groupby(['EMAIL','EVENTDATE'])['PVIDS'].count()\n"
   ]
  },
  {
   "cell_type": "code",
   "execution_count": 18,
   "id": "9b7e634e",
   "metadata": {},
   "outputs": [],
   "source": [
    "exportdf = exportdf.to_frame()"
   ]
  },
  {
   "cell_type": "code",
   "execution_count": 20,
   "id": "4273df47",
   "metadata": {},
   "outputs": [],
   "source": [
    "exportdf.to_csv('descriptionsperqa.csv')"
   ]
  },
  {
   "cell_type": "code",
   "execution_count": 4,
   "id": "5d1ecebd",
   "metadata": {},
   "outputs": [],
   "source": [
    "#Create QA or Teleworker classification column, convert timespent to minutes\n",
    "worklogdf['LEVEL'] = np.where(worklogdf['EMAIL'].str.contains(\"contractors\"), 'QA', np.where(worklogdf['EMAIL'].str.contains(\"telework\"), 'TW', 'ScaleHQ'))\n",
    "#worklogdf"
   ]
  },
  {
   "cell_type": "code",
   "execution_count": 5,
   "id": "7cfed472",
   "metadata": {},
   "outputs": [],
   "source": [
    "#Summarize reports\n",
    "qacount = worklogdf.groupby(['EVENTDATE','LEVEL'])['EMAIL'].nunique()\n",
    "#qacount"
   ]
  },
  {
   "cell_type": "code",
   "execution_count": 6,
   "id": "288a092d",
   "metadata": {},
   "outputs": [],
   "source": [
    "descount = worklogdf.groupby(['LEVEL'])['EVENTDATE'].count()\n",
    "descount = descount.to_frame()\n",
    "descount.columns = ['Descriptions']"
   ]
  },
  {
   "cell_type": "code",
   "execution_count": 7,
   "id": "c6a939ee",
   "metadata": {},
   "outputs": [],
   "source": [
    "#get descriptions count\n",
    "tot = descount['Descriptions'].sum()\n",
    "#tot"
   ]
  },
  {
   "cell_type": "code",
   "execution_count": 8,
   "id": "a17c2d9f",
   "metadata": {},
   "outputs": [],
   "source": [
    "#get sites count\n",
    "tmpct=[]\n",
    "sitecount=0\n",
    "for i in range(0, len(worklogdf['SITE'])):\n",
    "    if worklogdf['SITE'][i] not in tmpct: \n",
    "        tmpct.append(worklogdf['SITE'][i])\n",
    "        sitecount += 1\n",
    "#print(sitecount)"
   ]
  },
  {
   "cell_type": "code",
   "execution_count": 9,
   "id": "aa36b3ba",
   "metadata": {},
   "outputs": [],
   "source": [
    "#get description count by QA\n",
    "qadescount = worklogdf.groupby(['EMAIL','LEVEL'])['EVENTDATE'].count()\n",
    "qadescount = qadescount.to_frame()\n",
    "qadescount = qadescount.sort_values(['EVENTDATE'], ascending=False)\n",
    "#qadescount\n",
    "#qadescount = qadescount.sort_values(by='Descriptions', ascending=False)\n",
    "#qdlite = qadescount.drop(['EVENTDATE'], axis=1)"
   ]
  },
  {
   "cell_type": "code",
   "execution_count": 10,
   "id": "8d79fe10",
   "metadata": {},
   "outputs": [
    {
     "name": "stdout",
     "output_type": "stream",
     "text": [
      "Average descriptions per site = 1769.7379310344827\n"
     ]
    }
   ],
   "source": [
    "#Assumption 1 - get average descriptions per site\n",
    "sitedesdf = worklogdf.groupby(['SITE'])['EVENTDATE'].count()\n",
    "sddf = sitedesdf.to_frame()\n",
    "\n",
    "#Remove outlier low description count sites\n",
    "sddf.drop(sddf[sddf['EVENTDATE'] < 50].index, inplace = True)\n",
    "\n",
    "#Calculate average of column\n",
    "avg_dcount = sddf['EVENTDATE'].mean()\n",
    "print(\"Average descriptions per site =\",avg_dcount)"
   ]
  },
  {
   "cell_type": "code",
   "execution_count": 11,
   "id": "f09886d4",
   "metadata": {},
   "outputs": [],
   "source": [
    "#Assumption 2 - Descriptions per hour\n",
    "qadesdf = worklogdf.groupby(['EVENTDATE','EMAIL','LEVEL'])['EVENTDATE'].count()\n",
    "qadf = qadesdf.to_frame()\n",
    "qadf.columns = ['DCOUNT']"
   ]
  },
  {
   "cell_type": "code",
   "execution_count": 12,
   "id": "c9315f5d",
   "metadata": {},
   "outputs": [],
   "source": [
    "#Remove outlier low work instances\n",
    "qadf.drop(qadf[qadf['DCOUNT'] < 200].index, inplace = True)\n",
    "taskerdf = qadf.groupby(['EMAIL','LEVEL'])['DCOUNT'].mean()\n",
    "tdf = taskerdf.to_frame()"
   ]
  },
  {
   "cell_type": "code",
   "execution_count": 13,
   "id": "be217f90",
   "metadata": {},
   "outputs": [
    {
     "name": "stdout",
     "output_type": "stream",
     "text": [
      "Average descriptions per hour by worker type\n"
     ]
    },
    {
     "data": {
      "text/html": [
       "<div>\n",
       "<style scoped>\n",
       "    .dataframe tbody tr th:only-of-type {\n",
       "        vertical-align: middle;\n",
       "    }\n",
       "\n",
       "    .dataframe tbody tr th {\n",
       "        vertical-align: top;\n",
       "    }\n",
       "\n",
       "    .dataframe thead th {\n",
       "        text-align: right;\n",
       "    }\n",
       "</style>\n",
       "<table border=\"1\" class=\"dataframe\">\n",
       "  <thead>\n",
       "    <tr style=\"text-align: right;\">\n",
       "      <th></th>\n",
       "      <th>DCOUNT</th>\n",
       "    </tr>\n",
       "    <tr>\n",
       "      <th>LEVEL</th>\n",
       "      <th></th>\n",
       "    </tr>\n",
       "  </thead>\n",
       "  <tbody>\n",
       "    <tr>\n",
       "      <th>QA</th>\n",
       "      <td>440.21</td>\n",
       "    </tr>\n",
       "    <tr>\n",
       "      <th>ScaleHQ</th>\n",
       "      <td>181.39</td>\n",
       "    </tr>\n",
       "  </tbody>\n",
       "</table>\n",
       "</div>"
      ],
      "text/plain": [
       "         DCOUNT\n",
       "LEVEL          \n",
       "QA       440.21\n",
       "ScaleHQ  181.39"
      ]
     },
     "execution_count": 13,
     "metadata": {},
     "output_type": "execute_result"
    }
   ],
   "source": [
    "#Remove temp workers - agents and ScaleHQ\n",
    "#tdf.drop(tdf[tdf['DCOUNT'] < 800].index, inplace = True)\n",
    "print(\"Average descriptions per hour by worker type\")\n",
    "fdf = tdf.groupby(['LEVEL'])['DCOUNT'].mean()\n",
    "adf = fdf.to_frame()\n",
    "adf['DCOUNT'] = adf['DCOUNT'].div(8).round(2)\n",
    "adf"
   ]
  },
  {
   "cell_type": "code",
   "execution_count": null,
   "id": "e4a00195",
   "metadata": {},
   "outputs": [],
   "source": []
  }
 ],
 "metadata": {
  "kernelspec": {
   "display_name": "Python 3 (ipykernel)",
   "language": "python",
   "name": "python3"
  },
  "language_info": {
   "codemirror_mode": {
    "name": "ipython",
    "version": 3
   },
   "file_extension": ".py",
   "mimetype": "text/x-python",
   "name": "python",
   "nbconvert_exporter": "python",
   "pygments_lexer": "ipython3",
   "version": "3.9.12"
  }
 },
 "nbformat": 4,
 "nbformat_minor": 5
}
