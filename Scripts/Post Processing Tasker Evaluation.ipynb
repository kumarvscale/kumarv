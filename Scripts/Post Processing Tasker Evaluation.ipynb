{
 "cells": [
  {
   "cell_type": "code",
   "execution_count": 1,
   "id": "f60795cc",
   "metadata": {},
   "outputs": [],
   "source": [
    "import pandas as pd\n",
    "import numpy as np\n",
    "import snowflake.connector\n",
    "from collections import defaultdict\n",
    "import json\n",
    "import re\n",
    "import requests\n",
    "import sys\n",
    "import random\n",
    "import requests\n",
    "import tabulate\n",
    "from datetime import datetime\n",
    "import schedule\n",
    "import time"
   ]
  },
  {
   "cell_type": "code",
   "execution_count": 2,
   "id": "66bc90fc",
   "metadata": {},
   "outputs": [
    {
     "name": "stdout",
     "output_type": "stream",
     "text": [
      "Initiating login request with your identity provider. A browser window should have opened for you to complete the login. If you can't see it, check existing browser windows, or your OS settings. Press CTRL+C to abort and try again...\n"
     ]
    }
   ],
   "source": [
    "#login to snowflake db\n",
    "con = snowflake.connector.connect(user='vishal.kumar@scale.com',\n",
    "                                 account='pxa65918',\n",
    "                                 authenticator='externalbrowser',\n",
    "                                 warehouse='COMPUTE_WH',\n",
    "                                 database='SCALE_CRAWLER',\n",
    "                                 role='GENERAL_RO')\n",
    "\n",
    "cs = con.cursor()"
   ]
  },
  {
   "cell_type": "code",
   "execution_count": 10,
   "id": "39d447c7",
   "metadata": {},
   "outputs": [],
   "source": [
    "#Get work logs\n",
    "sql = f'''\n",
    "with fb as (\n",
    "  SELECT\n",
    "    qe._id as ID,\n",
    "    qe.user_email :: string uemail,\n",
    "    qe.metadata: action action,\n",
    "    qe.metadata: auditField auditField,\n",
    "    qe.metadata: domain domain,\n",
    "    qe.metadata: eventCreatedAt eventCreatedAt,\n",
    "    qe.metadata: fieldAdditions fieldAdditions,\n",
    "    qe.metadata: fieldBefore fieldBefore,\n",
    "    qe.metadata: fieldCurrent fieldCurrent,\n",
    "    qe.metadata: fieldLength fieldLength,\n",
    "    qe.metadata: ruleCreated ruleCreated,\n",
    "    qe.metadata: fieldRemovals fieldRemovals,\n",
    "    qe.metadata: flagsAvailable flagsAvailable,\n",
    "    qe.metadata: hintsAvailable hintsAvailable,\n",
    "--  qe.metadata: pvids pvids,\n",
    "    qe.metadata: totalMillisElapsed totalMillisElapsed,\n",
    "    qe.event_type,\n",
    "    qe.event_at,\n",
    "    cast (qe.event_at as DATE) AS EventDate,\n",
    "    qe.metadata: auditLevel :: string auditLevel,\n",
    "    pv.value:: string as pvid\n",
    "  FROM\n",
    "    PUBLIC.QAEVENTS qe,\n",
    "    lateral flatten(input => qe.metadata: pvids) pv\n",
    "--    lateral flatten(input => pv.value, outer => true) pvd\n",
    "  WHERE\n",
    "    CAST(qe.event_at AS DATE) > '2022-09-20'\n",
    "    AND qe.metadata :domain is not NULL\n",
    "    AND qe.user_email :: string like '%vishal%'\n",
    "   -- AND qe.event_type = 'submit_description_speed_audit' --  AND qe.metadata: auditLevel !='QA'\n",
    "    -- AND qe.user_email LIKE '%tele%'\n",
    ")\n",
    "select\n",
    "  fb.ID,\n",
    "  fb.uemail,\n",
    "  fb.action,\n",
    "  fb.auditField,\n",
    "  fb.domain,\n",
    "  fb.eventCreatedAt,\n",
    "  fb.fieldAdditions,\n",
    "  fb.fieldBefore,\n",
    "  fb.fieldCurrent,\n",
    "  fb.fieldLength,\n",
    "  fb.fieldRemovals,\n",
    "  fb.ruleCreated,\n",
    "  fb.flagsAvailable,\n",
    "  fb.hintsAvailable,\n",
    "  fb.pvid,\n",
    "  fb.totalMillisElapsed,\n",
    "  fb.event_type,\n",
    "  fb.event_at,\n",
    "  fb.EventDate\n",
    "from\n",
    "  fb\n",
    "where \n",
    "fb.EventDate > '2022-09-13'\n",
    "AND fb.domain like '%albionfit%'\n",
    "'''\n",
    "cs.execute(sql)\n",
    "tasklogdf = cs.fetch_pandas_all()"
   ]
  },
  {
   "cell_type": "code",
   "execution_count": 11,
   "id": "64de8560",
   "metadata": {},
   "outputs": [],
   "source": [
    "#tasklogdf.to_csv('tasks.csv')\n",
    "#tasklogdf.loc[tasklogdf['PVID'] == 'zonenaturals.com!29037423394896']\n",
    "tasklogdf.to_csv('dump3.csv')"
   ]
  },
  {
   "cell_type": "code",
   "execution_count": 4,
   "id": "59ce4924",
   "metadata": {},
   "outputs": [
    {
     "data": {
      "text/plain": [
       "DOMAIN\n",
       "\"albionfit.com\"    5957\n",
       "Name: FIELDREMOVALS, dtype: int64"
      ]
     },
     "execution_count": 4,
     "metadata": {},
     "output_type": "execute_result"
    }
   ],
   "source": [
    "tasklogdf.groupby(['DOMAIN'])['FIELDREMOVALS'].count()"
   ]
  },
  {
   "cell_type": "code",
   "execution_count": 5,
   "id": "632066fa",
   "metadata": {},
   "outputs": [],
   "source": [
    "#tasklogdf.astype({'FIELDLENGTH': 'int32'}).dtypes\n",
    "tasklogdf['FIELDLENGTH'] = pd.to_numeric(tasklogdf['FIELDLENGTH'])"
   ]
  },
  {
   "cell_type": "code",
   "execution_count": 6,
   "id": "781cd2b4",
   "metadata": {},
   "outputs": [
    {
     "ename": "TypeError",
     "evalue": "unhashable type: 'list'",
     "output_type": "error",
     "traceback": [
      "\u001b[0;31m---------------------------------------------------------------------------\u001b[0m",
      "\u001b[0;31mTypeError\u001b[0m                                 Traceback (most recent call last)",
      "Cell \u001b[0;32mIn [6], line 1\u001b[0m\n\u001b[0;32m----> 1\u001b[0m domdf \u001b[38;5;241m=\u001b[39m \u001b[43mtasklogdf\u001b[49m\u001b[38;5;241;43m.\u001b[39;49m\u001b[43mgroupby\u001b[49m\u001b[43m(\u001b[49m\u001b[43m[\u001b[49m\u001b[38;5;124;43m'\u001b[39;49m\u001b[38;5;124;43mDOMAIN\u001b[39;49m\u001b[38;5;124;43m'\u001b[39;49m\u001b[43m]\u001b[49m\u001b[43m,\u001b[49m\u001b[43m[\u001b[49m\u001b[38;5;124;43m'\u001b[39;49m\u001b[38;5;124;43mFIELDBEFORE\u001b[39;49m\u001b[38;5;124;43m'\u001b[39;49m\u001b[43m]\u001b[49m\u001b[43m,\u001b[49m\u001b[43m[\u001b[49m\u001b[38;5;124;43m'\u001b[39;49m\u001b[38;5;124;43mFIELDREMOVALS\u001b[39;49m\u001b[38;5;124;43m'\u001b[39;49m\u001b[43m]\u001b[49m\u001b[43m,\u001b[49m\u001b[43m[\u001b[49m\u001b[38;5;124;43m'\u001b[39;49m\u001b[38;5;124;43mUEMAIL\u001b[39;49m\u001b[38;5;124;43m'\u001b[39;49m\u001b[43m]\u001b[49m\u001b[43m)\u001b[49m[\u001b[38;5;124m'\u001b[39m\u001b[38;5;124mID\u001b[39m\u001b[38;5;124m'\u001b[39m]\u001b[38;5;241m.\u001b[39mcount()\n",
      "File \u001b[0;32m/opt/homebrew/Cellar/jupyterlab/3.4.7/libexec/lib/python3.10/site-packages/pandas/core/frame.py:7716\u001b[0m, in \u001b[0;36mDataFrame.groupby\u001b[0;34m(self, by, axis, level, as_index, sort, group_keys, squeeze, observed, dropna)\u001b[0m\n\u001b[1;32m   7714\u001b[0m \u001b[38;5;28;01mif\u001b[39;00m level \u001b[38;5;129;01mis\u001b[39;00m \u001b[38;5;28;01mNone\u001b[39;00m \u001b[38;5;129;01mand\u001b[39;00m by \u001b[38;5;129;01mis\u001b[39;00m \u001b[38;5;28;01mNone\u001b[39;00m:\n\u001b[1;32m   7715\u001b[0m     \u001b[38;5;28;01mraise\u001b[39;00m \u001b[38;5;167;01mTypeError\u001b[39;00m(\u001b[38;5;124m\"\u001b[39m\u001b[38;5;124mYou have to supply one of \u001b[39m\u001b[38;5;124m'\u001b[39m\u001b[38;5;124mby\u001b[39m\u001b[38;5;124m'\u001b[39m\u001b[38;5;124m and \u001b[39m\u001b[38;5;124m'\u001b[39m\u001b[38;5;124mlevel\u001b[39m\u001b[38;5;124m'\u001b[39m\u001b[38;5;124m\"\u001b[39m)\n\u001b[0;32m-> 7716\u001b[0m axis \u001b[38;5;241m=\u001b[39m \u001b[38;5;28;43mself\u001b[39;49m\u001b[38;5;241;43m.\u001b[39;49m\u001b[43m_get_axis_number\u001b[49m\u001b[43m(\u001b[49m\u001b[43maxis\u001b[49m\u001b[43m)\u001b[49m\n\u001b[1;32m   7718\u001b[0m \u001b[38;5;66;03m# https://github.com/python/mypy/issues/7642\u001b[39;00m\n\u001b[1;32m   7719\u001b[0m \u001b[38;5;66;03m# error: Argument \"squeeze\" to \"DataFrameGroupBy\" has incompatible type\u001b[39;00m\n\u001b[1;32m   7720\u001b[0m \u001b[38;5;66;03m# \"Union[bool, NoDefault]\"; expected \"bool\"\u001b[39;00m\n\u001b[1;32m   7721\u001b[0m \u001b[38;5;28;01mreturn\u001b[39;00m DataFrameGroupBy(\n\u001b[1;32m   7722\u001b[0m     obj\u001b[38;5;241m=\u001b[39m\u001b[38;5;28mself\u001b[39m,\n\u001b[1;32m   7723\u001b[0m     keys\u001b[38;5;241m=\u001b[39mby,\n\u001b[0;32m   (...)\u001b[0m\n\u001b[1;32m   7731\u001b[0m     dropna\u001b[38;5;241m=\u001b[39mdropna,\n\u001b[1;32m   7732\u001b[0m )\n",
      "File \u001b[0;32m/opt/homebrew/Cellar/jupyterlab/3.4.7/libexec/lib/python3.10/site-packages/pandas/core/generic.py:550\u001b[0m, in \u001b[0;36mNDFrame._get_axis_number\u001b[0;34m(cls, axis)\u001b[0m\n\u001b[1;32m    546\u001b[0m \u001b[38;5;129m@final\u001b[39m\n\u001b[1;32m    547\u001b[0m \u001b[38;5;129m@classmethod\u001b[39m\n\u001b[1;32m    548\u001b[0m \u001b[38;5;28;01mdef\u001b[39;00m \u001b[38;5;21m_get_axis_number\u001b[39m(\u001b[38;5;28mcls\u001b[39m, axis: Axis) \u001b[38;5;241m-\u001b[39m\u001b[38;5;241m>\u001b[39m \u001b[38;5;28mint\u001b[39m:\n\u001b[1;32m    549\u001b[0m     \u001b[38;5;28;01mtry\u001b[39;00m:\n\u001b[0;32m--> 550\u001b[0m         \u001b[38;5;28;01mreturn\u001b[39;00m \u001b[38;5;28;43mcls\u001b[39;49m\u001b[38;5;241;43m.\u001b[39;49m\u001b[43m_AXIS_TO_AXIS_NUMBER\u001b[49m\u001b[43m[\u001b[49m\u001b[43maxis\u001b[49m\u001b[43m]\u001b[49m\n\u001b[1;32m    551\u001b[0m     \u001b[38;5;28;01mexcept\u001b[39;00m \u001b[38;5;167;01mKeyError\u001b[39;00m:\n\u001b[1;32m    552\u001b[0m         \u001b[38;5;28;01mraise\u001b[39;00m \u001b[38;5;167;01mValueError\u001b[39;00m(\u001b[38;5;124mf\u001b[39m\u001b[38;5;124m\"\u001b[39m\u001b[38;5;124mNo axis named \u001b[39m\u001b[38;5;132;01m{\u001b[39;00maxis\u001b[38;5;132;01m}\u001b[39;00m\u001b[38;5;124m for object type \u001b[39m\u001b[38;5;132;01m{\u001b[39;00m\u001b[38;5;28mcls\u001b[39m\u001b[38;5;241m.\u001b[39m\u001b[38;5;18m__name__\u001b[39m\u001b[38;5;132;01m}\u001b[39;00m\u001b[38;5;124m\"\u001b[39m)\n",
      "\u001b[0;31mTypeError\u001b[0m: unhashable type: 'list'"
     ]
    }
   ],
   "source": [
    "domdf = tasklogdf.groupby(['DOMAIN'],['FIELDBEFORE'],['FIELDREMOVALS'],['UEMAIL'])['ID'].count()\n",
    "#domdf = pd.DataFrame([domdf])"
   ]
  },
  {
   "cell_type": "code",
   "execution_count": null,
   "id": "233fe02d",
   "metadata": {},
   "outputs": [],
   "source": [
    "domdf"
   ]
  },
  {
   "cell_type": "code",
   "execution_count": null,
   "id": "148bff1c",
   "metadata": {},
   "outputs": [],
   "source": [
    "#taskdf1 = tasklogdf.groupby(['PVID'])['ID'].nunique()\n",
    "#taskdf = tasklogdf.groupby(['PVID'])['FIELDCOUNT'].count()\n",
    "#taskdf = tasklogdf.groupby(['PVID'])['FIELDLENGTH'].agg(lambda x: pd.to_numeric(x, errors='coerce').sum())\n",
    "#taskdf = tasklogdf.groupby(['PVID'])['ID'].count()\n",
    "#taskdf = pd.pivot_table(tasklogdf, index=['PVID'],values=['ID','FIELDLENGTH'],aggfunc=np.sum)\n",
    "taskdf = pd.pivot_table(\n",
    "   tasklogdf,\n",
    "   index=['DOMAIN'],\n",
    "   aggfunc={'FIELDLENGTH': np.sum, 'ID': len}\n",
    ").rename(columns={'ID': 'COUNT'})"
   ]
  },
  {
   "cell_type": "code",
   "execution_count": null,
   "id": "5540a9a1",
   "metadata": {},
   "outputs": [],
   "source": [
    "taskdf['CHANGELENGTH'] = taskdf['FIELDLENGTH']/taskdf['COUNT']"
   ]
  },
  {
   "cell_type": "code",
   "execution_count": null,
   "id": "3f7bb7ae",
   "metadata": {},
   "outputs": [],
   "source": [
    "#taskdf['CHANGED'] = (taskdf['CHANGELENGTH']).is_integer()"
   ]
  },
  {
   "cell_type": "code",
   "execution_count": null,
   "id": "4f1d9a1c",
   "metadata": {},
   "outputs": [],
   "source": [
    "#tasklogdf['AUDITLEVEL'].unique()"
   ]
  },
  {
   "cell_type": "code",
   "execution_count": null,
   "id": "66ca8c54",
   "metadata": {},
   "outputs": [],
   "source": [
    "taskdf['FRACTION'] = taskdf['CHANGELENGTH'].astype(str).str.split('.').str[1].astype(int)"
   ]
  },
  {
   "cell_type": "code",
   "execution_count": null,
   "id": "f3762b7a",
   "metadata": {},
   "outputs": [],
   "source": [
    "taskdf"
   ]
  },
  {
   "cell_type": "code",
   "execution_count": null,
   "id": "94147eb6",
   "metadata": {},
   "outputs": [],
   "source": [
    "changedpv = taskdf.loc[taskdf['FRACTION'] != 0]"
   ]
  },
  {
   "cell_type": "code",
   "execution_count": null,
   "id": "4fb90432",
   "metadata": {},
   "outputs": [],
   "source": [
    "changedpv"
   ]
  },
  {
   "cell_type": "code",
   "execution_count": null,
   "id": "8efde64b",
   "metadata": {},
   "outputs": [],
   "source": [
    "findf = changedpv.merge(tasklogdf, left_on='PVID', right_on='PVID', how='inner', indicator=True)"
   ]
  },
  {
   "cell_type": "code",
   "execution_count": null,
   "id": "ba33a7b5",
   "metadata": {},
   "outputs": [],
   "source": [
    "findf"
   ]
  },
  {
   "cell_type": "code",
   "execution_count": null,
   "id": "fc4cd361",
   "metadata": {},
   "outputs": [],
   "source": [
    "tasklogdf.loc[tasklogdf['PVID'] == 'albionfit.com!15385906118759']"
   ]
  },
  {
   "cell_type": "code",
   "execution_count": null,
   "id": "b18e00e9",
   "metadata": {},
   "outputs": [],
   "source": [
    "findf['LEVEL'] = np.where(findf['UEMAIL'].str.contains(\"contractors\"), 'QA', np.where(findf['UEMAIL'].str.contains(\"telework\"), 'TW', 'ScaleHQ'))"
   ]
  },
  {
   "cell_type": "code",
   "execution_count": null,
   "id": "e8e9e1c5",
   "metadata": {},
   "outputs": [],
   "source": [
    "findf.loc[findf['LEVEL'] == 'TW']"
   ]
  },
  {
   "cell_type": "code",
   "execution_count": null,
   "id": "5264e053",
   "metadata": {},
   "outputs": [],
   "source": [
    "findf.to_csv('auditsdesc2.csv')"
   ]
  },
  {
   "cell_type": "code",
   "execution_count": null,
   "id": "1001763f",
   "metadata": {},
   "outputs": [],
   "source": [
    "findf = findf.drop('AUDITFIELD', axis=1)"
   ]
  },
  {
   "cell_type": "code",
   "execution_count": null,
   "id": "a2984ac8",
   "metadata": {},
   "outputs": [],
   "source": [
    "findf"
   ]
  },
  {
   "cell_type": "code",
   "execution_count": null,
   "id": "0bb82587",
   "metadata": {},
   "outputs": [],
   "source": []
  }
 ],
 "metadata": {
  "kernelspec": {
   "display_name": "Python 3 (ipykernel)",
   "language": "python",
   "name": "python3"
  },
  "language_info": {
   "codemirror_mode": {
    "name": "ipython",
    "version": 3
   },
   "file_extension": ".py",
   "mimetype": "text/x-python",
   "name": "python",
   "nbconvert_exporter": "python",
   "pygments_lexer": "ipython3",
   "version": "3.10.6"
  }
 },
 "nbformat": 4,
 "nbformat_minor": 5
}
