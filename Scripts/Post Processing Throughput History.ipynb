{
 "cells": [
  {
   "cell_type": "code",
   "execution_count": 1,
   "id": "8205f833",
   "metadata": {},
   "outputs": [],
   "source": [
    "import pandas as pd\n",
    "import numpy as np\n",
    "import snowflake.connector\n",
    "from collections import defaultdict\n",
    "import json\n",
    "import re\n",
    "import requests\n",
    "import sys\n",
    "import random\n",
    "import requests\n",
    "import tabulate\n",
    "from datetime import datetime\n",
    "import schedule\n",
    "import time"
   ]
  },
  {
   "cell_type": "code",
   "execution_count": 2,
   "id": "d3b5b64c",
   "metadata": {},
   "outputs": [
    {
     "name": "stdout",
     "output_type": "stream",
     "text": [
      "Initiating login request with your identity provider. A browser window should have opened for you to complete the login. If you can't see it, check existing browser windows, or your OS settings. Press CTRL+C to abort and try again...\n"
     ]
    }
   ],
   "source": [
    "#login to snowflake db\n",
    "con = snowflake.connector.connect(user='vishal.kumar@scale.com',\n",
    "                                 account='pxa65918',\n",
    "                                 authenticator='externalbrowser',\n",
    "                                 warehouse='COMPUTE_WH',\n",
    "                                 database='SCALE_CRAWLER',\n",
    "                                 role='GENERAL_RO')\n",
    "cs = con.cursor()"
   ]
  },
  {
   "cell_type": "code",
   "execution_count": 3,
   "id": "d337fe34",
   "metadata": {},
   "outputs": [],
   "source": [
    "#Get work logs\n",
    "sql = f'''\n",
    "SELECT\n",
    "  PUBLIC.QAEVENTS.user_email :: string EMAIL,\n",
    "  PUBLIC.QAEVENTS.metadata: pvids PVIDS,\n",
    "  (PUBLIC.QAEVENTS.metadata: totalMillisElapsed)/100 TIMESPENTSEC,\n",
    "  --  PUBLIC.QAEVENTS.metadata: fieldBefore BEFORE,\n",
    "  --  PUBLIC.QAEVENTS.metadata: fieldCurrent AFTER,\n",
    "  PUBLIC.QAEVENTS.event_type,\n",
    "  PUBLIC.QAEVENTS.event_at,\n",
    "  cast (PUBLIC.QAEVENTS.event_at as DATE) AS EventDate,\n",
    "  --  PUBLIC.QAEVENTS.metadata: fullStoryEvent :: string,\n",
    "  --  PUBLIC.QAEVENTS.metadata: auditLevel :: string,\n",
    "  --  PUBLIC.QAEVENTS.metadata: hintsAvailable,\n",
    "  PUBLIC.QAEVENTS.metadata: domain SITE\n",
    "FROM\n",
    "  PUBLIC.QAEVENTS\n",
    "WHERE\n",
    "--        CAST(PUBLIC.QAEVENTS.event_at AS DATE) = CURRENT_DATE()\n",
    "      CAST(PUBLIC.QAEVENTS.event_at AS DATE) BETWEEN '2022-11-21' AND '2022-11-28'\n",
    "  AND PUBLIC.QAEVENTS.metadata :domain is not NULL\n",
    "  AND PUBLIC.QAEVENTS.event_type = 'submit_description_speed_audit'\n",
    "'''\n",
    "cs.execute(sql)\n",
    "worklogdf = cs.fetch_pandas_all()\n"
   ]
  },
  {
   "cell_type": "code",
   "execution_count": 4,
   "id": "d7a04cab",
   "metadata": {},
   "outputs": [],
   "source": [
    "#worklogdf.to_csv('foriris.csv')"
   ]
  },
  {
   "cell_type": "code",
   "execution_count": 5,
   "id": "5d1ecebd",
   "metadata": {},
   "outputs": [],
   "source": [
    "#Create QA or Teleworker classification column, convert timespent to minutes\n",
    "worklogdf['LEVEL'] = np.where(worklogdf['EMAIL'].str.contains(\"contractors\"), 'QA', np.where(worklogdf['EMAIL'].str.contains(\"telework\"), 'TW', 'ScaleHQ'))\n",
    "worklogdf['TIMESPENTSEC'] = worklogdf['TIMESPENTSEC'].astype(int)\n",
    "worklogdf['TIMESPENTSEC'] = (worklogdf['TIMESPENTSEC'] / 60)\n",
    "#worklogdf = worklogdf.astype({\"TIMESPENTSEC\": int})\n",
    "#worklogdf"
   ]
  },
  {
   "cell_type": "code",
   "execution_count": 6,
   "id": "7cfed472",
   "metadata": {},
   "outputs": [
    {
     "data": {
      "text/plain": [
       "EVENTDATE   LEVEL  \n",
       "2022-11-21  QA         2\n",
       "            TW         2\n",
       "2022-11-22  QA         6\n",
       "            ScaleHQ    1\n",
       "            TW         2\n",
       "2022-11-23  QA         6\n",
       "            TW         1\n",
       "2022-11-24  QA         5\n",
       "            TW         2\n",
       "2022-11-25  QA         5\n",
       "            TW         1\n",
       "2022-11-28  QA         1\n",
       "Name: EMAIL, dtype: int64"
      ]
     },
     "execution_count": 6,
     "metadata": {},
     "output_type": "execute_result"
    }
   ],
   "source": [
    "#Summarize reports\n",
    "qacount = worklogdf.groupby(['EVENTDATE','LEVEL'])['EMAIL'].nunique()\n",
    "qacount"
   ]
  },
  {
   "cell_type": "code",
   "execution_count": 7,
   "id": "288a092d",
   "metadata": {},
   "outputs": [
    {
     "data": {
      "text/html": [
       "<div>\n",
       "<style scoped>\n",
       "    .dataframe tbody tr th:only-of-type {\n",
       "        vertical-align: middle;\n",
       "    }\n",
       "\n",
       "    .dataframe tbody tr th {\n",
       "        vertical-align: top;\n",
       "    }\n",
       "\n",
       "    .dataframe thead th {\n",
       "        text-align: right;\n",
       "    }\n",
       "</style>\n",
       "<table border=\"1\" class=\"dataframe\">\n",
       "  <thead>\n",
       "    <tr style=\"text-align: right;\">\n",
       "      <th></th>\n",
       "      <th>Descriptions</th>\n",
       "    </tr>\n",
       "    <tr>\n",
       "      <th>LEVEL</th>\n",
       "      <th></th>\n",
       "    </tr>\n",
       "  </thead>\n",
       "  <tbody>\n",
       "    <tr>\n",
       "      <th>QA</th>\n",
       "      <td>8812</td>\n",
       "    </tr>\n",
       "    <tr>\n",
       "      <th>ScaleHQ</th>\n",
       "      <td>16</td>\n",
       "    </tr>\n",
       "    <tr>\n",
       "      <th>TW</th>\n",
       "      <td>8545</td>\n",
       "    </tr>\n",
       "  </tbody>\n",
       "</table>\n",
       "</div>"
      ],
      "text/plain": [
       "         Descriptions\n",
       "LEVEL                \n",
       "QA               8812\n",
       "ScaleHQ            16\n",
       "TW               8545"
      ]
     },
     "execution_count": 7,
     "metadata": {},
     "output_type": "execute_result"
    }
   ],
   "source": [
    "descount = worklogdf.groupby(['LEVEL'])['EVENTDATE'].count()\n",
    "descount = descount.to_frame()\n",
    "descount.columns = ['Descriptions']\n",
    "descount\n",
    "#desccount.sort_values('EVENTDATE','LEVEL', ascending=False)"
   ]
  },
  {
   "cell_type": "code",
   "execution_count": 8,
   "id": "c6a939ee",
   "metadata": {},
   "outputs": [
    {
     "data": {
      "text/plain": [
       "17373"
      ]
     },
     "execution_count": 8,
     "metadata": {},
     "output_type": "execute_result"
    }
   ],
   "source": [
    "#get descriptions count\n",
    "tot = descount['Descriptions'].sum()\n",
    "tot"
   ]
  },
  {
   "cell_type": "code",
   "execution_count": 9,
   "id": "a17c2d9f",
   "metadata": {},
   "outputs": [
    {
     "name": "stdout",
     "output_type": "stream",
     "text": [
      "48\n"
     ]
    }
   ],
   "source": [
    "#get sites count\n",
    "tmpct=[]\n",
    "sitecount=0\n",
    "for i in range(0, len(worklogdf['SITE'])):\n",
    "    if worklogdf['SITE'][i] not in tmpct: \n",
    "        tmpct.append(worklogdf['SITE'][i])\n",
    "        sitecount += 1\n",
    "print(sitecount)"
   ]
  },
  {
   "cell_type": "code",
   "execution_count": 10,
   "id": "ec94899a",
   "metadata": {},
   "outputs": [],
   "source": [
    "#get sites list\n",
    "sitedf = worklogdf.groupby(['SITE','EVENTDATE'])['PVIDS'].count()\n",
    "sitedf.to_frame()\n",
    "sitedf.to_csv('pp_site_list.csv')"
   ]
  },
  {
   "cell_type": "code",
   "execution_count": null,
   "id": "cf73d104",
   "metadata": {},
   "outputs": [],
   "source": []
  },
  {
   "cell_type": "code",
   "execution_count": 11,
   "id": "aa36b3ba",
   "metadata": {},
   "outputs": [
    {
     "data": {
      "text/html": [
       "<div>\n",
       "<style scoped>\n",
       "    .dataframe tbody tr th:only-of-type {\n",
       "        vertical-align: middle;\n",
       "    }\n",
       "\n",
       "    .dataframe tbody tr th {\n",
       "        vertical-align: top;\n",
       "    }\n",
       "\n",
       "    .dataframe thead th {\n",
       "        text-align: right;\n",
       "    }\n",
       "</style>\n",
       "<table border=\"1\" class=\"dataframe\">\n",
       "  <thead>\n",
       "    <tr style=\"text-align: right;\">\n",
       "      <th></th>\n",
       "      <th></th>\n",
       "      <th>EVENTDATE</th>\n",
       "    </tr>\n",
       "    <tr>\n",
       "      <th>EMAIL</th>\n",
       "      <th>LEVEL</th>\n",
       "      <th></th>\n",
       "    </tr>\n",
       "  </thead>\n",
       "  <tbody>\n",
       "    <tr>\n",
       "      <th>ana.esparza@contractors.scale.com</th>\n",
       "      <th>QA</th>\n",
       "      <td>23</td>\n",
       "    </tr>\n",
       "    <tr>\n",
       "      <th>caterina.bourg@contractors.scale.com</th>\n",
       "      <th>QA</th>\n",
       "      <td>1722</td>\n",
       "    </tr>\n",
       "    <tr>\n",
       "      <th>dana.celeste@contractors.scale.com</th>\n",
       "      <th>QA</th>\n",
       "      <td>51</td>\n",
       "    </tr>\n",
       "    <tr>\n",
       "      <th>erwin.tudla@teleworkph-mails.com</th>\n",
       "      <th>TW</th>\n",
       "      <td>4580</td>\n",
       "    </tr>\n",
       "    <tr>\n",
       "      <th>german.toledo@contractors.scale.com</th>\n",
       "      <th>QA</th>\n",
       "      <td>2736</td>\n",
       "    </tr>\n",
       "    <tr>\n",
       "      <th>jesus.olvera@contractors.scale.com</th>\n",
       "      <th>QA</th>\n",
       "      <td>3</td>\n",
       "    </tr>\n",
       "    <tr>\n",
       "      <th>joyce.palma@contractors.scale.com</th>\n",
       "      <th>QA</th>\n",
       "      <td>587</td>\n",
       "    </tr>\n",
       "    <tr>\n",
       "      <th>karla.nunez@contractors.scale.com</th>\n",
       "      <th>QA</th>\n",
       "      <td>2759</td>\n",
       "    </tr>\n",
       "    <tr>\n",
       "      <th>kaushik.mahorker@scale.com</th>\n",
       "      <th>ScaleHQ</th>\n",
       "      <td>16</td>\n",
       "    </tr>\n",
       "    <tr>\n",
       "      <th>lucia.ledesma@contractors.scale.com</th>\n",
       "      <th>QA</th>\n",
       "      <td>88</td>\n",
       "    </tr>\n",
       "    <tr>\n",
       "      <th>reyman.cajayon@teleworkph-mails.com</th>\n",
       "      <th>TW</th>\n",
       "      <td>3965</td>\n",
       "    </tr>\n",
       "    <tr>\n",
       "      <th>samantha.couoh@contractors.scale.com</th>\n",
       "      <th>QA</th>\n",
       "      <td>843</td>\n",
       "    </tr>\n",
       "  </tbody>\n",
       "</table>\n",
       "</div>"
      ],
      "text/plain": [
       "                                              EVENTDATE\n",
       "EMAIL                                LEVEL             \n",
       "ana.esparza@contractors.scale.com    QA              23\n",
       "caterina.bourg@contractors.scale.com QA            1722\n",
       "dana.celeste@contractors.scale.com   QA              51\n",
       "erwin.tudla@teleworkph-mails.com     TW            4580\n",
       "german.toledo@contractors.scale.com  QA            2736\n",
       "jesus.olvera@contractors.scale.com   QA               3\n",
       "joyce.palma@contractors.scale.com    QA             587\n",
       "karla.nunez@contractors.scale.com    QA            2759\n",
       "kaushik.mahorker@scale.com           ScaleHQ         16\n",
       "lucia.ledesma@contractors.scale.com  QA              88\n",
       "reyman.cajayon@teleworkph-mails.com  TW            3965\n",
       "samantha.couoh@contractors.scale.com QA             843"
      ]
     },
     "execution_count": 11,
     "metadata": {},
     "output_type": "execute_result"
    }
   ],
   "source": [
    "#get description count by QA\n",
    "qadescount = worklogdf.groupby(['EMAIL','LEVEL'])['EVENTDATE'].count()\n",
    "qadescount = qadescount.to_frame()\n",
    "qadescount\n",
    "#qadescount = qadescount.sort_values(by='Descriptions', ascending=False)\n",
    "#qdlite = qadescount.drop(['EVENTDATE'], axis=1)"
   ]
  },
  {
   "cell_type": "code",
   "execution_count": null,
   "id": "8d79fe10",
   "metadata": {},
   "outputs": [],
   "source": [
    "#get time spent by QA\n",
    "qatime = worklogdf.groupby(['EMAIL','EVENTDATE','LEVEL'])['TIMESPENTSEC'].sum()\n",
    "qatime"
   ]
  },
  {
   "cell_type": "code",
   "execution_count": null,
   "id": "6137b13c",
   "metadata": {},
   "outputs": [],
   "source": []
  }
 ],
 "metadata": {
  "kernelspec": {
   "display_name": "Python 3 (ipykernel)",
   "language": "python",
   "name": "python3"
  },
  "language_info": {
   "codemirror_mode": {
    "name": "ipython",
    "version": 3
   },
   "file_extension": ".py",
   "mimetype": "text/x-python",
   "name": "python",
   "nbconvert_exporter": "python",
   "pygments_lexer": "ipython3",
   "version": "3.9.12"
  }
 },
 "nbformat": 4,
 "nbformat_minor": 5
}
