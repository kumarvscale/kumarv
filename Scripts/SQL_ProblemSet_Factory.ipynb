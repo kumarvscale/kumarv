{
 "cells": [
  {
   "cell_type": "code",
   "execution_count": 119,
   "metadata": {},
   "outputs": [
    {
     "name": "stdout",
     "output_type": "stream",
     "text": [
      "Initiating login request with your identity provider. A browser window should have opened for you to complete the login. If you can't see it, check existing browser windows, or your OS settings. Press CTRL+C to abort and try again...\n"
     ]
    }
   ],
   "source": [
    "#import libraries\n",
    "import pandas as pd\n",
    "import snowflake.connector\n",
    "import numpy as np\n",
    "import openai\n",
    "import os\n",
    "import json\n",
    "\n",
    "# Read openai api key from file apikey.txt\n",
    "api_key_file = 'apikey.txt'\n",
    "if os.path.isfile(api_key_file):\n",
    "    with open(api_key_file) as f:\n",
    "        openai.api_key = f.readline()\n",
    "else:\n",
    "    print(f\"Error: {api_key_file} not found.\")\n",
    "\n",
    "OPENAI_API_KEY = openai.api_key\n",
    "content = \"\"\n",
    "\n",
    "#login to snowflake db\n",
    "con = snowflake.connector.connect(user='vishal.kumar@scale.com',\n",
    "                                 account='pxa65918',\n",
    "                                 authenticator='externalbrowser',\n",
    "                                 warehouse='BOOTCAMP_WH',\n",
    "                                 database='SCALE_PLAYPEN',\n",
    "                                 role='SNOWFLAKE_USERS')\n",
    "cs = con.cursor()\n"
   ]
  },
  {
   "cell_type": "code",
   "execution_count": 120,
   "metadata": {},
   "outputs": [],
   "source": [
    "#Get table names from the schema\n",
    "sql = f'''\n",
    "SHOW TABLES IN SCALE_PLAYPEN.GOLDFINCH_REPLICA;\n",
    "'''\n",
    "cs.execute(sql)\n",
    "rows = cs.fetchall()\n",
    "column_names = [desc[0] for desc in cs.description]\n",
    "tdf = pd.DataFrame(rows, columns=column_names)\n",
    "\n",
    "#copy table names to a list\n",
    "table_names = []\n",
    "for i in tdf['name']:\n",
    "    table_names.append(i)\n"
   ]
  },
  {
   "cell_type": "code",
   "execution_count": 126,
   "metadata": {},
   "outputs": [],
   "source": [
    "question_easy = \"You are a top finance executive, who is known for asking excellent questions about your business. You are presented with data from table \" + table_name + \" with columns \" + str(cdf) + \". Ask a business question such that the SQL query to answer the question should have only have one of these components HAVING, ORDER BY, LIMIT, JOIN, LIKE, OR, WHERE, GROUP BY. Do not mention any column names or database lingo in the question, the question should be from an executive perspective. Only ask one question, do not mention any additional details, no follow up questions or two part questions. Just one sentence question.\"\n",
    "question_medium = \"You are a top finance executive, who is known for asking excellent questions about your business. You are presented with data from table \" + table_name + \" with columns \" + str(cdf) + \". Ask a business question such that the SQL query to answer the question should have one of these components HAVING, ORDER BY, LIMIT, JOIN, LIKE, OR, WHERE and uses up to two aggregations such as SUM, AVERAGE, GROUP BY, COUNT, MIN, MAX. Do not mention any column names or database lingo in the question, the question should be from an executive perspective. Only ask one question, do not mention any additional details, no follow up questions or two part questions. Just one sentence question.\"\n",
    "question_hard = \"You are a top finance executive, who is known for asking excellent questions about your business. You are presented with data from table \" + table_name + \" with columns \" + str(cdf) + \". Ask a business question such that the SQL query to answer the question should have one of these components HAVING, ORDER BY, LIMIT, JOIN, LIKE, OR, WHERE and uses two or more aggregations such as SUM, AVERAGE, GROUP BY, COUNT, MIN, MAX. Do not mention any column names or database lingo in the question, the question should be from an executive perspective. Only ask one question, do not mention any additional details, no follow up questions or two part questions. Just one sentence question.\"\n",
    "question_extremely_hard = \"You are a top finance executive, who is known for asking excellent questions about your business. You are presented with data from table \" + table_name + \" with columns \" + str(cdf) + \". Ask a business question such that the SQL query to answer the question should have one of these components HAVING, ORDER BY, LIMIT, JOIN, LIKE, OR, WHERE and uses up to two aggregations such as SUM, AVERAGE, GROUP BY, COUNT, MIN, MAX as well as one of these functions EXCEPT, UNION, INTERSECTED, NESTED. Do not mention any column names or database lingo in the question, the question should be from an executive perspective. Only ask one question, do not mention any additional details, no follow up questions or two part questions. Just one sentence question.\"\n"
   ]
  },
  {
   "cell_type": "code",
   "execution_count": 132,
   "metadata": {},
   "outputs": [],
   "source": [
    "def get_random_table_name():\n",
    "    #generate a random table name from the list\n",
    "    table_name = np.random.choice(table_names)\n",
    "    return table_name\n",
    "\n",
    "def get_all_columns(table_name):\n",
    "    sql = f'''\n",
    "    SHOW COLUMNS IN SCALE_PLAYPEN.GOLDFINCH_REPLICA.{table_name};\n",
    "    '''\n",
    "    cs.execute(sql)\n",
    "    rows = cs.fetchall()\n",
    "    column_names = [desc[0] for desc in cs.description]\n",
    "    cdf = pd.DataFrame(rows, columns=column_names)\n",
    "    #copy column names to a list\n",
    "    column_names = []\n",
    "    for i in cdf['column_name']:\n",
    "        column_names.append(i)\n",
    "    return column_names\n",
    "\n",
    "def question_gpt():\n",
    "    completion = openai.ChatCompletion.create(\n",
    "    model=\"gpt-4-1106-preview\",\n",
    "    messages=[{\"role\":\"user\", \"content\":question_easy}]\n",
    "    )\n",
    "    #parse the response to get the only the \"content\" part and save it in response variable\n",
    "    response = completion[\"choices\"][0][\"message\"][\"content\"]\n",
    "    return response\n"
   ]
  },
  {
   "cell_type": "code",
   "execution_count": 140,
   "metadata": {},
   "outputs": [
    {
     "name": "stdout",
     "output_type": "stream",
     "text": [
      "Can we identify any sales agents who might require additional training or support based on a significantly lower number of successful enterprise contacts relative to their peers over the last quarter?\n"
     ]
    }
   ],
   "source": [
    "table_name = get_random_table_name()\n",
    "cdf = get_all_columns(table_name)\n",
    "question = question_gpt()\n",
    "print (question)"
   ]
  },
  {
   "cell_type": "code",
   "execution_count": null,
   "metadata": {},
   "outputs": [],
   "source": []
  }
 ],
 "metadata": {
  "kernelspec": {
   "display_name": "base",
   "language": "python",
   "name": "python3"
  },
  "language_info": {
   "codemirror_mode": {
    "name": "ipython",
    "version": 3
   },
   "file_extension": ".py",
   "mimetype": "text/x-python",
   "name": "python",
   "nbconvert_exporter": "python",
   "pygments_lexer": "ipython3",
   "version": "3.9.12"
  }
 },
 "nbformat": 4,
 "nbformat_minor": 2
}
