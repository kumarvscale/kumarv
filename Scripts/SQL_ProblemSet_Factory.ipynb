{
 "cells": [
  {
   "cell_type": "code",
   "execution_count": 81,
   "metadata": {},
   "outputs": [
    {
     "name": "stdout",
     "output_type": "stream",
     "text": [
      "Initiating login request with your identity provider. A browser window should have opened for you to complete the login. If you can't see it, check existing browser windows, or your OS settings. Press CTRL+C to abort and try again...\n"
     ]
    }
   ],
   "source": [
    "#import libraries\n",
    "import pandas as pd\n",
    "import snowflake.connector\n",
    "import numpy as np\n",
    "import openai\n",
    "import os\n",
    "import json\n",
    "\n",
    "# Read openai api key from file apikey.txt\n",
    "api_key_file = 'apikey.txt'\n",
    "if os.path.isfile(api_key_file):\n",
    "    with open(api_key_file) as f:\n",
    "        openai.api_key = f.readline()\n",
    "else:\n",
    "    print(f\"Error: {api_key_file} not found.\")\n",
    "\n",
    "OPENAI_API_KEY = openai.api_key\n",
    "content = \"\"\n",
    "\n",
    "#login to snowflake db\n",
    "con = snowflake.connector.connect(user='vishal.kumar@scale.com',\n",
    "                                 account='pxa65918',\n",
    "                                 authenticator='externalbrowser',\n",
    "                                 warehouse='BOOTCAMP_WH',\n",
    "                                 database='SCALE_PLAYPEN',\n",
    "                                 role='SNOWFLAKE_USERS')\n",
    "cs = con.cursor()\n"
   ]
  },
  {
   "cell_type": "code",
   "execution_count": 82,
   "metadata": {},
   "outputs": [],
   "source": [
    "#Get table names from the schema\n",
    "sql = f'''\n",
    "SHOW TABLES IN SCALE_PLAYPEN.GOLDFINCH_REPLICA;\n",
    "'''\n",
    "cs.execute(sql)\n",
    "rows = cs.fetchall()\n",
    "column_names = [desc[0] for desc in cs.description]\n",
    "tdf = pd.DataFrame(rows, columns=column_names)\n",
    "\n",
    "#copy table names to a list\n",
    "table_names = []\n",
    "for i in tdf['name']:\n",
    "    table_names.append(i)\n"
   ]
  },
  {
   "cell_type": "code",
   "execution_count": 83,
   "metadata": {},
   "outputs": [],
   "source": [
    "def get_random_table_name():\n",
    "    #generate a random table name from the list\n",
    "    table_name = np.random.choice(table_names)\n",
    "    return table_name\n",
    "\n",
    "def get_all_columns(table_name):\n",
    "    sql = f'''\n",
    "    SHOW COLUMNS IN SCALE_PLAYPEN.GOLDFINCH_REPLICA.{table_name};\n",
    "    '''\n",
    "    cs.execute(sql)\n",
    "    rows = cs.fetchall()\n",
    "    column_names = [desc[0] for desc in cs.description]\n",
    "    cdf = pd.DataFrame(rows, columns=column_names)\n",
    "    #copy column names to a list\n",
    "    column_names = []\n",
    "    for i in cdf['column_name']:\n",
    "        column_names.append(i)\n",
    "    return column_names\n"
   ]
  },
  {
   "cell_type": "code",
   "execution_count": 84,
   "metadata": {},
   "outputs": [],
   "source": [
    "#call get_random_table_name() to get a random table name\n",
    "table_name = get_random_table_name()\n",
    "#print (table_name)\n",
    "#call get_all_columns(table_name) to get all columns for the table\n",
    "cdf = get_all_columns(table_name)\n",
    "#print (column_names)"
   ]
  },
  {
   "cell_type": "code",
   "execution_count": 85,
   "metadata": {},
   "outputs": [],
   "source": [
    "question_easy = \"You are a top finance executive, who is known for asking excellent questions about your business. You are presented with data from table \" + table_name + \" with columns \" + str(cdf) + \". Ask a business question such that the SQL query to answer the question should have only have one of these components HAVING, ORDER BY, LIMIT, JOIN, LIKE, OR, WHERE, GROUP BY. Do not mention any column names or database lingo in the question, the question should be from an executive perspective. Only provide the question, do not mention any additional details.\"\n",
    "question_medium = \"You are a top finance executive, who is known for asking excellent questions about your business. You are presented with data from table \" + table_name + \" with columns \" + str(cdf) + \". Ask a business question such that the SQL query to answer the question should have one of these components HAVING, ORDER BY, LIMIT, JOIN, LIKE, OR, WHERE and uses up to two aggregations such as SUM, AVERAGE, GROUP BY, COUNT, MIN, MAX. Do not mention any column names or database lingo in the question, the question should be from an executive perspective. Only provide the question, do not mention any additional details.\"\n",
    "question_hard = \"You are a top finance executive, who is known for asking excellent questions about your business. You are presented with data from table \" + table_name + \" with columns \" + str(cdf) + \". Ask a business question such that the SQL query to answer the question should have one of these components HAVING, ORDER BY, LIMIT, JOIN, LIKE, OR, WHERE and uses two or more aggregations such as SUM, AVERAGE, GROUP BY, COUNT, MIN, MAX. Do not mention any column names or database lingo in the question, the question should be from an executive perspective. Only provide the question, do not mention any additional details.\"\n",
    "question_extremely_hard = \"You are a top finance executive, who is known for asking excellent questions about your business. You are presented with data from table \" + table_name + \" with columns \" + str(cdf) + \". Ask a business question such that the SQL query to answer the question should have one of these components HAVING, ORDER BY, LIMIT, JOIN, LIKE, OR, WHERE and uses up to two aggregations such as SUM, AVERAGE, GROUP BY, COUNT, MIN, MAX as well as one of these functions EXCEPT, UNION, INTERSECTED, NESTED. Do not mention any column names or database lingo in the question, the question should be from an executive perspective. Only provide the question, do not mention any additional details.\""
   ]
  },
  {
   "cell_type": "code",
   "execution_count": 87,
   "metadata": {},
   "outputs": [
    {
     "name": "stdout",
     "output_type": "stream",
     "text": [
      "What is the total sales amount for each product category, ordered from highest to lowest?\n"
     ]
    }
   ],
   "source": [
    "completion = openai.ChatCompletion.create(\n",
    "    model=\"gpt-3.5-turbo\",\n",
    "    messages=[{\"role\":\"user\", \"content\":question_extremely_hard}]\n",
    ")\n",
    "#parse the response to get the only the \"content\" part and save it in response variable\n",
    "response = completion[\"choices\"][0][\"message\"][\"content\"]\n",
    "print (response)\n"
   ]
  },
  {
   "cell_type": "code",
   "execution_count": null,
   "metadata": {},
   "outputs": [],
   "source": []
  }
 ],
 "metadata": {
  "kernelspec": {
   "display_name": "base",
   "language": "python",
   "name": "python3"
  },
  "language_info": {
   "codemirror_mode": {
    "name": "ipython",
    "version": 3
   },
   "file_extension": ".py",
   "mimetype": "text/x-python",
   "name": "python",
   "nbconvert_exporter": "python",
   "pygments_lexer": "ipython3",
   "version": "3.9.12"
  }
 },
 "nbformat": 4,
 "nbformat_minor": 2
}
