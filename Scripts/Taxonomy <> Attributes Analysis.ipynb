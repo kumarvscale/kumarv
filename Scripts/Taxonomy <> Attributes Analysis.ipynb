{
 "cells": [
  {
   "cell_type": "code",
   "execution_count": 1,
   "id": "9a09c0f8",
   "metadata": {},
   "outputs": [],
   "source": [
    "import pandas as pd\n",
    "import snowflake.connector"
   ]
  },
  {
   "cell_type": "code",
   "execution_count": 2,
   "id": "8af7cef2",
   "metadata": {},
   "outputs": [
    {
     "name": "stdout",
     "output_type": "stream",
     "text": [
      "Initiating login request with your identity provider. A browser window should have opened for you to complete the login. If you can't see it, check existing browser windows, or your OS settings. Press CTRL+C to abort and try again...\n"
     ]
    }
   ],
   "source": [
    "#login to snowflake db\n",
    "con = snowflake.connector.connect(user='vishal.kumar@scale.com',\n",
    "                                 account='pxa65918',\n",
    "                                 authenticator='externalbrowser',\n",
    "                                 warehouse='COMPUTE_WH',\n",
    "                                 database='SCALE_CRAWLER',\n",
    "                                 role='GENERAL_RO')\n",
    "\n",
    "cs = con.cursor()"
   ]
  },
  {
   "cell_type": "code",
   "execution_count": 6,
   "id": "0de02108",
   "metadata": {},
   "outputs": [],
   "source": [
    "#Get work logs\n",
    "sql = f'''\n",
    "select\n",
    "pvid p_vid,\n",
    "processed_attributes attributes\n",
    "from\n",
    "productvariants\n",
    "order by random()\n",
    "limit 20000\n",
    "'''\n",
    "cs.execute(sql)\n",
    "df = cs.fetch_pandas_all()\n"
   ]
  },
  {
   "cell_type": "code",
   "execution_count": 7,
   "id": "761c49f6",
   "metadata": {},
   "outputs": [
    {
     "ename": "NameError",
     "evalue": "name 'dataframe_to_result' is not defined",
     "output_type": "error",
     "traceback": [
      "\u001b[0;31m---------------------------------------------------------------------------\u001b[0m",
      "\u001b[0;31mNameError\u001b[0m                                 Traceback (most recent call last)",
      "Input \u001b[0;32mIn [7]\u001b[0m, in \u001b[0;36m<cell line: 28>\u001b[0;34m()\u001b[0m\n\u001b[1;32m     25\u001b[0m col_list\u001b[38;5;241m=\u001b[39m df\u001b[38;5;241m.\u001b[39miloc[:,\u001b[38;5;241m1\u001b[39m:]\u001b[38;5;241m.\u001b[39mcolumns\n\u001b[1;32m     26\u001b[0m df[\u001b[38;5;124m'\u001b[39m\u001b[38;5;124mTOTAL\u001b[39m\u001b[38;5;124m'\u001b[39m] \u001b[38;5;241m=\u001b[39m df[col_list]\u001b[38;5;241m.\u001b[39msum(axis\u001b[38;5;241m=\u001b[39m\u001b[38;5;241m1\u001b[39m)\n\u001b[0;32m---> 28\u001b[0m \u001b[43mdataframe_to_result\u001b[49m(result,df\u001b[38;5;241m.\u001b[39msort_values(\u001b[38;5;124m'\u001b[39m\u001b[38;5;124mTOTAL\u001b[39m\u001b[38;5;124m'\u001b[39m,ascending\u001b[38;5;241m=\u001b[39m\u001b[38;5;28;01mFalse\u001b[39;00m)\u001b[38;5;241m.\u001b[39miloc[\u001b[38;5;241m0\u001b[39m:\u001b[38;5;241m1000\u001b[39m])\n",
      "\u001b[0;31mNameError\u001b[0m: name 'dataframe_to_result' is not defined"
     ]
    }
   ],
   "source": [
    "def category(attributes):\n",
    "    try:\n",
    "        cat = json.loads(attributes)['fb_product_category']\n",
    "        return cat\n",
    "    except Exception:\n",
    "        return None\n",
    "    \n",
    "df['CATEGORY'] = df['ATTRIBUTES'].apply(category)\n",
    "\n",
    "mask = df['CATEGORY'].isnull()\n",
    "df = df[~mask]\n",
    "\n",
    "global exclude\n",
    "exclude = [\n",
    "    'availability','title','breadcrumbs','options','link','description','bullets','image_links','videos','currency','brand','brand',\n",
    "    'description_structured','sku','key_value_pairs','key_value_pairs','fb_product_category','variant_matchable_id','item_group_id',\n",
    "    'job_id','id','real_price','parent_website_url'\n",
    "]\n",
    "\n",
    "df['ATTRIBUTES'] = df['ATTRIBUTES'].apply(lambda x: list(set([x for x,k in json.loads(x).items() if x not in exclude])))\n",
    "df = df.explode('ATTRIBUTES')\n",
    "df = df.groupby(['CATEGORY','ATTRIBUTES'],as_index=False).count().rename(columns={'P_VID':'T_CATEGORY'})\n",
    "\n",
    "df = df.pivot(index='CATEGORY', columns='ATTRIBUTES', values='T_CATEGORY').reset_index()\n",
    "col_list= df.iloc[:,1:].columns\n",
    "df['TOTAL'] = df[col_list].sum(axis=1)\n",
    "\n",
    "dataframe_to_result(result,df.sort_values('TOTAL',ascending=False).iloc[0:1000])\n"
   ]
  },
  {
   "cell_type": "code",
   "execution_count": null,
   "id": "fcb4889d",
   "metadata": {},
   "outputs": [],
   "source": []
  }
 ],
 "metadata": {
  "kernelspec": {
   "display_name": "Python 3 (ipykernel)",
   "language": "python",
   "name": "python3"
  },
  "language_info": {
   "codemirror_mode": {
    "name": "ipython",
    "version": 3
   },
   "file_extension": ".py",
   "mimetype": "text/x-python",
   "name": "python",
   "nbconvert_exporter": "python",
   "pygments_lexer": "ipython3",
   "version": "3.9.12"
  }
 },
 "nbformat": 4,
 "nbformat_minor": 5
}
