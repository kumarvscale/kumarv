{
 "cells": [
  {
   "cell_type": "code",
   "execution_count": 4,
   "metadata": {},
   "outputs": [],
   "source": [
    "import pandas as pd\n",
    "import re"
   ]
  },
  {
   "cell_type": "code",
   "execution_count": 15,
   "metadata": {},
   "outputs": [],
   "source": [
    "attribute_name='ESRB_Rating'\n",
    "attribute_values = 'Rating Pending'"
   ]
  },
  {
   "cell_type": "code",
   "execution_count": 16,
   "metadata": {},
   "outputs": [
    {
     "name": "stdout",
     "output_type": "stream",
     "text": [
      "ESRB_Rating values are valid\n"
     ]
    }
   ],
   "source": [
    "# Define the validation criteria\n",
    "pattern = re.compile(r\"^(Everyone|Everyone 10\\+|Teen|Mature 17\\+|Adults only 18\\+|Rating Pending)(,\\s*(Everyone|Everyone 10\\+|Teen|Mature 17\\+|Adults only 18\\+|Rating Pending))*$\")\n",
    "\n",
    "# Validate the attribute values\n",
    "if pattern.match(attribute_values):\n",
    "    print(f\"{attribute_name} values are valid\")\n",
    "else:\n",
    "    print(f\"{attribute_name} values are not valid\")"
   ]
  },
  {
   "cell_type": "code",
   "execution_count": null,
   "metadata": {},
   "outputs": [],
   "source": []
  }
 ],
 "metadata": {
  "kernelspec": {
   "display_name": "base",
   "language": "python",
   "name": "python3"
  },
  "language_info": {
   "codemirror_mode": {
    "name": "ipython",
    "version": 3
   },
   "file_extension": ".py",
   "mimetype": "text/x-python",
   "name": "python",
   "nbconvert_exporter": "python",
   "pygments_lexer": "ipython3",
   "version": "3.9.12"
  },
  "orig_nbformat": 4
 },
 "nbformat": 4,
 "nbformat_minor": 2
}
