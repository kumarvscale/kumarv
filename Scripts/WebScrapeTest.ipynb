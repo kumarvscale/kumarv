{
 "cells": [
  {
   "cell_type": "code",
   "execution_count": 19,
   "metadata": {},
   "outputs": [
    {
     "ename": "NameError",
     "evalue": "name 'rating' is not defined",
     "output_type": "error",
     "traceback": [
      "\u001b[0;31m---------------------------------------------------------------------------\u001b[0m",
      "\u001b[0;31mNameError\u001b[0m                                 Traceback (most recent call last)",
      "Cell \u001b[0;32mIn[19], line 28\u001b[0m\n\u001b[1;32m     22\u001b[0m             \u001b[39m# Yield the extracted data as a dictionary\u001b[39;00m\n\u001b[1;32m     23\u001b[0m             \u001b[39myield\u001b[39;00m {\n\u001b[1;32m     24\u001b[0m                 \u001b[39m'\u001b[39m\u001b[39mrating\u001b[39m\u001b[39m'\u001b[39m: rating,\n\u001b[1;32m     25\u001b[0m                 \u001b[39m'\u001b[39m\u001b[39mtitle\u001b[39m\u001b[39m'\u001b[39m: title,\n\u001b[1;32m     26\u001b[0m                 \u001b[39m'\u001b[39m\u001b[39mtext\u001b[39m\u001b[39m'\u001b[39m: text,\n\u001b[1;32m     27\u001b[0m             }\n\u001b[0;32m---> 28\u001b[0m \u001b[39mprint\u001b[39m(rating, title, text, sep\u001b[39m=\u001b[39m\u001b[39m'\u001b[39m\u001b[39m\\t\u001b[39;00m\u001b[39m'\u001b[39m)\n",
      "\u001b[0;31mNameError\u001b[0m: name 'rating' is not defined"
     ]
    }
   ],
   "source": [
    "import scrapy\n",
    "\n",
    "class AltarStateSpider(scrapy.Spider):\n",
    "    name = \"altarstate\"\n",
    "    \n",
    "    # Start URL for the spider\n",
    "    start_urls = [\n",
    "        'https://www.altardstate.com/as/clothing/dresses/mini-dresses/may-clipdot-dress/001890_E0515W040JD-0005.html'\n",
    "    ]\n",
    "\n",
    "    def parse(self, response):\n",
    "        # Extract the reviews section from the product page\n",
    "        reviews_section = response.css('div.bv-content-list-container')\n",
    "        \n",
    "        # Extract each review from the reviews section\n",
    "        for review in reviews_section.css('div.bv-content-item'):\n",
    "            # Extract the rating, title, and text of the review\n",
    "            rating = review.css('span.bv-off-screen::text').get()\n",
    "            title = review.css('h4.bv-content-title::text').get()\n",
    "            text = review.css('div.bv-content-summary-body-text::text').get()\n",
    "            \n",
    "            # Yield the extracted data as a dictionary\n",
    "            yield {\n",
    "                'rating': rating,\n",
    "                'title': title,\n",
    "                'text': text,\n",
    "            }\n",
    "print(rating, title, text, sep='\\t')"
   ]
  },
  {
   "cell_type": "code",
   "execution_count": 17,
   "metadata": {},
   "outputs": [
    {
     "name": "stdout",
     "output_type": "stream",
     "text": [
      "rating\ttitle\ttext\n"
     ]
    }
   ],
   "source": []
  },
  {
   "cell_type": "code",
   "execution_count": 15,
   "metadata": {},
   "outputs": [
    {
     "name": "stdout",
     "output_type": "stream",
     "text": [
      "\u001b[33mDEPRECATION: Configuring installation scheme with distutils config files is deprecated and will no longer work in the near future. If you are using a Homebrew or Linuxbrew Python, please see discussion at https://github.com/Homebrew/homebrew-core/issues/76621\u001b[0m\u001b[33m\n",
      "\u001b[0mCollecting scrapy\n",
      "  Using cached Scrapy-2.8.0-py2.py3-none-any.whl (272 kB)\n",
      "Collecting w3lib>=1.17.0\n",
      "  Using cached w3lib-2.1.1-py3-none-any.whl (21 kB)\n",
      "Collecting lxml>=4.3.0\n",
      "  Using cached lxml-4.9.2.tar.gz (3.7 MB)\n",
      "  Preparing metadata (setup.py) ... \u001b[?25ldone\n",
      "\u001b[?25hCollecting zope.interface>=5.1.0\n",
      "  Using cached zope.interface-6.0-cp38-cp38-macosx_11_0_arm64.whl (202 kB)\n",
      "Collecting Twisted>=18.9.0\n",
      "  Using cached Twisted-22.10.0-py3-none-any.whl (3.1 MB)\n",
      "Requirement already satisfied: tldextract in /opt/homebrew/lib/python3.8/site-packages (from scrapy) (3.4.0)\n",
      "Collecting protego>=0.1.15\n",
      "  Using cached Protego-0.2.1-py2.py3-none-any.whl (8.2 kB)\n",
      "Collecting queuelib>=1.4.2\n",
      "  Using cached queuelib-1.6.2-py2.py3-none-any.whl (13 kB)\n",
      "Collecting parsel>=1.5.0\n",
      "  Using cached parsel-1.7.0-py2.py3-none-any.whl (14 kB)\n",
      "Requirement already satisfied: pyOpenSSL>=21.0.0 in /Users/vishalkumar/Library/Python/3.8/lib/python/site-packages (from scrapy) (22.0.0)\n",
      "Collecting itemloaders>=1.0.1\n",
      "  Using cached itemloaders-1.0.6-py3-none-any.whl (11 kB)\n",
      "Collecting itemadapter>=0.1.0\n",
      "  Using cached itemadapter-0.8.0-py3-none-any.whl (11 kB)\n",
      "Collecting PyDispatcher>=2.0.5\n",
      "  Using cached PyDispatcher-2.0.7-py3-none-any.whl (12 kB)\n",
      "Collecting cssselect>=0.9.1\n",
      "  Using cached cssselect-1.2.0-py2.py3-none-any.whl (18 kB)\n",
      "Requirement already satisfied: cryptography>=3.4.6 in /Users/vishalkumar/Library/Python/3.8/lib/python/site-packages (from scrapy) (36.0.2)\n",
      "Requirement already satisfied: packaging in /Users/vishalkumar/Library/Python/3.8/lib/python/site-packages (from scrapy) (23.0)\n",
      "Collecting service-identity>=18.1.0\n",
      "  Using cached service_identity-21.1.0-py2.py3-none-any.whl (12 kB)\n",
      "Requirement already satisfied: setuptools in /opt/homebrew/lib/python3.8/site-packages (from scrapy) (65.3.0)\n",
      "Requirement already satisfied: cffi>=1.12 in /Users/vishalkumar/Library/Python/3.8/lib/python/site-packages (from cryptography>=3.4.6->scrapy) (1.15.1)\n",
      "Collecting jmespath>=0.9.5\n",
      "  Using cached jmespath-1.0.1-py3-none-any.whl (20 kB)\n",
      "Requirement already satisfied: six in /opt/homebrew/lib/python3.8/site-packages (from protego>=0.1.15->scrapy) (1.16.0)\n",
      "Requirement already satisfied: attrs>=19.1.0 in /opt/homebrew/lib/python3.8/site-packages (from service-identity>=18.1.0->scrapy) (22.2.0)\n",
      "Collecting pyasn1-modules\n",
      "  Using cached pyasn1_modules-0.2.8-py2.py3-none-any.whl (155 kB)\n",
      "Collecting pyasn1\n",
      "  Using cached pyasn1-0.4.8-py2.py3-none-any.whl (77 kB)\n",
      "Collecting constantly>=15.1\n",
      "  Using cached constantly-15.1.0-py2.py3-none-any.whl (7.9 kB)\n",
      "Collecting hyperlink>=17.1.1\n",
      "  Using cached hyperlink-21.0.0-py2.py3-none-any.whl (74 kB)\n",
      "Collecting incremental>=21.3.0\n",
      "  Using cached incremental-22.10.0-py2.py3-none-any.whl (16 kB)\n",
      "Collecting Automat>=0.8.0\n",
      "  Using cached Automat-22.10.0-py2.py3-none-any.whl (26 kB)\n",
      "Requirement already satisfied: typing-extensions>=3.6.5 in /Users/vishalkumar/Library/Python/3.8/lib/python/site-packages (from Twisted>=18.9.0->scrapy) (4.5.0)\n",
      "Requirement already satisfied: filelock>=3.0.8 in /Users/vishalkumar/Library/Python/3.8/lib/python/site-packages (from tldextract->scrapy) (3.7.1)\n",
      "Requirement already satisfied: requests-file>=1.4 in /opt/homebrew/lib/python3.8/site-packages (from tldextract->scrapy) (1.5.1)\n",
      "Requirement already satisfied: requests>=2.1.0 in /Users/vishalkumar/Library/Python/3.8/lib/python/site-packages (from tldextract->scrapy) (2.28.1)\n",
      "Requirement already satisfied: idna in /Users/vishalkumar/Library/Python/3.8/lib/python/site-packages (from tldextract->scrapy) (3.3)\n",
      "Requirement already satisfied: pycparser in /Users/vishalkumar/Library/Python/3.8/lib/python/site-packages (from cffi>=1.12->cryptography>=3.4.6->scrapy) (2.21)\n",
      "Requirement already satisfied: urllib3<1.27,>=1.21.1 in /Users/vishalkumar/Library/Python/3.8/lib/python/site-packages (from requests>=2.1.0->tldextract->scrapy) (1.26.10)\n",
      "Requirement already satisfied: charset-normalizer<3,>=2 in /Users/vishalkumar/Library/Python/3.8/lib/python/site-packages (from requests>=2.1.0->tldextract->scrapy) (2.0.12)\n",
      "Requirement already satisfied: certifi>=2017.4.17 in /Users/vishalkumar/Library/Python/3.8/lib/python/site-packages (from requests>=2.1.0->tldextract->scrapy) (2022.6.15)\n",
      "Building wheels for collected packages: lxml\n",
      "  Building wheel for lxml (setup.py) ... \u001b[?25ldone\n",
      "\u001b[?25h  Created wheel for lxml: filename=lxml-4.9.2-cp38-cp38-macosx_12_0_arm64.whl size=1681139 sha256=f176c4f81f403a56c7beaf1e00336fae6678fa61eab9fcd0861da5273547bcc4\n",
      "  Stored in directory: /Users/vishalkumar/Library/Caches/pip/wheels/7d/07/7c/a945c6121e40f34b64fc7f8bdd88dd811c0ac1d8a3884b79de\n",
      "Successfully built lxml\n",
      "Installing collected packages: PyDispatcher, pyasn1, incremental, constantly, zope.interface, w3lib, queuelib, pyasn1-modules, protego, lxml, jmespath, itemadapter, hyperlink, cssselect, Automat, Twisted, parsel, service-identity, itemloaders, scrapy\n",
      "\u001b[33m  DEPRECATION: Configuring installation scheme with distutils config files is deprecated and will no longer work in the near future. If you are using a Homebrew or Linuxbrew Python, please see discussion at https://github.com/Homebrew/homebrew-core/issues/76621\u001b[0m\u001b[33m\n",
      "\u001b[0m\u001b[33m  DEPRECATION: Configuring installation scheme with distutils config files is deprecated and will no longer work in the near future. If you are using a Homebrew or Linuxbrew Python, please see discussion at https://github.com/Homebrew/homebrew-core/issues/76621\u001b[0m\u001b[33m\n",
      "\u001b[0m\u001b[33m  DEPRECATION: Configuring installation scheme with distutils config files is deprecated and will no longer work in the near future. If you are using a Homebrew or Linuxbrew Python, please see discussion at https://github.com/Homebrew/homebrew-core/issues/76621\u001b[0m\u001b[33m\n",
      "\u001b[0m\u001b[33m  DEPRECATION: Configuring installation scheme with distutils config files is deprecated and will no longer work in the near future. If you are using a Homebrew or Linuxbrew Python, please see discussion at https://github.com/Homebrew/homebrew-core/issues/76621\u001b[0m\u001b[33m\n",
      "\u001b[0m\u001b[33m  DEPRECATION: Configuring installation scheme with distutils config files is deprecated and will no longer work in the near future. If you are using a Homebrew or Linuxbrew Python, please see discussion at https://github.com/Homebrew/homebrew-core/issues/76621\u001b[0m\u001b[33m\n",
      "\u001b[0m\u001b[33m  DEPRECATION: Configuring installation scheme with distutils config files is deprecated and will no longer work in the near future. If you are using a Homebrew or Linuxbrew Python, please see discussion at https://github.com/Homebrew/homebrew-core/issues/76621\u001b[0m\u001b[33m\n",
      "\u001b[0m\u001b[33m  DEPRECATION: Configuring installation scheme with distutils config files is deprecated and will no longer work in the near future. If you are using a Homebrew or Linuxbrew Python, please see discussion at https://github.com/Homebrew/homebrew-core/issues/76621\u001b[0m\u001b[33m\n",
      "\u001b[0m\u001b[33m  DEPRECATION: Configuring installation scheme with distutils config files is deprecated and will no longer work in the near future. If you are using a Homebrew or Linuxbrew Python, please see discussion at https://github.com/Homebrew/homebrew-core/issues/76621\u001b[0m\u001b[33m\n",
      "\u001b[0m\u001b[33m  DEPRECATION: Configuring installation scheme with distutils config files is deprecated and will no longer work in the near future. If you are using a Homebrew or Linuxbrew Python, please see discussion at https://github.com/Homebrew/homebrew-core/issues/76621\u001b[0m\u001b[33m\n",
      "\u001b[0m\u001b[33m  DEPRECATION: Configuring installation scheme with distutils config files is deprecated and will no longer work in the near future. If you are using a Homebrew or Linuxbrew Python, please see discussion at https://github.com/Homebrew/homebrew-core/issues/76621\u001b[0m\u001b[33m\n",
      "\u001b[0m\u001b[33m  DEPRECATION: Configuring installation scheme with distutils config files is deprecated and will no longer work in the near future. If you are using a Homebrew or Linuxbrew Python, please see discussion at https://github.com/Homebrew/homebrew-core/issues/76621\u001b[0m\u001b[33m\n",
      "\u001b[0m\u001b[33m  DEPRECATION: Configuring installation scheme with distutils config files is deprecated and will no longer work in the near future. If you are using a Homebrew or Linuxbrew Python, please see discussion at https://github.com/Homebrew/homebrew-core/issues/76621\u001b[0m\u001b[33m\n",
      "\u001b[0m\u001b[33m  DEPRECATION: Configuring installation scheme with distutils config files is deprecated and will no longer work in the near future. If you are using a Homebrew or Linuxbrew Python, please see discussion at https://github.com/Homebrew/homebrew-core/issues/76621\u001b[0m\u001b[33m\n",
      "\u001b[0m\u001b[33m  DEPRECATION: Configuring installation scheme with distutils config files is deprecated and will no longer work in the near future. If you are using a Homebrew or Linuxbrew Python, please see discussion at https://github.com/Homebrew/homebrew-core/issues/76621\u001b[0m\u001b[33m\n",
      "\u001b[0m\u001b[33m  DEPRECATION: Configuring installation scheme with distutils config files is deprecated and will no longer work in the near future. If you are using a Homebrew or Linuxbrew Python, please see discussion at https://github.com/Homebrew/homebrew-core/issues/76621\u001b[0m\u001b[33m\n",
      "\u001b[0m\u001b[33m  DEPRECATION: Configuring installation scheme with distutils config files is deprecated and will no longer work in the near future. If you are using a Homebrew or Linuxbrew Python, please see discussion at https://github.com/Homebrew/homebrew-core/issues/76621\u001b[0m\u001b[33m\n",
      "\u001b[0m\u001b[33m  DEPRECATION: Configuring installation scheme with distutils config files is deprecated and will no longer work in the near future. If you are using a Homebrew or Linuxbrew Python, please see discussion at https://github.com/Homebrew/homebrew-core/issues/76621\u001b[0m\u001b[33m\n",
      "\u001b[0m\u001b[33m  DEPRECATION: Configuring installation scheme with distutils config files is deprecated and will no longer work in the near future. If you are using a Homebrew or Linuxbrew Python, please see discussion at https://github.com/Homebrew/homebrew-core/issues/76621\u001b[0m\u001b[33m\n",
      "\u001b[0m\u001b[33m  DEPRECATION: Configuring installation scheme with distutils config files is deprecated and will no longer work in the near future. If you are using a Homebrew or Linuxbrew Python, please see discussion at https://github.com/Homebrew/homebrew-core/issues/76621\u001b[0m\u001b[33m\n",
      "\u001b[0m\u001b[33m  DEPRECATION: Configuring installation scheme with distutils config files is deprecated and will no longer work in the near future. If you are using a Homebrew or Linuxbrew Python, please see discussion at https://github.com/Homebrew/homebrew-core/issues/76621\u001b[0m\u001b[33m\n",
      "\u001b[0m\u001b[33mDEPRECATION: Configuring installation scheme with distutils config files is deprecated and will no longer work in the near future. If you are using a Homebrew or Linuxbrew Python, please see discussion at https://github.com/Homebrew/homebrew-core/issues/76621\u001b[0m\u001b[33m\n",
      "\u001b[0mSuccessfully installed Automat-22.10.0 PyDispatcher-2.0.7 Twisted-22.10.0 constantly-15.1.0 cssselect-1.2.0 hyperlink-21.0.0 incremental-22.10.0 itemadapter-0.8.0 itemloaders-1.0.6 jmespath-1.0.1 lxml-4.9.2 parsel-1.7.0 protego-0.2.1 pyasn1-0.4.8 pyasn1-modules-0.2.8 queuelib-1.6.2 scrapy-2.8.0 service-identity-21.1.0 w3lib-2.1.1 zope.interface-6.0\n",
      "Note: you may need to restart the kernel to use updated packages.\n"
     ]
    }
   ],
   "source": [
    "pip install scrapy\n"
   ]
  },
  {
   "cell_type": "code",
   "execution_count": 14,
   "metadata": {},
   "outputs": [
    {
     "name": "stdout",
     "output_type": "stream",
     "text": [
      "\u001b[33mDEPRECATION: Configuring installation scheme with distutils config files is deprecated and will no longer work in the near future. If you are using a Homebrew or Linuxbrew Python, please see discussion at https://github.com/Homebrew/homebrew-core/issues/76621\u001b[0m\u001b[33m\n",
      "\u001b[0mRequirement already satisfied: pip in /Users/vishalkumar/Library/Python/3.8/lib/python/site-packages (22.1.2)\n",
      "Collecting pip\n",
      "  Using cached pip-23.0.1-py3-none-any.whl (2.1 MB)\n",
      "Installing collected packages: pip\n",
      "  Attempting uninstall: pip\n",
      "    Found existing installation: pip 22.1.2\n",
      "    Uninstalling pip-22.1.2:\n",
      "      Successfully uninstalled pip-22.1.2\n",
      "\u001b[33m  DEPRECATION: Configuring installation scheme with distutils config files is deprecated and will no longer work in the near future. If you are using a Homebrew or Linuxbrew Python, please see discussion at https://github.com/Homebrew/homebrew-core/issues/76621\u001b[0m\u001b[33m\n",
      "\u001b[0m\u001b[33mDEPRECATION: Configuring installation scheme with distutils config files is deprecated and will no longer work in the near future. If you are using a Homebrew or Linuxbrew Python, please see discussion at https://github.com/Homebrew/homebrew-core/issues/76621\u001b[0m\u001b[33m\n",
      "\u001b[0mSuccessfully installed pip-23.0.1\n"
     ]
    }
   ],
   "source": [
    "!python3.8 -m pip install --upgrade pip"
   ]
  },
  {
   "cell_type": "code",
   "execution_count": null,
   "metadata": {},
   "outputs": [],
   "source": []
  }
 ],
 "metadata": {
  "kernelspec": {
   "display_name": "Python 3",
   "language": "python",
   "name": "python3"
  },
  "language_info": {
   "codemirror_mode": {
    "name": "ipython",
    "version": 3
   },
   "file_extension": ".py",
   "mimetype": "text/x-python",
   "name": "python",
   "nbconvert_exporter": "python",
   "pygments_lexer": "ipython3",
   "version": "3.8.14"
  },
  "orig_nbformat": 4
 },
 "nbformat": 4,
 "nbformat_minor": 2
}
