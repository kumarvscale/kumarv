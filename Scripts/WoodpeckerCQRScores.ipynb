{
 "cells": [
  {
   "cell_type": "code",
   "execution_count": null,
   "metadata": {},
   "outputs": [],
   "source": [
    "import pandas as pd\n",
    "import json\n",
    "import snowflake.connector\n",
    "from pandas.io.json import json_normalize\n",
    "import matplotlib.pyplot as plt\n",
    "\n",
    "\n",
    "#login to snowflake db\n",
    "con = snowflake.connector.connect(user='vishal.kumar@scale.com',\n",
    "                                 account='pxa65918',\n",
    "                                 authenticator='externalbrowser',\n",
    "                                 warehouse='COMPUTE_WH',\n",
    "                                 database='SCALE_CRAWLER',\n",
    "                                 role='GENERAL_RO')\n",
    "\n",
    "cs = con.cursor()"
   ]
  },
  {
   "cell_type": "code",
   "execution_count": null,
   "metadata": {},
   "outputs": [],
   "source": [
    "#Get json data from snowflake\n",
    "sql = f'''\n",
    "select\n",
    "  result, status, created_at, USER_EMAIL, _ID\n",
    "from\n",
    "  PUBLIC.SPOTTERAUDITS\n",
    "where\n",
    "  customer = 'woodpecker'\n",
    "  and cast(created_at as Date) > '2023-05-03'\n",
    "-- \n",
    "\n",
    "'''\n",
    "cs.execute(sql)\n",
    "idf = cs.fetch_pandas_all()"
   ]
  },
  {
   "cell_type": "code",
   "execution_count": null,
   "metadata": {},
   "outputs": [],
   "source": [
    "#iterate through each row of idf\n",
    "for index, row in idf.iterrows():\n",
    "    #save value of current row json key from first row of RESULT column\n",
    "    temp = idf['RESULT'][index]\n",
    "    #convert temp string to dict\n",
    "    temp = json.loads(temp)\n",
    "    print(temp)"
   ]
  },
  {
   "cell_type": "code",
   "execution_count": null,
   "metadata": {},
   "outputs": [],
   "source": [
    "def flatten_json(nested_json, parent_key='', sep='.'):\n",
    "    items = []\n",
    "    for key, value in nested_json.items():\n",
    "        new_key = f\"{parent_key}{sep}{key}\" if parent_key else key\n",
    "        if isinstance(value, dict):\n",
    "            items.extend(flatten_json(value, new_key, sep=sep))\n",
    "        else:\n",
    "            items.append({\n",
    "                'PVID': parent_key.split(sep)[0],\n",
    "                'Attribute': sep.join(parent_key.split(sep)[1:] + [key]),\n",
    "                'AuditKey': '',\n",
    "                'Result': value\n",
    "            })\n",
    "    return items\n",
    "\n",
    "# Flatten the JSON data\n",
    "rows = flatten_json(temp)\n",
    "\n",
    "# Create a DataFrame from the flattened data\n",
    "tdf = pd.DataFrame(rows, columns=['PVID', 'Attribute', 'AuditKey', 'Result'])\n",
    "\n",
    "#split eeach row in Attribute column by . and save first value in Attribute column and second value in AuditKey column\n",
    "tdf[['Attribute', 'AuditKey']] = tdf['Attribute'].str.split('.', 1, expand=True)\n"
   ]
  },
  {
   "cell_type": "code",
   "execution_count": null,
   "metadata": {},
   "outputs": [],
   "source": [
    "#keep only rows where auditkey is result and save it in rdf\n",
    "rdf = tdf[tdf['AuditKey'] == 'result']\n",
    "#count % of good values in result column by Attribute\n",
    "AttScore = rdf.groupby('Attribute')['Result'].value_counts(normalize=True).mul(100).reset_index(name='Score')\n",
    "#remove rows where result is not good\n",
    "AttScore = AttScore[AttScore['Result'] == 'Good']\n",
    "#sort by Score\n",
    "AttScore = AttScore.sort_values(by=['Score'], ascending=True)\n",
    "#plot score by attribute in bar chart, make it wide, label x axis vertically\n",
    "AttScore.plot.bar(x='Attribute', y='Score', rot=90, figsize=(20,10))\n",
    "#add plot title, axes labels, large font\n",
    "plt.title('Woodpecker CQR Scores', fontsize=20)\n",
    "plt.xlabel('Attribute', fontsize=20)\n",
    "plt.ylabel('Accuracy %', fontsize=20)"
   ]
  },
  {
   "cell_type": "code",
   "execution_count": null,
   "metadata": {},
   "outputs": [],
   "source": []
  }
 ],
 "metadata": {
  "kernelspec": {
   "display_name": "base",
   "language": "python",
   "name": "python3"
  },
  "language_info": {
   "codemirror_mode": {
    "name": "ipython",
    "version": 3
   },
   "file_extension": ".py",
   "mimetype": "text/x-python",
   "name": "python",
   "nbconvert_exporter": "python",
   "pygments_lexer": "ipython3",
   "version": "3.9.12"
  },
  "orig_nbformat": 4
 },
 "nbformat": 4,
 "nbformat_minor": 2
}
