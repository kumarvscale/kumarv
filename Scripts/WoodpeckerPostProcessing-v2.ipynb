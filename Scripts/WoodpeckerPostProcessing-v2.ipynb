{
 "cells": [
  {
   "cell_type": "code",
   "execution_count": 77,
   "metadata": {},
   "outputs": [],
   "source": [
    "import pandas as pd\n",
    "import numpy as np\n",
    "from tqdm import tqdm"
   ]
  },
  {
   "cell_type": "code",
   "execution_count": 78,
   "metadata": {},
   "outputs": [
    {
     "data": {
      "text/plain": [
       "['product.product_id',\n",
       " 'product.item_id',\n",
       " 'product.gtin',\n",
       " 'product.product_type',\n",
       " 'product.product_name',\n",
       " 'product.short_description',\n",
       " 'product.long_description',\n",
       " 'attributes_json']"
      ]
     },
     "execution_count": 78,
     "metadata": {},
     "output_type": "execute_result"
    }
   ],
   "source": [
    "#read csv into a dataframe\n",
    "idf = pd.read_csv('Woodpecker QH Delivery Data.csv')\n",
    "#list columnnames of dataframe\n",
    "list(idf.columns.values)\n"
   ]
  },
  {
   "cell_type": "code",
   "execution_count": 89,
   "metadata": {},
   "outputs": [
    {
     "name": "stdout",
     "output_type": "stream",
     "text": [
      "Parsing attribute json...\n"
     ]
    },
    {
     "name": "stderr",
     "output_type": "stream",
     "text": [
      "  0%|          | 0/1011 [00:00<?, ?it/s]\n"
     ]
    },
    {
     "ename": "ValueError",
     "evalue": "Length mismatch: Expected axis has 1 elements, new values have 2 elements",
     "output_type": "error",
     "traceback": [
      "\u001b[0;31m---------------------------------------------------------------------------\u001b[0m",
      "\u001b[0;31mValueError\u001b[0m                                Traceback (most recent call last)",
      "\u001b[1;32m/Users/vishalkumar/Documents/Git-Repo/kumarv/Scripts/WoodpeckerPostProcessing-v2.ipynb Cell 3\u001b[0m in \u001b[0;36m<cell line: 6>\u001b[0;34m()\u001b[0m\n\u001b[1;32m     <a href='vscode-notebook-cell:/Users/vishalkumar/Documents/Git-Repo/kumarv/Scripts/WoodpeckerPostProcessing-v2.ipynb#W2sZmlsZQ%3D%3D?line=21'>22</a>\u001b[0m attribute_json \u001b[39m=\u001b[39m pd\u001b[39m.\u001b[39mDataFrame(attribute_json)\n\u001b[1;32m     <a href='vscode-notebook-cell:/Users/vishalkumar/Documents/Git-Repo/kumarv/Scripts/WoodpeckerPostProcessing-v2.ipynb#W2sZmlsZQ%3D%3D?line=22'>23</a>\u001b[0m \u001b[39m#rename column of attritbue_json to attributes\u001b[39;00m\n\u001b[0;32m---> <a href='vscode-notebook-cell:/Users/vishalkumar/Documents/Git-Repo/kumarv/Scripts/WoodpeckerPostProcessing-v2.ipynb#W2sZmlsZQ%3D%3D?line=23'>24</a>\u001b[0m attribute_json\u001b[39m.\u001b[39mcolumns \u001b[39m=\u001b[39m [\u001b[39m'\u001b[39m\u001b[39mattributes\u001b[39m\u001b[39m'\u001b[39m,\u001b[39m'\u001b[39m\u001b[39mvalues\u001b[39m\u001b[39m'\u001b[39m]\n",
      "File \u001b[0;32m~/opt/anaconda3/lib/python3.9/site-packages/pandas/core/generic.py:5588\u001b[0m, in \u001b[0;36mNDFrame.__setattr__\u001b[0;34m(self, name, value)\u001b[0m\n\u001b[1;32m   5586\u001b[0m \u001b[39mtry\u001b[39;00m:\n\u001b[1;32m   5587\u001b[0m     \u001b[39mobject\u001b[39m\u001b[39m.\u001b[39m\u001b[39m__getattribute__\u001b[39m(\u001b[39mself\u001b[39m, name)\n\u001b[0;32m-> 5588\u001b[0m     \u001b[39mreturn\u001b[39;00m \u001b[39mobject\u001b[39;49m\u001b[39m.\u001b[39;49m\u001b[39m__setattr__\u001b[39;49m(\u001b[39mself\u001b[39;49m, name, value)\n\u001b[1;32m   5589\u001b[0m \u001b[39mexcept\u001b[39;00m \u001b[39mAttributeError\u001b[39;00m:\n\u001b[1;32m   5590\u001b[0m     \u001b[39mpass\u001b[39;00m\n",
      "File \u001b[0;32m~/opt/anaconda3/lib/python3.9/site-packages/pandas/_libs/properties.pyx:70\u001b[0m, in \u001b[0;36mpandas._libs.properties.AxisProperty.__set__\u001b[0;34m()\u001b[0m\n",
      "File \u001b[0;32m~/opt/anaconda3/lib/python3.9/site-packages/pandas/core/generic.py:769\u001b[0m, in \u001b[0;36mNDFrame._set_axis\u001b[0;34m(self, axis, labels)\u001b[0m\n\u001b[1;32m    767\u001b[0m \u001b[39mdef\u001b[39;00m \u001b[39m_set_axis\u001b[39m(\u001b[39mself\u001b[39m, axis: \u001b[39mint\u001b[39m, labels: Index) \u001b[39m-\u001b[39m\u001b[39m>\u001b[39m \u001b[39mNone\u001b[39;00m:\n\u001b[1;32m    768\u001b[0m     labels \u001b[39m=\u001b[39m ensure_index(labels)\n\u001b[0;32m--> 769\u001b[0m     \u001b[39mself\u001b[39;49m\u001b[39m.\u001b[39;49m_mgr\u001b[39m.\u001b[39;49mset_axis(axis, labels)\n\u001b[1;32m    770\u001b[0m     \u001b[39mself\u001b[39m\u001b[39m.\u001b[39m_clear_item_cache()\n",
      "File \u001b[0;32m~/opt/anaconda3/lib/python3.9/site-packages/pandas/core/internals/managers.py:214\u001b[0m, in \u001b[0;36mBaseBlockManager.set_axis\u001b[0;34m(self, axis, new_labels)\u001b[0m\n\u001b[1;32m    212\u001b[0m \u001b[39mdef\u001b[39;00m \u001b[39mset_axis\u001b[39m(\u001b[39mself\u001b[39m, axis: \u001b[39mint\u001b[39m, new_labels: Index) \u001b[39m-\u001b[39m\u001b[39m>\u001b[39m \u001b[39mNone\u001b[39;00m:\n\u001b[1;32m    213\u001b[0m     \u001b[39m# Caller is responsible for ensuring we have an Index object.\u001b[39;00m\n\u001b[0;32m--> 214\u001b[0m     \u001b[39mself\u001b[39;49m\u001b[39m.\u001b[39;49m_validate_set_axis(axis, new_labels)\n\u001b[1;32m    215\u001b[0m     \u001b[39mself\u001b[39m\u001b[39m.\u001b[39maxes[axis] \u001b[39m=\u001b[39m new_labels\n",
      "File \u001b[0;32m~/opt/anaconda3/lib/python3.9/site-packages/pandas/core/internals/base.py:69\u001b[0m, in \u001b[0;36mDataManager._validate_set_axis\u001b[0;34m(self, axis, new_labels)\u001b[0m\n\u001b[1;32m     66\u001b[0m     \u001b[39mpass\u001b[39;00m\n\u001b[1;32m     68\u001b[0m \u001b[39melif\u001b[39;00m new_len \u001b[39m!=\u001b[39m old_len:\n\u001b[0;32m---> 69\u001b[0m     \u001b[39mraise\u001b[39;00m \u001b[39mValueError\u001b[39;00m(\n\u001b[1;32m     70\u001b[0m         \u001b[39mf\u001b[39m\u001b[39m\"\u001b[39m\u001b[39mLength mismatch: Expected axis has \u001b[39m\u001b[39m{\u001b[39;00mold_len\u001b[39m}\u001b[39;00m\u001b[39m elements, new \u001b[39m\u001b[39m\"\u001b[39m\n\u001b[1;32m     71\u001b[0m         \u001b[39mf\u001b[39m\u001b[39m\"\u001b[39m\u001b[39mvalues have \u001b[39m\u001b[39m{\u001b[39;00mnew_len\u001b[39m}\u001b[39;00m\u001b[39m elements\u001b[39m\u001b[39m\"\u001b[39m\n\u001b[1;32m     72\u001b[0m     )\n",
      "\u001b[0;31mValueError\u001b[0m: Length mismatch: Expected axis has 1 elements, new values have 2 elements"
     ]
    }
   ],
   "source": [
    "#create a df with columns itemid, product_type, product_name, short_description, long_description, attribute\n",
    "df = pd.DataFrame(columns=['itemid', 'product_type', 'product_name', 'short_description', 'long_description', 'attribute'])\n",
    "\n",
    "print(\"Parsing attribute json...\")\n",
    "#iterate through each row of idf\n",
    "for index, row in tqdm(idf.iterrows(), total=idf.shape[0]):\n",
    "    #save the value of first row of column 'product.item_id' to a variable\n",
    "    itemid = row['product.item_id']    \n",
    "    #save the value of first row of column 'product.product_type' to a variable\n",
    "    product_type = row['product.product_type']\n",
    "    #save the value of first row of column 'product.product_name' to a variable\n",
    "    product_name = row['product.product_name']\n",
    "    #save the value of first row of column 'product.short_description' to a variable\n",
    "    short_description = row['product.short_description']\n",
    "    #save the value of first row of column 'product.long_description' to a variable\n",
    "    long_description = row['product.long_description']\n",
    "    #save the value of first row of column 'attributes_json' to a variable\n",
    "    attribute_json = row['attributes_json']\n",
    "    #convert the string to a dictionary\n",
    "    attribute_json = pd.read_json(attribute_json, typ='series', orient='main')\n",
    "    #convert attribute_json to a dataframe\n",
    "    attribute_json = pd.DataFrame(attribute_json)\n",
    "    #rename column of attritbue_json to attributes\n",
    "    attribute_json.columns = ['attributes']    \n",
    "    #print(attribute_json)\n",
    "    #iterate through each row of attribute_json\n",
    "    for index, row in attribute_json.iterrows():\n",
    "        #save the value of first row of column 'attributes' to a variable\n",
    "        att_temp = row['attributes']\n",
    "        print(att_temp)\n",
    "        print(\"--------------------------------\")\n"
   ]
  },
  {
   "cell_type": "code",
   "execution_count": 81,
   "metadata": {},
   "outputs": [],
   "source": [
    "#split one columns of attribute_json into two columns called attribue and value, split by space\n",
    "    attribute_json = attribute_json['attributes'].str.split(' ', 1, expand=True)\n",
    "    #rename attribute_json columns to attribute and value\n",
    "    attribute_json.columns = ['attribute', 'value']\n",
    "    #iterate through each row of attribute_json\n",
    "    for index, row in attribute_json.iterrows():\n",
    "        #save the value of first row of column 'attribute' to a variable\n",
    "        attribute = row['attribute']\n",
    "        #save the value of first row of column 'value' to a variable\n",
    "        value = row['value']\n",
    "        #append a row to df with the values of the variables using concat\n",
    "        df = pd.concat([df, pd.DataFrame([[itemid, product_type, product_name, short_description, long_description, attribute, value]], columns=['itemid', 'product_type', 'product_name', 'short_description', 'long_description', 'attribute', 'value'])], ignore_index=True)\n",
    "print(\"Parsing attribute json complete!\")\n",
    "\n",
    "\n",
    "\n",
    "#save df to a csv file\n",
    "df.to_csv('Woodpecker QH Delivery Data - Post Processing.csv', index=False)"
   ]
  },
  {
   "cell_type": "code",
   "execution_count": null,
   "metadata": {},
   "outputs": [],
   "source": []
  }
 ],
 "metadata": {
  "kernelspec": {
   "display_name": "base",
   "language": "python",
   "name": "python3"
  },
  "language_info": {
   "codemirror_mode": {
    "name": "ipython",
    "version": 3
   },
   "file_extension": ".py",
   "mimetype": "text/x-python",
   "name": "python",
   "nbconvert_exporter": "python",
   "pygments_lexer": "ipython3",
   "version": "3.9.12"
  },
  "orig_nbformat": 4
 },
 "nbformat": 4,
 "nbformat_minor": 2
}
