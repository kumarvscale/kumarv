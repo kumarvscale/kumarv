{
 "cells": [
  {
   "cell_type": "code",
   "execution_count": 4,
   "metadata": {},
   "outputs": [
    {
     "ename": "AttributeError",
     "evalue": "'NoneType' object has no attribute 'text'",
     "output_type": "error",
     "traceback": [
      "\u001b[0;31m---------------------------------------------------------------------------\u001b[0m",
      "\u001b[0;31mAttributeError\u001b[0m                            Traceback (most recent call last)",
      "\u001b[1;32m/Users/vishalkumar/Documents/Git-Repo/kumarv/Scripts/getemails.ipynb Cell 1\u001b[0m in \u001b[0;36m<cell line: 25>\u001b[0;34m()\u001b[0m\n\u001b[1;32m     <a href='vscode-notebook-cell:/Users/vishalkumar/Documents/Git-Repo/kumarv/Scripts/getemails.ipynb#W0sZmlsZQ%3D%3D?line=22'>23</a>\u001b[0m   \u001b[39mreturn\u001b[39;00m emails, names\n\u001b[1;32m     <a href='vscode-notebook-cell:/Users/vishalkumar/Documents/Git-Repo/kumarv/Scripts/getemails.ipynb#W0sZmlsZQ%3D%3D?line=24'>25</a>\u001b[0m \u001b[39mif\u001b[39;00m \u001b[39m__name__\u001b[39m \u001b[39m==\u001b[39m \u001b[39m\"\u001b[39m\u001b[39m__main__\u001b[39m\u001b[39m\"\u001b[39m:\n\u001b[0;32m---> <a href='vscode-notebook-cell:/Users/vishalkumar/Documents/Git-Repo/kumarv/Scripts/getemails.ipynb#W0sZmlsZQ%3D%3D?line=25'>26</a>\u001b[0m   emails, names \u001b[39m=\u001b[39m get_emails_and_names()\n\u001b[1;32m     <a href='vscode-notebook-cell:/Users/vishalkumar/Documents/Git-Repo/kumarv/Scripts/getemails.ipynb#W0sZmlsZQ%3D%3D?line=26'>27</a>\u001b[0m   \u001b[39mprint\u001b[39m(\u001b[39m\"\u001b[39m\u001b[39mThe emails and names of the graduate students in the Auburn University Biological Sciences department are:\u001b[39m\u001b[39m\"\u001b[39m)\n\u001b[1;32m     <a href='vscode-notebook-cell:/Users/vishalkumar/Documents/Git-Repo/kumarv/Scripts/getemails.ipynb#W0sZmlsZQ%3D%3D?line=27'>28</a>\u001b[0m   \u001b[39mfor\u001b[39;00m email, name \u001b[39min\u001b[39;00m \u001b[39mzip\u001b[39m(emails, names):\n",
      "\u001b[1;32m/Users/vishalkumar/Documents/Git-Repo/kumarv/Scripts/getemails.ipynb Cell 1\u001b[0m in \u001b[0;36mget_emails_and_names\u001b[0;34m()\u001b[0m\n\u001b[1;32m     <a href='vscode-notebook-cell:/Users/vishalkumar/Documents/Git-Repo/kumarv/Scripts/getemails.ipynb#W0sZmlsZQ%3D%3D?line=17'>18</a>\u001b[0m   \u001b[39mif\u001b[39;00m email:\n\u001b[1;32m     <a href='vscode-notebook-cell:/Users/vishalkumar/Documents/Git-Repo/kumarv/Scripts/getemails.ipynb#W0sZmlsZQ%3D%3D?line=18'>19</a>\u001b[0m     emails\u001b[39m.\u001b[39mappend(email[\u001b[39m0\u001b[39m])\n\u001b[0;32m---> <a href='vscode-notebook-cell:/Users/vishalkumar/Documents/Git-Repo/kumarv/Scripts/getemails.ipynb#W0sZmlsZQ%3D%3D?line=19'>20</a>\u001b[0m     name \u001b[39m=\u001b[39m student\u001b[39m.\u001b[39;49mfind(\u001b[39m\"\u001b[39;49m\u001b[39mtd\u001b[39;49m\u001b[39m\"\u001b[39;49m, class_\u001b[39m=\u001b[39;49m\u001b[39m\"\u001b[39;49m\u001b[39mname\u001b[39;49m\u001b[39m\"\u001b[39;49m)\u001b[39m.\u001b[39;49mtext\n\u001b[1;32m     <a href='vscode-notebook-cell:/Users/vishalkumar/Documents/Git-Repo/kumarv/Scripts/getemails.ipynb#W0sZmlsZQ%3D%3D?line=20'>21</a>\u001b[0m     names\u001b[39m.\u001b[39mappend(name)\n\u001b[1;32m     <a href='vscode-notebook-cell:/Users/vishalkumar/Documents/Git-Repo/kumarv/Scripts/getemails.ipynb#W0sZmlsZQ%3D%3D?line=22'>23</a>\u001b[0m \u001b[39mreturn\u001b[39;00m emails, names\n",
      "\u001b[0;31mAttributeError\u001b[0m: 'NoneType' object has no attribute 'text'"
     ]
    }
   ],
   "source": [
    "import requests\n",
    "from bs4 import BeautifulSoup\n",
    "import re\n",
    "\n",
    "def get_emails_and_names():\n",
    "  \"\"\"Gets the emails and names of all the graduate students in the Auburn University Biological Sciences department.\"\"\"\n",
    "\n",
    "  url = \"https://www.auburn.edu/cosam/departments/biology/graduate-student-directory.htm\"\n",
    "  response = requests.get(url)\n",
    "  soup = BeautifulSoup(response.content, \"html.parser\")\n",
    "\n",
    "  students = soup.find_all(\"tr\")\n",
    "  emails = []\n",
    "  names = []\n",
    "  for student in students:\n",
    "    email_pattern = re.compile(r\"[a-zA-Z0-9._%+-]+@[a-zA-Z0-9.-]+\\.[a-zA-Z]{2,}\")\n",
    "    email = email_pattern.findall(student.text)\n",
    "    if email:\n",
    "      emails.append(email[0])\n",
    "      name = student.find(\"td\", class_=\"name\").text\n",
    "      names.append(name)\n",
    "\n",
    "  return emails, names\n",
    "\n",
    "if __name__ == \"__main__\":\n",
    "  emails, names = get_emails_and_names()\n",
    "  print(\"The emails and names of the graduate students in the Auburn University Biological Sciences department are:\")\n",
    "  for email, name in zip(emails, names):\n",
    "    print(f\"{name} ({email})\")\n"
   ]
  },
  {
   "cell_type": "code",
   "execution_count": 2,
   "metadata": {},
   "outputs": [
    {
     "ename": "NameError",
     "evalue": "name 'response' is not defined",
     "output_type": "error",
     "traceback": [
      "\u001b[0;31m---------------------------------------------------------------------------\u001b[0m",
      "\u001b[0;31mNameError\u001b[0m                                 Traceback (most recent call last)",
      "\u001b[1;32m/Users/vishalkumar/Documents/Git-Repo/kumarv/Scripts/getemails.ipynb Cell 2\u001b[0m in \u001b[0;36m<cell line: 1>\u001b[0;34m()\u001b[0m\n\u001b[0;32m----> <a href='vscode-notebook-cell:/Users/vishalkumar/Documents/Git-Repo/kumarv/Scripts/getemails.ipynb#W1sZmlsZQ%3D%3D?line=0'>1</a>\u001b[0m \u001b[39mprint\u001b[39m(response)\n",
      "\u001b[0;31mNameError\u001b[0m: name 'response' is not defined"
     ]
    }
   ],
   "source": []
  },
  {
   "cell_type": "code",
   "execution_count": null,
   "metadata": {},
   "outputs": [],
   "source": []
  }
 ],
 "metadata": {
  "kernelspec": {
   "display_name": "base",
   "language": "python",
   "name": "python3"
  },
  "language_info": {
   "codemirror_mode": {
    "name": "ipython",
    "version": 3
   },
   "file_extension": ".py",
   "mimetype": "text/x-python",
   "name": "python",
   "nbconvert_exporter": "python",
   "pygments_lexer": "ipython3",
   "version": "3.9.12"
  },
  "orig_nbformat": 4
 },
 "nbformat": 4,
 "nbformat_minor": 2
}
